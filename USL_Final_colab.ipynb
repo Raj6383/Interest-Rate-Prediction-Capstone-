{
 "cells": [
  {
   "cell_type": "markdown",
   "id": "blond-steam",
   "metadata": {
    "id": "blond-steam"
   },
   "source": [
    "# <center>Unsupervised Learning<center>\n",
    "    \n",
    "###### Importing Libraries"
   ]
  },
  {
   "cell_type": "code",
   "execution_count": 1,
   "id": "wrong-palestinian",
   "metadata": {
    "id": "wrong-palestinian"
   },
   "outputs": [],
   "source": [
    "import pandas as pd\n",
    "import numpy as np\n",
    "import matplotlib.pyplot as plt\n",
    "import seaborn as sns\n",
    "import warnings\n",
    "warnings.simplefilter('ignore')\n",
    "import scipy.stats as stats"
   ]
  },
  {
   "cell_type": "markdown",
   "id": "manual-camel",
   "metadata": {
    "id": "manual-camel"
   },
   "source": [
    "###### Read the data"
   ]
  },
  {
   "cell_type": "code",
   "execution_count": 3,
   "id": "trying-honey",
   "metadata": {
    "colab": {
     "base_uri": "https://localhost:8080/",
     "height": 226
    },
    "id": "trying-honey",
    "outputId": "0dfe8025-2c95-4e54-cbdb-f2e003ad8e8d"
   },
   "outputs": [
    {
     "data": {
      "text/html": [
       "<div>\n",
       "<style scoped>\n",
       "    .dataframe tbody tr th:only-of-type {\n",
       "        vertical-align: middle;\n",
       "    }\n",
       "\n",
       "    .dataframe tbody tr th {\n",
       "        vertical-align: top;\n",
       "    }\n",
       "\n",
       "    .dataframe thead th {\n",
       "        text-align: right;\n",
       "    }\n",
       "</style>\n",
       "<table border=\"1\" class=\"dataframe\">\n",
       "  <thead>\n",
       "    <tr style=\"text-align: right;\">\n",
       "      <th></th>\n",
       "      <th>Loan_Amount_Requested</th>\n",
       "      <th>Length_Employed</th>\n",
       "      <th>Annual_Income</th>\n",
       "      <th>Debt_To_Income</th>\n",
       "      <th>Inquiries_Last_6Mo</th>\n",
       "      <th>Number_Open_Accounts</th>\n",
       "      <th>Total_Accounts</th>\n",
       "      <th>Home_Owner</th>\n",
       "      <th>Income_Verified</th>\n",
       "      <th>Purpose_Of_Loan</th>\n",
       "      <th>Gender</th>\n",
       "      <th>Months_Since_Deliquency</th>\n",
       "      <th>Interest_Rate</th>\n",
       "    </tr>\n",
       "  </thead>\n",
       "  <tbody>\n",
       "    <tr>\n",
       "      <th>0</th>\n",
       "      <td>7000.0</td>\n",
       "      <td>0.0</td>\n",
       "      <td>68000.0</td>\n",
       "      <td>18.0</td>\n",
       "      <td>0.0</td>\n",
       "      <td>9.0</td>\n",
       "      <td>14.0</td>\n",
       "      <td>Rent</td>\n",
       "      <td>not verified</td>\n",
       "      <td>car</td>\n",
       "      <td>Female</td>\n",
       "      <td>360.0</td>\n",
       "      <td>1</td>\n",
       "    </tr>\n",
       "    <tr>\n",
       "      <th>1</th>\n",
       "      <td>30000.0</td>\n",
       "      <td>4.0</td>\n",
       "      <td>98367.0</td>\n",
       "      <td>15.0</td>\n",
       "      <td>0.0</td>\n",
       "      <td>12.0</td>\n",
       "      <td>24.0</td>\n",
       "      <td>Mortgage</td>\n",
       "      <td>VERIFIED - income</td>\n",
       "      <td>debt_consolidation</td>\n",
       "      <td>Female</td>\n",
       "      <td>17.0</td>\n",
       "      <td>3</td>\n",
       "    </tr>\n",
       "    <tr>\n",
       "      <th>2</th>\n",
       "      <td>24725.0</td>\n",
       "      <td>7.0</td>\n",
       "      <td>75566.0</td>\n",
       "      <td>16.0</td>\n",
       "      <td>0.0</td>\n",
       "      <td>12.0</td>\n",
       "      <td>16.0</td>\n",
       "      <td>Mortgage</td>\n",
       "      <td>VERIFIED - income</td>\n",
       "      <td>debt_consolidation</td>\n",
       "      <td>Male</td>\n",
       "      <td>360.0</td>\n",
       "      <td>3</td>\n",
       "    </tr>\n",
       "    <tr>\n",
       "      <th>3</th>\n",
       "      <td>17000.0</td>\n",
       "      <td>8.0</td>\n",
       "      <td>96000.0</td>\n",
       "      <td>22.0</td>\n",
       "      <td>1.0</td>\n",
       "      <td>19.0</td>\n",
       "      <td>30.0</td>\n",
       "      <td>Own</td>\n",
       "      <td>VERIFIED - income</td>\n",
       "      <td>debt_consolidation</td>\n",
       "      <td>Female</td>\n",
       "      <td>360.0</td>\n",
       "      <td>1</td>\n",
       "    </tr>\n",
       "    <tr>\n",
       "      <th>4</th>\n",
       "      <td>4500.0</td>\n",
       "      <td>2.0</td>\n",
       "      <td>30000.0</td>\n",
       "      <td>11.0</td>\n",
       "      <td>1.0</td>\n",
       "      <td>12.0</td>\n",
       "      <td>15.0</td>\n",
       "      <td>Rent</td>\n",
       "      <td>VERIFIED - income</td>\n",
       "      <td>credit_card</td>\n",
       "      <td>Male</td>\n",
       "      <td>360.0</td>\n",
       "      <td>3</td>\n",
       "    </tr>\n",
       "  </tbody>\n",
       "</table>\n",
       "</div>"
      ],
      "text/plain": [
       "   Loan_Amount_Requested  Length_Employed  Annual_Income  Debt_To_Income  \\\n",
       "0                 7000.0              0.0        68000.0            18.0   \n",
       "1                30000.0              4.0        98367.0            15.0   \n",
       "2                24725.0              7.0        75566.0            16.0   \n",
       "3                17000.0              8.0        96000.0            22.0   \n",
       "4                 4500.0              2.0        30000.0            11.0   \n",
       "\n",
       "   Inquiries_Last_6Mo  Number_Open_Accounts  Total_Accounts Home_Owner  \\\n",
       "0                 0.0                   9.0            14.0       Rent   \n",
       "1                 0.0                  12.0            24.0   Mortgage   \n",
       "2                 0.0                  12.0            16.0   Mortgage   \n",
       "3                 1.0                  19.0            30.0        Own   \n",
       "4                 1.0                  12.0            15.0       Rent   \n",
       "\n",
       "     Income_Verified     Purpose_Of_Loan  Gender  Months_Since_Deliquency  \\\n",
       "0       not verified                 car  Female                    360.0   \n",
       "1  VERIFIED - income  debt_consolidation  Female                     17.0   \n",
       "2  VERIFIED - income  debt_consolidation    Male                    360.0   \n",
       "3  VERIFIED - income  debt_consolidation  Female                    360.0   \n",
       "4  VERIFIED - income         credit_card    Male                    360.0   \n",
       "\n",
       "   Interest_Rate  \n",
       "0              1  \n",
       "1              3  \n",
       "2              3  \n",
       "3              1  \n",
       "4              3  "
      ]
     },
     "execution_count": 3,
     "metadata": {},
     "output_type": "execute_result"
    }
   ],
   "source": [
    "df = pd.read_csv('Data/filled_train_28-03.csv')\n",
    "df['Months_Since_Deliquency'] = df['Months_Since_Deliquency'].fillna(360)\n",
    "df.head()"
   ]
  },
  {
   "cell_type": "code",
   "execution_count": 4,
   "id": "honey-dining",
   "metadata": {},
   "outputs": [
    {
     "data": {
      "text/plain": [
       "debt_consolidation    84501\n",
       "credit_card           32206\n",
       "home_improvement       7493\n",
       "other                  7214\n",
       "major_purchase         2940\n",
       "small_business         1909\n",
       "car                    1623\n",
       "medical                1327\n",
       "moving                  841\n",
       "vacation                739\n",
       "wedding                 707\n",
       "house                   596\n",
       "educational             104\n",
       "renewable_energy         99\n",
       "Name: Purpose_Of_Loan, dtype: int64"
      ]
     },
     "execution_count": 4,
     "metadata": {},
     "output_type": "execute_result"
    }
   ],
   "source": [
    "df['Purpose_Of_Loan'].value_counts()"
   ]
  },
  {
   "cell_type": "code",
   "execution_count": 64,
   "id": "royal-cricket",
   "metadata": {
    "colab": {
     "base_uri": "https://localhost:8080/",
     "height": 356
    },
    "id": "royal-cricket",
    "outputId": "debc7adc-de97-43b2-f214-370934c36d8e"
   },
   "outputs": [
    {
     "data": {
      "image/png": "[encoded data removed]",
      "text/plain": [
       "<Figure size 1080x432 with 8 Axes>"
      ]
     },
     "metadata": {
      "needs_background": "light",
      "tags": []
     },
     "output_type": "display_data"
    }
   ],
   "source": [
    "data_dist = df.select_dtypes(np.number).drop('Interest_Rate',axis = 1)\n",
    "fig,ax = plt.subplots(nrows = 2,ncols = 4,figsize = (15,6))\n",
    "for variables,plotsubs in zip(data_dist.columns,ax.flatten()):\n",
    "    plt.title(variables)\n",
    "    plotsubs.tick_params(labelsize = 10)\n",
    "    plotsubs.set_xlabel(variables,fontsize = 10)\n",
    "    sns.distplot(df[variables],ax = plotsubs)\n",
    "    plt.tight_layout()\n",
    "    plt.subplots_adjust(top = 0.92) \n",
    "fig.suptitle('Distributions of numerical features',fontsize = 15)\n",
    "plt.show()"
   ]
  },
  {
   "cell_type": "markdown",
   "id": "altered-retirement",
   "metadata": {
    "id": "altered-retirement"
   },
   "source": [
    "###### Making same transformations as in Classification notebook"
   ]
  },
  {
   "cell_type": "code",
   "execution_count": 65,
   "id": "satisfied-trust",
   "metadata": {
    "id": "satisfied-trust"
   },
   "outputs": [],
   "source": [
    "data1 = df.copy()"
   ]
  },
  {
   "cell_type": "code",
   "execution_count": 66,
   "id": "alternate-rochester",
   "metadata": {
    "id": "alternate-rochester"
   },
   "outputs": [],
   "source": [
    "data1['Loan_Amount_Requested'] = np.sqrt(data1['Loan_Amount_Requested'])\n",
    "data1['Annual_Income'] = stats.boxcox(data1['Annual_Income'])[0]\n",
    "data1['Number_Open_Accounts'] = np.sqrt(data1['Number_Open_Accounts'])\n",
    "data1['Total_Accounts'] = np.sqrt(data1['Total_Accounts'])\n",
    "data1['Months_Since_Deliquency'] = np.log(abs(df['Months_Since_Deliquency']-np.mean(df['Months_Since_Deliquency'])))\n",
    "#Months_Since_Deliquency is sort of multi-modal"
   ]
  },
  {
   "cell_type": "code",
   "execution_count": 39,
   "id": "nearby-certificate",
   "metadata": {
    "id": "nearby-certificate"
   },
   "outputs": [],
   "source": [
    "# def emp(x):\n",
    "#     if x>=10:\n",
    "#         return '10+yrs'\n",
    "#     elif x>=6 and x<=9:\n",
    "#         return '6-9 yrs'\n",
    "#     elif x>=2 and x<=5:\n",
    "#         return '2-5 yrs'\n",
    "#     else:\n",
    "#         return '0-1 yrs'\n",
    "\n",
    "# data1['Length_Employed'] = data1['Length_Employed'].apply(emp)"
   ]
  },
  {
   "cell_type": "code",
   "execution_count": null,
   "id": "central-announcement",
   "metadata": {
    "id": "central-announcement",
    "outputId": "416f2272-c772-480b-83de-fb961248dd96"
   },
   "outputs": [
    {
     "data": {
      "image/png": "[encoded data removed]",
      "text/plain": [
       "<Figure size 1080x432 with 8 Axes>"
      ]
     },
     "metadata": {
      "needs_background": "light",
      "tags": []
     },
     "output_type": "display_data"
    }
   ],
   "source": [
    "data_dist = data1.select_dtypes(np.number).drop('Interest_Rate',axis = 1)\n",
    "fig,ax = plt.subplots(nrows = 2,ncols = 4,figsize = (15,6))\n",
    "for variables,plotsubs in zip(data_dist.columns,ax.flatten()):\n",
    "    plt.title(variables)\n",
    "    plotsubs.tick_params(labelsize = 10)\n",
    "    plotsubs.set_xlabel(variables,fontsize = 10)\n",
    "    sns.distplot(data_dist[variables],ax = plotsubs)\n",
    "    plt.tight_layout()\n",
    "    plt.subplots_adjust(top = 0.92) \n",
    "fig.suptitle('Distributions of numerical features',fontsize = 15)\n",
    "plt.show()"
   ]
  },
  {
   "cell_type": "code",
   "execution_count": 67,
   "id": "animal-amino",
   "metadata": {
    "id": "animal-amino"
   },
   "outputs": [],
   "source": [
    "#Instead of using OneHotEncoder, we will be using label encoder here since magnitude would not matter in USL\n",
    "data1.drop('Interest_Rate',axis = 1,inplace = True)"
   ]
  },
  {
   "cell_type": "code",
   "execution_count": 68,
   "id": "thorough-broadcasting",
   "metadata": {
    "id": "thorough-broadcasting"
   },
   "outputs": [],
   "source": [
    "from sklearn.preprocessing import LabelEncoder\n",
    "le = LabelEncoder()\n",
    "for i in data1.select_dtypes('object').columns:\n",
    "    data1[i] = le.fit_transform(data1[i])"
   ]
  },
  {
   "cell_type": "markdown",
   "id": "regular-decrease",
   "metadata": {
    "id": "regular-decrease"
   },
   "source": [
    "###### Standardizing the dataset"
   ]
  },
  {
   "cell_type": "code",
   "execution_count": 69,
   "id": "suspected-gates",
   "metadata": {
    "id": "suspected-gates"
   },
   "outputs": [],
   "source": [
    "from sklearn.preprocessing import StandardScaler\n",
    "ss = StandardScaler()\n",
    "data_scaled = pd.DataFrame(ss.fit_transform(data1),columns = data1.columns)"
   ]
  },
  {
   "cell_type": "markdown",
   "id": "blessed-flood",
   "metadata": {
    "id": "blessed-flood"
   },
   "source": [
    "###### Data is now ready for applying Unsupervised learning techniques"
   ]
  },
  {
   "cell_type": "markdown",
   "id": "english-survivor",
   "metadata": {
    "id": "english-survivor"
   },
   "source": [
    "###### K-Means Clustering"
   ]
  },
  {
   "cell_type": "code",
   "execution_count": 70,
   "id": "fitting-national",
   "metadata": {
    "id": "fitting-national"
   },
   "outputs": [],
   "source": [
    "from sklearn.cluster import KMeans\n",
    "wcv = []\n",
    "for i in range(1,10):\n",
    "    km = KMeans(n_clusters = i)\n",
    "    km.fit(data_scaled)\n",
    "    wcv.append(km.inertia_)"
   ]
  },
  {
   "cell_type": "code",
   "execution_count": null,
   "id": "funny-kidney",
   "metadata": {
    "id": "funny-kidney",
    "outputId": "692a81ff-cede-4d27-bfae-c20d5437b6a8"
   },
   "outputs": [
    {
     "data": {
      "image/png": "[encoded data removed]",
      "text/plain": [
       "<Figure size 1080x432 with 1 Axes>"
      ]
     },
     "metadata": {
      "needs_background": "light",
      "tags": []
     },
     "output_type": "display_data"
    }
   ],
   "source": [
    "plt.figure(figsize = (15,6))\n",
    "plt.title('Within Cluster Variation')\n",
    "plt.plot(range(1,10),wcv,color = 'b')\n",
    "plt.xlabel('No. of clusters')\n",
    "plt.ylabel('WCV')\n",
    "plt.show()"
   ]
  },
  {
   "cell_type": "code",
   "execution_count": null,
   "id": "extraordinary-regression",
   "metadata": {
    "id": "extraordinary-regression"
   },
   "outputs": [],
   "source": [
    "#Optimum number of clusters are 2,3 or 4. Since our dataset had 3 clusters in the begining we will be going with\n",
    "#3 clusters.\n",
    "from sklearn.cluster import KMeans\n",
    "km = KMeans(n_clusters = 3)\n",
    "km.fit(data_scaled)\n",
    "target1 = pd.Series(km.predict(data_scaled),name = 'Interest_Rate')"
   ]
  },
  {
   "cell_type": "code",
   "execution_count": null,
   "id": "directed-passing",
   "metadata": {
    "id": "directed-passing",
    "outputId": "d52c5ad8-b597-446a-a501-62beac491b99"
   },
   "outputs": [
    {
     "data": {
      "image/png": "[encoded data removed]",
      "text/plain": [
       "<Figure size 1080x288 with 2 Axes>"
      ]
     },
     "metadata": {
      "needs_background": "light",
      "tags": []
     },
     "output_type": "display_data"
    }
   ],
   "source": [
    "fig,ax = plt.subplots(1,2,figsize = (15,4))\n",
    "comp = 'Loan_Amount_Requested'\n",
    "targ = 'Interest_Rate'\n",
    "sns.boxplot(df[targ],data1[comp],ax = ax[0])\n",
    "sns.boxplot(target1,data1[comp],ax = ax[1])\n",
    "plt.show()"
   ]
  },
  {
   "cell_type": "code",
   "execution_count": null,
   "id": "structural-medicaid",
   "metadata": {
    "id": "structural-medicaid",
    "outputId": "a4ef0fca-1c9e-4d29-c07b-1d7deeadc1e7"
   },
   "outputs": [
    {
     "data": {
      "text/plain": [
       "2    62405\n",
       "3    49957\n",
       "1    29937\n",
       "Name: Interest_Rate, dtype: int64"
      ]
     },
     "execution_count": 46,
     "metadata": {
      "tags": []
     },
     "output_type": "execute_result"
    }
   ],
   "source": [
    "df['Interest_Rate'].value_counts()"
   ]
  },
  {
   "cell_type": "code",
   "execution_count": null,
   "id": "hybrid-citizenship",
   "metadata": {
    "id": "hybrid-citizenship",
    "outputId": "9426f0c2-740a-4dc8-9d85-769388f7a327"
   },
   "outputs": [
    {
     "data": {
      "text/plain": [
       "1    68290\n",
       "2    59513\n",
       "0    14496\n",
       "Name: Interest_Rate, dtype: int64"
      ]
     },
     "execution_count": 48,
     "metadata": {
      "tags": []
     },
     "output_type": "execute_result"
    }
   ],
   "source": [
    "#Using loan amount requested to rename the predicted target\n",
    "target1.value_counts()"
   ]
  },
  {
   "cell_type": "code",
   "execution_count": null,
   "id": "canadian-female",
   "metadata": {
    "id": "canadian-female",
    "outputId": "35c4182c-ada2-4369-c8f8-a6b3f786282f"
   },
   "outputs": [
    {
     "data": {
      "text/plain": [
       "2    68290\n",
       "3    59513\n",
       "1    14496\n",
       "Name: Interest_Rate, dtype: int64"
      ]
     },
     "execution_count": 49,
     "metadata": {
      "tags": []
     },
     "output_type": "execute_result"
    }
   ],
   "source": [
    "target1.map({0:1,1:2,2:3}).value_counts()"
   ]
  },
  {
   "cell_type": "code",
   "execution_count": null,
   "id": "enabling-sweden",
   "metadata": {
    "id": "enabling-sweden",
    "outputId": "286e9b5d-0a62-4c69-f79c-14c24f3fdf08"
   },
   "outputs": [
    {
     "data": {
      "text/plain": [
       "(48874, 13)"
      ]
     },
     "execution_count": 53,
     "metadata": {
      "tags": []
     },
     "output_type": "execute_result"
    }
   ],
   "source": [
    "df[df['Interest_Rate']==target1.map({0:1,1:2,2:3})].shape\n",
    "#We see 48874 values that match with the original target variable. This could explain the low accuracy in the \n",
    "#classification models."
   ]
  },
  {
   "cell_type": "code",
   "execution_count": null,
   "id": "infrared-outline",
   "metadata": {
    "id": "infrared-outline"
   },
   "outputs": [],
   "source": [
    "target1 = target1.map({0:1,1:2,2:3})"
   ]
  },
  {
   "cell_type": "code",
   "execution_count": null,
   "id": "subjective-worse",
   "metadata": {
    "id": "subjective-worse"
   },
   "outputs": [],
   "source": []
  },
  {
   "cell_type": "markdown",
   "id": "phantom-thong",
   "metadata": {
    "id": "phantom-thong"
   },
   "source": [
    "###### Hierarchial Clustering"
   ]
  },
  {
   "cell_type": "code",
   "execution_count": 71,
   "id": "clinical-mouth",
   "metadata": {
    "id": "clinical-mouth"
   },
   "outputs": [],
   "source": [
    "from sklearn.cluster import AgglomerativeClustering\n",
    "import scipy.cluster.hierarchy as sch"
   ]
  },
  {
   "cell_type": "code",
   "execution_count": 72,
   "id": "prospective-gates",
   "metadata": {
    "colab": {
     "base_uri": "https://localhost:8080/",
     "height": 369
    },
    "id": "prospective-gates",
    "outputId": "c9201994-b0bb-47ce-ea89-e003568af229"
   },
   "outputs": [
    {
     "data": {
      "image/png": "[encoded data removed]",
      "text/plain": [
       "<Figure size 1080x432 with 1 Axes>"
      ]
     },
     "metadata": {
      "needs_background": "light",
      "tags": []
     },
     "output_type": "display_data"
    }
   ],
   "source": [
    "X_a = data_scaled.sample(35000)\n",
    "plt.figure(figsize = (15,6))\n",
    "sch.dendrogram(sch.linkage(X_a,'ward'),p = 10, truncate_mode = 'level')\n",
    "plt.show()"
   ]
  },
  {
   "cell_type": "markdown",
   "id": "approved-genesis",
   "metadata": {
    "id": "approved-genesis"
   },
   "source": [
    "###### Trying KMeans with PCA"
   ]
  },
  {
   "cell_type": "code",
   "execution_count": 73,
   "id": "other-conservation",
   "metadata": {
    "colab": {
     "base_uri": "https://localhost:8080/"
    },
    "id": "other-conservation",
    "outputId": "fee7464a-5b37-4aba-cbbc-0f0dfa3266a1"
   },
   "outputs": [
    {
     "data": {
      "text/plain": [
       "10"
      ]
     },
     "execution_count": 73,
     "metadata": {
      "tags": []
     },
     "output_type": "execute_result"
    }
   ],
   "source": [
    "from sklearn.decomposition import PCA\n",
    "pca = PCA()\n",
    "pca.fit(data_scaled)\n",
    "len(np.cumsum(pca.explained_variance_ratio_)[np.cumsum(pca.explained_variance_ratio_)<=0.95])\n",
    "#10 components tends to preserve 95% of variance"
   ]
  },
  {
   "cell_type": "code",
   "execution_count": 74,
   "id": "sacred-bernard",
   "metadata": {
    "id": "sacred-bernard"
   },
   "outputs": [],
   "source": [
    "pca = PCA(n_components = 0.95)\n",
    "X_pca = pca.fit_transform(data_scaled)"
   ]
  },
  {
   "cell_type": "code",
   "execution_count": null,
   "id": "stunning-calculation",
   "metadata": {
    "id": "stunning-calculation"
   },
   "outputs": [],
   "source": [
    "from sklearn.cluster import KMeans\n",
    "wcv = []\n",
    "for i in range(1,10):\n",
    "    km = KMeans(n_clusters = i)\n",
    "    km.fit(X_pca)\n",
    "    wcv.append(km.inertia_)"
   ]
  },
  {
   "cell_type": "code",
   "execution_count": null,
   "id": "aggregate-gambling",
   "metadata": {
    "id": "aggregate-gambling",
    "outputId": "0cca9c3b-c80f-4933-b092-4af6a9b7ed37"
   },
   "outputs": [
    {
     "data": {
      "image/png": "[encoded data removed]",
      "text/plain": [
       "<Figure size 1080x432 with 1 Axes>"
      ]
     },
     "metadata": {
      "needs_background": "light",
      "tags": []
     },
     "output_type": "display_data"
    }
   ],
   "source": [
    "plt.figure(figsize = (15,6))\n",
    "plt.title('Within Cluster Variation')\n",
    "plt.plot(range(1,10),wcv,color = 'b')\n",
    "plt.xlabel('No. of clusters')\n",
    "plt.ylabel('WCV')\n",
    "plt.show()"
   ]
  },
  {
   "cell_type": "code",
   "execution_count": null,
   "id": "front-giant",
   "metadata": {
    "id": "front-giant"
   },
   "outputs": [],
   "source": [
    "#Optimum number of clusters are 2,3 or 4. Since our dataset had 3 clusters in the begining we will be going with\n",
    "#3 clusters.\n",
    "km = KMeans(n_clusters = 3)\n",
    "km.fit(X_pca)\n",
    "target2 = pd.Series(km.predict(X_pca))"
   ]
  },
  {
   "cell_type": "code",
   "execution_count": null,
   "id": "insured-daughter",
   "metadata": {
    "id": "insured-daughter",
    "outputId": "1ccde04d-57d4-4493-b221-f7879d3233e6",
    "scrolled": true
   },
   "outputs": [
    {
     "data": {
      "image/png": "[encoded data removed]",
      "text/plain": [
       "<Figure size 1080x288 with 2 Axes>"
      ]
     },
     "metadata": {
      "needs_background": "light",
      "tags": []
     },
     "output_type": "display_data"
    }
   ],
   "source": [
    "fig,ax = plt.subplots(1,2,figsize = (15,4))\n",
    "comp = 'Loan_Amount_Requested'\n",
    "targ = 'Interest_Rate'\n",
    "sns.boxplot(df[targ],data1[comp],ax = ax[0])\n",
    "sns.boxplot(target2,data1[comp],ax = ax[1])\n",
    "plt.show()"
   ]
  },
  {
   "cell_type": "code",
   "execution_count": null,
   "id": "moral-sleep",
   "metadata": {
    "id": "moral-sleep",
    "outputId": "7bba1d1c-ea17-42c9-a92a-b00bcc8674db"
   },
   "outputs": [
    {
     "data": {
      "text/plain": [
       "1    62784\n",
       "2    46022\n",
       "0    33493\n",
       "dtype: int64"
      ]
     },
     "execution_count": 59,
     "metadata": {
      "tags": []
     },
     "output_type": "execute_result"
    }
   ],
   "source": [
    "#Using loan amount requested to rename the predicted target\n",
    "target2.value_counts()"
   ]
  },
  {
   "cell_type": "code",
   "execution_count": null,
   "id": "tough-strategy",
   "metadata": {
    "id": "tough-strategy",
    "outputId": "a318abb5-513d-4ff1-eee0-d0e1c4791a22"
   },
   "outputs": [
    {
     "data": {
      "text/plain": [
       "2    62405\n",
       "3    49957\n",
       "1    29937\n",
       "Name: Interest_Rate, dtype: int64"
      ]
     },
     "execution_count": 60,
     "metadata": {
      "tags": []
     },
     "output_type": "execute_result"
    }
   ],
   "source": [
    "df['Interest_Rate'].value_counts()"
   ]
  },
  {
   "cell_type": "code",
   "execution_count": null,
   "id": "compliant-typing",
   "metadata": {
    "id": "compliant-typing",
    "outputId": "fbfa97a5-8c0a-4a45-c1a0-2421870576c7"
   },
   "outputs": [
    {
     "data": {
      "text/plain": [
       "2    62784\n",
       "3    46022\n",
       "1    33493\n",
       "dtype: int64"
      ]
     },
     "execution_count": 68,
     "metadata": {
      "tags": []
     },
     "output_type": "execute_result"
    }
   ],
   "source": [
    "target2.map({0:1,1:2,2:3}).value_counts()"
   ]
  },
  {
   "cell_type": "code",
   "execution_count": null,
   "id": "cubic-jason",
   "metadata": {
    "id": "cubic-jason",
    "outputId": "0163f27e-9b63-42e7-df30-888091e6df33"
   },
   "outputs": [
    {
     "data": {
      "text/plain": [
       "(52818, 13)"
      ]
     },
     "execution_count": 69,
     "metadata": {
      "tags": []
     },
     "output_type": "execute_result"
    }
   ],
   "source": [
    "df[df['Interest_Rate']==target2.map({0:1,1:2,2:3})].shape\n",
    "#In case of PCA data, we see 52K targets that match with the original target. \n",
    "#This is better than before but still this is not great for our original target."
   ]
  },
  {
   "cell_type": "code",
   "execution_count": null,
   "id": "specified-learning",
   "metadata": {
    "id": "specified-learning"
   },
   "outputs": [],
   "source": [
    "target2 = pd.Series(target2.map({0:1,1:2,2:3}),name = 'Interest_Rate')"
   ]
  },
  {
   "cell_type": "markdown",
   "id": "according-pixel",
   "metadata": {
    "id": "according-pixel"
   },
   "source": [
    "###### Hierarchial Clustering"
   ]
  },
  {
   "cell_type": "code",
   "execution_count": 75,
   "id": "optional-details",
   "metadata": {
    "id": "optional-details"
   },
   "outputs": [],
   "source": [
    "from sklearn.cluster import AgglomerativeClustering\n",
    "import scipy.cluster.hierarchy as sch"
   ]
  },
  {
   "cell_type": "code",
   "execution_count": 76,
   "id": "premium-facing",
   "metadata": {
    "colab": {
     "base_uri": "https://localhost:8080/",
     "height": 369
    },
    "id": "premium-facing",
    "outputId": "e3dffff3-2b0e-456c-a7e9-77b40fb78e1a"
   },
   "outputs": [
    {
     "data": {
      "image/png": "[encoded data removed]",
      "text/plain": [
       "<Figure size 1080x432 with 1 Axes>"
      ]
     },
     "metadata": {
      "needs_background": "light",
      "tags": []
     },
     "output_type": "display_data"
    }
   ],
   "source": [
    "X_a_pca = pd.DataFrame(X_pca).sample(35000)\n",
    "plt.figure(figsize = (15,6))\n",
    "sch.dendrogram(sch.linkage(X_a_pca,'ward'),p = 10, truncate_mode = 'level')\n",
    "plt.show()"
   ]
  },
  {
   "cell_type": "markdown",
   "id": "quick-liverpool",
   "metadata": {
    "id": "quick-liverpool"
   },
   "source": [
    "###### Inference\n",
    "\n",
    "* The mismatch in the original target variable and our created target variable could explain the underperformance of all ML algorithms in classification. Not reducing dimensions tends to better mimic the original target variable."
   ]
  },
  {
   "cell_type": "code",
   "execution_count": null,
   "id": "abandoned-lambda",
   "metadata": {
    "id": "abandoned-lambda"
   },
   "outputs": [],
   "source": [
    "df_class = pd.concat((data1,target2),axis = 1)"
   ]
  },
  {
   "cell_type": "code",
   "execution_count": null,
   "id": "first-denver",
   "metadata": {
    "id": "first-denver"
   },
   "outputs": [],
   "source": [
    "df_class.to_csv('Data/clusters_obtained.csv',index = False)"
   ]
  },
  {
   "cell_type": "markdown",
   "id": "informal-potato",
   "metadata": {
    "id": "informal-potato"
   },
   "source": [
    "# Applying Classification Algorithm the data with new target"
   ]
  },
  {
   "cell_type": "code",
   "execution_count": 2,
   "id": "JoqYK1Ff1pZa",
   "metadata": {
    "colab": {
     "base_uri": "https://localhost:8080/"
    },
    "id": "JoqYK1Ff1pZa",
    "outputId": "23093950-6334-42f4-9db6-a16720d75cac"
   },
   "outputs": [],
   "source": [
    "# !unzip Data.zip"
   ]
  },
  {
   "cell_type": "code",
   "execution_count": 3,
   "id": "settled-indiana",
   "metadata": {
    "colab": {
     "base_uri": "https://localhost:8080/",
     "height": 226
    },
    "id": "settled-indiana",
    "outputId": "e1f70df5-0d0d-44de-a391-d2ef78f4b2eb"
   },
   "outputs": [
    {
     "data": {
      "text/html": [
       "<div>\n",
       "<style scoped>\n",
       "    .dataframe tbody tr th:only-of-type {\n",
       "        vertical-align: middle;\n",
       "    }\n",
       "\n",
       "    .dataframe tbody tr th {\n",
       "        vertical-align: top;\n",
       "    }\n",
       "\n",
       "    .dataframe thead th {\n",
       "        text-align: right;\n",
       "    }\n",
       "</style>\n",
       "<table border=\"1\" class=\"dataframe\">\n",
       "  <thead>\n",
       "    <tr style=\"text-align: right;\">\n",
       "      <th></th>\n",
       "      <th>Loan_Amount_Requested</th>\n",
       "      <th>Length_Employed</th>\n",
       "      <th>Annual_Income</th>\n",
       "      <th>Debt_To_Income</th>\n",
       "      <th>Inquiries_Last_6Mo</th>\n",
       "      <th>Number_Open_Accounts</th>\n",
       "      <th>Total_Accounts</th>\n",
       "      <th>Home_Owner</th>\n",
       "      <th>Income_Verified</th>\n",
       "      <th>Purpose_Of_Loan</th>\n",
       "      <th>Gender</th>\n",
       "      <th>Months_Since_Deliquency</th>\n",
       "      <th>Interest_Rate</th>\n",
       "    </tr>\n",
       "  </thead>\n",
       "  <tbody>\n",
       "    <tr>\n",
       "      <th>0</th>\n",
       "      <td>83.666003</td>\n",
       "      <td>0.0</td>\n",
       "      <td>84.824098</td>\n",
       "      <td>18.0</td>\n",
       "      <td>0.0</td>\n",
       "      <td>3.000000</td>\n",
       "      <td>3.741657</td>\n",
       "      <td>4</td>\n",
       "      <td>1</td>\n",
       "      <td>0</td>\n",
       "      <td>0</td>\n",
       "      <td>4.995113</td>\n",
       "      <td>3</td>\n",
       "    </tr>\n",
       "    <tr>\n",
       "      <th>1</th>\n",
       "      <td>173.205081</td>\n",
       "      <td>4.0</td>\n",
       "      <td>94.869560</td>\n",
       "      <td>15.0</td>\n",
       "      <td>0.0</td>\n",
       "      <td>3.464102</td>\n",
       "      <td>4.898979</td>\n",
       "      <td>0</td>\n",
       "      <td>0</td>\n",
       "      <td>2</td>\n",
       "      <td>0</td>\n",
       "      <td>5.274590</td>\n",
       "      <td>2</td>\n",
       "    </tr>\n",
       "    <tr>\n",
       "      <th>2</th>\n",
       "      <td>157.241852</td>\n",
       "      <td>7.0</td>\n",
       "      <td>87.584961</td>\n",
       "      <td>16.0</td>\n",
       "      <td>0.0</td>\n",
       "      <td>3.464102</td>\n",
       "      <td>4.000000</td>\n",
       "      <td>0</td>\n",
       "      <td>0</td>\n",
       "      <td>2</td>\n",
       "      <td>1</td>\n",
       "      <td>4.995113</td>\n",
       "      <td>2</td>\n",
       "    </tr>\n",
       "    <tr>\n",
       "      <th>3</th>\n",
       "      <td>130.384048</td>\n",
       "      <td>8.0</td>\n",
       "      <td>94.172943</td>\n",
       "      <td>22.0</td>\n",
       "      <td>1.0</td>\n",
       "      <td>4.358899</td>\n",
       "      <td>5.477226</td>\n",
       "      <td>3</td>\n",
       "      <td>0</td>\n",
       "      <td>2</td>\n",
       "      <td>0</td>\n",
       "      <td>4.995113</td>\n",
       "      <td>2</td>\n",
       "    </tr>\n",
       "    <tr>\n",
       "      <th>4</th>\n",
       "      <td>67.082039</td>\n",
       "      <td>2.0</td>\n",
       "      <td>66.067455</td>\n",
       "      <td>11.0</td>\n",
       "      <td>1.0</td>\n",
       "      <td>3.464102</td>\n",
       "      <td>3.872983</td>\n",
       "      <td>4</td>\n",
       "      <td>0</td>\n",
       "      <td>1</td>\n",
       "      <td>1</td>\n",
       "      <td>4.995113</td>\n",
       "      <td>3</td>\n",
       "    </tr>\n",
       "  </tbody>\n",
       "</table>\n",
       "</div>"
      ],
      "text/plain": [
       "   Loan_Amount_Requested  Length_Employed  Annual_Income  Debt_To_Income  \\\n",
       "0              83.666003              0.0      84.824098            18.0   \n",
       "1             173.205081              4.0      94.869560            15.0   \n",
       "2             157.241852              7.0      87.584961            16.0   \n",
       "3             130.384048              8.0      94.172943            22.0   \n",
       "4              67.082039              2.0      66.067455            11.0   \n",
       "\n",
       "   Inquiries_Last_6Mo  Number_Open_Accounts  Total_Accounts  Home_Owner  \\\n",
       "0                 0.0              3.000000        3.741657           4   \n",
       "1                 0.0              3.464102        4.898979           0   \n",
       "2                 0.0              3.464102        4.000000           0   \n",
       "3                 1.0              4.358899        5.477226           3   \n",
       "4                 1.0              3.464102        3.872983           4   \n",
       "\n",
       "   Income_Verified  Purpose_Of_Loan  Gender  Months_Since_Deliquency  \\\n",
       "0                1                0       0                 4.995113   \n",
       "1                0                2       0                 5.274590   \n",
       "2                0                2       1                 4.995113   \n",
       "3                0                2       0                 4.995113   \n",
       "4                0                1       1                 4.995113   \n",
       "\n",
       "   Interest_Rate  \n",
       "0              3  \n",
       "1              2  \n",
       "2              2  \n",
       "3              2  \n",
       "4              3  "
      ]
     },
     "execution_count": 3,
     "metadata": {},
     "output_type": "execute_result"
    }
   ],
   "source": [
    "df = pd.read_csv('Data/clusters_obtained.csv')\n",
    "df.head()"
   ]
  },
  {
   "cell_type": "markdown",
   "id": "three-warren",
   "metadata": {
    "id": "three-warren"
   },
   "source": [
    "###### Train_Test_Split"
   ]
  },
  {
   "cell_type": "code",
   "execution_count": 4,
   "id": "amateur-ecuador",
   "metadata": {
    "colab": {
     "base_uri": "https://localhost:8080/"
    },
    "id": "amateur-ecuador",
    "outputId": "26cd4a45-96fd-48d1-e67d-a5521415485f"
   },
   "outputs": [
    {
     "data": {
      "text/plain": [
       "(2.090715835522097, 2.077371749824315)"
      ]
     },
     "execution_count": 4,
     "metadata": {},
     "output_type": "execute_result"
    }
   ],
   "source": [
    "from sklearn.model_selection import train_test_split\n",
    "X = df.drop('Interest_Rate',axis =1)\n",
    "y = df['Interest_Rate']\n",
    "\n",
    "X_train,X_test,y_train,y_test = train_test_split(X,y,test_size = 0.2,random_state = 1)\n",
    "np.mean(y_train),np.mean(y_test) #Train,test split is ok"
   ]
  },
  {
   "cell_type": "markdown",
   "id": "sexual-baker",
   "metadata": {
    "id": "sexual-baker"
   },
   "source": [
    "###### Standardizing for LogisticRegression"
   ]
  },
  {
   "cell_type": "code",
   "execution_count": 5,
   "id": "smooth-lying",
   "metadata": {
    "colab": {
     "base_uri": "https://localhost:8080/"
    },
    "id": "smooth-lying",
    "outputId": "1b9a0051-311c-416d-833d-12c0bc62f2a5"
   },
   "outputs": [
    {
     "data": {
      "text/plain": [
       "(2.090715835522097, 2.077371749824315)"
      ]
     },
     "execution_count": 5,
     "metadata": {},
     "output_type": "execute_result"
    }
   ],
   "source": [
    "from sklearn.preprocessing import StandardScaler\n",
    "\n",
    "ss = StandardScaler()\n",
    "X_scaled = pd.DataFrame(ss.fit_transform(X),columns = X.columns)\n",
    "\n",
    "X_train_s,X_test_s,y_train,y_test = train_test_split(X_scaled,y,test_size = 0.2,random_state = 1)\n",
    "np.mean(y_train),np.mean(y_test) #Train,test split is ok"
   ]
  },
  {
   "cell_type": "markdown",
   "id": "seasonal-witness",
   "metadata": {
    "id": "seasonal-witness"
   },
   "source": [
    "###### Logistic Regression (Unscaled data)"
   ]
  },
  {
   "cell_type": "code",
   "execution_count": 80,
   "id": "catholic-graphic",
   "metadata": {
    "id": "catholic-graphic"
   },
   "outputs": [],
   "source": [
    "#Applying logistic regression from sklearn\n",
    "from sklearn.linear_model import LinearRegression\n",
    "lr = LinearRegression()\n",
    "lr.fit(X_train,y_train)\n",
    "pred = lr.predict(X_test)\n",
    "\n",
    "p_const = [1 if i<=1 else 2 if i>1 and i<=2.5 else 3 for i in pred]"
   ]
  },
  {
   "cell_type": "code",
   "execution_count": 81,
   "id": "younger-harmony",
   "metadata": {
    "colab": {
     "base_uri": "https://localhost:8080/"
    },
    "id": "younger-harmony",
    "outputId": "461e4a86-e4ce-413d-9178-07ec6ad8765f",
    "scrolled": true
   },
   "outputs": [
    {
     "name": "stdout",
     "output_type": "stream",
     "text": [
      "              precision    recall  f1-score   support\n",
      "\n",
      "           1       0.98      0.16      0.27      6849\n",
      "           2       0.59      0.96      0.73     12560\n",
      "           3       0.93      0.71      0.81      9051\n",
      "\n",
      "    accuracy                           0.69     28460\n",
      "   macro avg       0.83      0.61      0.60     28460\n",
      "weighted avg       0.79      0.69      0.64     28460\n",
      "\n"
     ]
    }
   ],
   "source": [
    "from sklearn.metrics import classification_report\n",
    "print(classification_report(y_test,p_const))\n",
    "#Immediately we see an improvement in accuracy to 69% as compared to 46% which we achieved from our base model"
   ]
  },
  {
   "cell_type": "markdown",
   "id": "sitting-protest",
   "metadata": {
    "id": "sitting-protest"
   },
   "source": [
    "###### Logistic Regression (scaled data)"
   ]
  },
  {
   "cell_type": "code",
   "execution_count": 82,
   "id": "descending-electricity",
   "metadata": {
    "id": "descending-electricity"
   },
   "outputs": [],
   "source": [
    "#Applying logistic regression from sklearn\n",
    "from sklearn.linear_model import LinearRegression\n",
    "lr = LinearRegression()\n",
    "lr.fit(X_train_s,y_train)\n",
    "pred = lr.predict(X_test_s)\n",
    "\n",
    "p_const_s = [1 if i<=1 else 2 if i>1 and i<=2.5 else 3 for i in pred]"
   ]
  },
  {
   "cell_type": "code",
   "execution_count": 83,
   "id": "detected-arthur",
   "metadata": {
    "colab": {
     "base_uri": "https://localhost:8080/"
    },
    "id": "detected-arthur",
    "outputId": "69278943-556a-4809-b8ef-9e9dabc3ed2a",
    "scrolled": true
   },
   "outputs": [
    {
     "name": "stdout",
     "output_type": "stream",
     "text": [
      "              precision    recall  f1-score   support\n",
      "\n",
      "           1       0.98      0.16      0.27      6849\n",
      "           2       0.59      0.96      0.73     12560\n",
      "           3       0.93      0.71      0.81      9051\n",
      "\n",
      "    accuracy                           0.69     28460\n",
      "   macro avg       0.83      0.61      0.60     28460\n",
      "weighted avg       0.79      0.69      0.64     28460\n",
      "\n"
     ]
    }
   ],
   "source": [
    "from sklearn.metrics import classification_report\n",
    "print(classification_report(y_test,p_const_s))\n",
    "#Immediately we see an improvement in accuracy to 69% as compared to 46% which we achieved from our base model"
   ]
  },
  {
   "cell_type": "markdown",
   "id": "official-lancaster",
   "metadata": {
    "id": "official-lancaster"
   },
   "source": [
    "###### Initializing model_function"
   ]
  },
  {
   "cell_type": "code",
   "execution_count": 84,
   "id": "practical-sodium",
   "metadata": {
    "id": "practical-sodium"
   },
   "outputs": [],
   "source": [
    "from sklearn.model_selection import cross_val_score\n",
    "\n",
    "def model_function(estimator,X,y,n):\n",
    "    \n",
    "    f1 = cross_val_score(estimator,X,y,cv = 5,scoring = 'f1_weighted',n_jobs = -1)\n",
    "    accuracy = cross_val_score(estimator,X,y,cv = 5,scoring = 'accuracy',n_jobs = -1)\n",
    "    recall = cross_val_score(estimator,X,y,cv = 5,scoring = 'recall_weighted',n_jobs = -1)\n",
    "    precision = cross_val_score(estimator,X,y,cv = 5,scoring = 'precision_weighted',n_jobs = -1)\n",
    "    print('{} Models score computed'.format(n))\n",
    "    return round(np.mean(f1),2),round(np.mean(accuracy),2),round(np.mean(recall),2),round(np.mean(precision),2),estimator"
   ]
  },
  {
   "cell_type": "code",
   "execution_count": 85,
   "id": "coral-adelaide",
   "metadata": {
    "id": "coral-adelaide"
   },
   "outputs": [],
   "source": [
    "# !pip install catboost"
   ]
  },
  {
   "cell_type": "code",
   "execution_count": 6,
   "id": "british-commissioner",
   "metadata": {
    "id": "british-commissioner"
   },
   "outputs": [],
   "source": [
    "from sklearn.tree import DecisionTreeClassifier\n",
    "from sklearn.naive_bayes import MultinomialNB\n",
    "from sklearn.ensemble import ExtraTreesClassifier\n",
    "from sklearn.ensemble import RandomForestClassifier\n",
    "from sklearn.ensemble import GradientBoostingClassifier\n",
    "from sklearn.ensemble import AdaBoostClassifier\n",
    "from lightgbm import LGBMClassifier\n",
    "from xgboost import XGBClassifier\n",
    "from catboost import CatBoostClassifier"
   ]
  },
  {
   "cell_type": "code",
   "execution_count": 86,
   "id": "outstanding-korean",
   "metadata": {
    "id": "outstanding-korean"
   },
   "outputs": [],
   "source": []
  },
  {
   "cell_type": "code",
   "execution_count": 87,
   "id": "fantastic-houston",
   "metadata": {
    "id": "fantastic-houston"
   },
   "outputs": [],
   "source": [
    "f1_all = []\n",
    "accuracy_all = []\n",
    "recall_all = []\n",
    "precision_all = []\n",
    "model_name = []"
   ]
  },
  {
   "cell_type": "code",
   "execution_count": 88,
   "id": "drawn-think",
   "metadata": {
    "id": "drawn-think"
   },
   "outputs": [],
   "source": [
    "#Creating a list with all models\n",
    "dtc  =   DecisionTreeClassifier(random_state=5)\n",
    "nb   =   MultinomialNB()\n",
    "etc  =   ExtraTreesClassifier(random_state=5)\n",
    "rfc  =   RandomForestClassifier(random_state=5)\n",
    "gbc  =   GradientBoostingClassifier(random_state=5)\n",
    "abc  =   AdaBoostClassifier(random_state=5)\n",
    "lgbc =   LGBMClassifier(objective='multiclass', random_state=5,task_type = 'GPU')\n",
    "xgbc =   XGBClassifier(random_state=5,task_type = 'GPU')\n",
    "cbc  =   CatBoostClassifier(random_state = 5,task_type = 'GPU')\n",
    "\n",
    "models = [dtc,nb,etc,rfc,gbc,abc,lgbc,xgbc,cbc]"
   ]
  },
  {
   "cell_type": "markdown",
   "id": "fatal-welsh",
   "metadata": {
    "id": "fatal-welsh"
   },
   "source": [
    "###### Running all models to see which algorithm gives us good scores."
   ]
  },
  {
   "cell_type": "code",
   "execution_count": 89,
   "id": "sensitive-aruba",
   "metadata": {
    "colab": {
     "base_uri": "https://localhost:8080/"
    },
    "id": "sensitive-aruba",
    "outputId": "c99769cd-fa27-4413-c781-1cbc4a4a5f3b"
   },
   "outputs": [
    {
     "name": "stdout",
     "output_type": "stream",
     "text": [
      "1 Models score computed\n",
      "2 Models score computed\n",
      "3 Models score computed\n",
      "4 Models score computed\n",
      "5 Models score computed\n",
      "6 Models score computed\n",
      "7 Models score computed\n",
      "8 Models score computed\n",
      "9 Models score computed\n"
     ]
    }
   ],
   "source": [
    "n = 1\n",
    "for i in models:\n",
    "    f1,accuracy,recall,precision,estimator = model_function(i,X,y,n)\n",
    "    f1_all.append(f1)\n",
    "    accuracy_all.append(accuracy)\n",
    "    model_name.append(estimator)\n",
    "    recall_all.append(recall)\n",
    "    precision_all.append(precision)\n",
    "    n+=1"
   ]
  },
  {
   "cell_type": "code",
   "execution_count": 91,
   "id": "tight-craft",
   "metadata": {
    "id": "tight-craft"
   },
   "outputs": [],
   "source": [
    "model_metrics = pd.DataFrame({'Model':model_name,'Precision':precision_all,'Recall':recall_all,'F1 Score': f1_all,'Accuracy':accuracy_all})"
   ]
  },
  {
   "cell_type": "code",
   "execution_count": 93,
   "id": "architectural-margin",
   "metadata": {
    "colab": {
     "base_uri": "https://localhost:8080/",
     "height": 331
    },
    "id": "architectural-margin",
    "outputId": "32db1c55-fc18-40e8-ac4b-dcb714081ce0"
   },
   "outputs": [
    {
     "data": {
      "text/html": [
       "<div>\n",
       "<style scoped>\n",
       "    .dataframe tbody tr th:only-of-type {\n",
       "        vertical-align: middle;\n",
       "    }\n",
       "\n",
       "    .dataframe tbody tr th {\n",
       "        vertical-align: top;\n",
       "    }\n",
       "\n",
       "    .dataframe thead th {\n",
       "        text-align: right;\n",
       "    }\n",
       "</style>\n",
       "<table border=\"1\" class=\"dataframe\">\n",
       "  <thead>\n",
       "    <tr style=\"text-align: right;\">\n",
       "      <th></th>\n",
       "      <th>Model</th>\n",
       "      <th>Precision</th>\n",
       "      <th>Recall</th>\n",
       "      <th>F1 Score</th>\n",
       "      <th>Accuracy</th>\n",
       "    </tr>\n",
       "  </thead>\n",
       "  <tbody>\n",
       "    <tr>\n",
       "      <th>8</th>\n",
       "      <td>&lt;catboost.core.CatBoostClassifier object at 0x...</td>\n",
       "      <td>0.99</td>\n",
       "      <td>0.99</td>\n",
       "      <td>0.99</td>\n",
       "      <td>0.99</td>\n",
       "    </tr>\n",
       "    <tr>\n",
       "      <th>2</th>\n",
       "      <td>ExtraTreesClassifier(bootstrap=False, ccp_alph...</td>\n",
       "      <td>0.97</td>\n",
       "      <td>0.97</td>\n",
       "      <td>0.97</td>\n",
       "      <td>0.97</td>\n",
       "    </tr>\n",
       "    <tr>\n",
       "      <th>3</th>\n",
       "      <td>RandomForestClassifier(bootstrap=True, ccp_alp...</td>\n",
       "      <td>0.97</td>\n",
       "      <td>0.97</td>\n",
       "      <td>0.97</td>\n",
       "      <td>0.97</td>\n",
       "    </tr>\n",
       "    <tr>\n",
       "      <th>4</th>\n",
       "      <td>GradientBoostingClassifier(ccp_alpha=0.0, crit...</td>\n",
       "      <td>0.97</td>\n",
       "      <td>0.97</td>\n",
       "      <td>0.97</td>\n",
       "      <td>0.97</td>\n",
       "    </tr>\n",
       "    <tr>\n",
       "      <th>7</th>\n",
       "      <td>XGBClassifier(base_score=0.5, booster='gbtree'...</td>\n",
       "      <td>0.97</td>\n",
       "      <td>0.97</td>\n",
       "      <td>0.97</td>\n",
       "      <td>0.97</td>\n",
       "    </tr>\n",
       "    <tr>\n",
       "      <th>0</th>\n",
       "      <td>DecisionTreeClassifier(ccp_alpha=0.0, class_we...</td>\n",
       "      <td>0.94</td>\n",
       "      <td>0.94</td>\n",
       "      <td>0.94</td>\n",
       "      <td>0.94</td>\n",
       "    </tr>\n",
       "    <tr>\n",
       "      <th>5</th>\n",
       "      <td>AdaBoostClassifier(algorithm='SAMME.R', base_e...</td>\n",
       "      <td>0.93</td>\n",
       "      <td>0.93</td>\n",
       "      <td>0.93</td>\n",
       "      <td>0.93</td>\n",
       "    </tr>\n",
       "    <tr>\n",
       "      <th>1</th>\n",
       "      <td>MultinomialNB(alpha=1.0, class_prior=None, fit...</td>\n",
       "      <td>0.72</td>\n",
       "      <td>0.72</td>\n",
       "      <td>0.72</td>\n",
       "      <td>0.72</td>\n",
       "    </tr>\n",
       "    <tr>\n",
       "      <th>6</th>\n",
       "      <td>LGBMClassifier(boosting_type='gbdt', class_wei...</td>\n",
       "      <td>NaN</td>\n",
       "      <td>NaN</td>\n",
       "      <td>NaN</td>\n",
       "      <td>NaN</td>\n",
       "    </tr>\n",
       "  </tbody>\n",
       "</table>\n",
       "</div>"
      ],
      "text/plain": [
       "                                               Model  ...  Accuracy\n",
       "8  <catboost.core.CatBoostClassifier object at 0x...  ...      0.99\n",
       "2  ExtraTreesClassifier(bootstrap=False, ccp_alph...  ...      0.97\n",
       "3  RandomForestClassifier(bootstrap=True, ccp_alp...  ...      0.97\n",
       "4  GradientBoostingClassifier(ccp_alpha=0.0, crit...  ...      0.97\n",
       "7  XGBClassifier(base_score=0.5, booster='gbtree'...  ...      0.97\n",
       "0  DecisionTreeClassifier(ccp_alpha=0.0, class_we...  ...      0.94\n",
       "5  AdaBoostClassifier(algorithm='SAMME.R', base_e...  ...      0.93\n",
       "1  MultinomialNB(alpha=1.0, class_prior=None, fit...  ...      0.72\n",
       "6  LGBMClassifier(boosting_type='gbdt', class_wei...  ...       NaN\n",
       "\n",
       "[9 rows x 5 columns]"
      ]
     },
     "execution_count": 93,
     "metadata": {
      "tags": []
     },
     "output_type": "execute_result"
    }
   ],
   "source": [
    "#On our classified data, all algorithms seem to do very well.\n",
    "model_metrics.sort_values('F1 Score',ascending = False)"
   ]
  },
  {
   "cell_type": "code",
   "execution_count": 16,
   "id": "hdJkdwetFAtu",
   "metadata": {
    "id": "hdJkdwetFAtu"
   },
   "outputs": [
    {
     "name": "stdout",
     "output_type": "stream",
     "text": [
      "Learning rate set to 0.100738\n",
      "0:\tlearn: 0.9524493\ttotal: 75.6ms\tremaining: 1m 15s\n",
      "1:\tlearn: 0.8420026\ttotal: 140ms\tremaining: 1m 9s\n",
      "2:\tlearn: 0.7530242\ttotal: 209ms\tremaining: 1m 9s\n",
      "3:\tlearn: 0.6813398\ttotal: 273ms\tremaining: 1m 7s\n",
      "4:\tlearn: 0.6206730\ttotal: 341ms\tremaining: 1m 7s\n",
      "5:\tlearn: 0.5702266\ttotal: 401ms\tremaining: 1m 6s\n",
      "6:\tlearn: 0.5262388\ttotal: 472ms\tremaining: 1m 7s\n",
      "7:\tlearn: 0.4879733\ttotal: 547ms\tremaining: 1m 7s\n",
      "8:\tlearn: 0.4545016\ttotal: 616ms\tremaining: 1m 7s\n",
      "9:\tlearn: 0.4257314\ttotal: 679ms\tremaining: 1m 7s\n",
      "10:\tlearn: 0.3988999\ttotal: 754ms\tremaining: 1m 7s\n",
      "11:\tlearn: 0.3752800\ttotal: 830ms\tremaining: 1m 8s\n",
      "12:\tlearn: 0.3540594\ttotal: 912ms\tremaining: 1m 9s\n",
      "13:\tlearn: 0.3348530\ttotal: 985ms\tremaining: 1m 9s\n",
      "14:\tlearn: 0.3172432\ttotal: 1.05s\tremaining: 1m 8s\n",
      "15:\tlearn: 0.3012737\ttotal: 1.11s\tremaining: 1m 8s\n",
      "16:\tlearn: 0.2866366\ttotal: 1.18s\tremaining: 1m 8s\n",
      "17:\tlearn: 0.2745410\ttotal: 1.24s\tremaining: 1m 7s\n",
      "18:\tlearn: 0.2627384\ttotal: 1.3s\tremaining: 1m 7s\n",
      "19:\tlearn: 0.2526319\ttotal: 1.35s\tremaining: 1m 6s\n",
      "20:\tlearn: 0.2430606\ttotal: 1.41s\tremaining: 1m 5s\n",
      "21:\tlearn: 0.2341044\ttotal: 1.46s\tremaining: 1m 5s\n",
      "22:\tlearn: 0.2256739\ttotal: 1.53s\tremaining: 1m 5s\n",
      "23:\tlearn: 0.2178166\ttotal: 1.6s\tremaining: 1m 5s\n",
      "24:\tlearn: 0.2106014\ttotal: 1.66s\tremaining: 1m 4s\n",
      "25:\tlearn: 0.2040061\ttotal: 1.72s\tremaining: 1m 4s\n",
      "26:\tlearn: 0.1980810\ttotal: 1.77s\tremaining: 1m 3s\n",
      "27:\tlearn: 0.1926111\ttotal: 1.83s\tremaining: 1m 3s\n",
      "28:\tlearn: 0.1876642\ttotal: 1.88s\tremaining: 1m 3s\n",
      "29:\tlearn: 0.1823402\ttotal: 1.94s\tremaining: 1m 2s\n",
      "30:\tlearn: 0.1776045\ttotal: 2.01s\tremaining: 1m 2s\n",
      "31:\tlearn: 0.1731039\ttotal: 2.07s\tremaining: 1m 2s\n",
      "32:\tlearn: 0.1690936\ttotal: 2.13s\tremaining: 1m 2s\n",
      "33:\tlearn: 0.1652197\ttotal: 2.19s\tremaining: 1m 2s\n",
      "34:\tlearn: 0.1618078\ttotal: 2.25s\tremaining: 1m 2s\n",
      "35:\tlearn: 0.1583399\ttotal: 2.31s\tremaining: 1m 1s\n",
      "36:\tlearn: 0.1552735\ttotal: 2.37s\tremaining: 1m 1s\n",
      "37:\tlearn: 0.1521645\ttotal: 2.43s\tremaining: 1m 1s\n",
      "38:\tlearn: 0.1494727\ttotal: 2.5s\tremaining: 1m 1s\n",
      "39:\tlearn: 0.1469222\ttotal: 2.55s\tremaining: 1m 1s\n",
      "40:\tlearn: 0.1444292\ttotal: 2.61s\tremaining: 1m 1s\n",
      "41:\tlearn: 0.1418738\ttotal: 2.68s\tremaining: 1m 1s\n",
      "42:\tlearn: 0.1396620\ttotal: 2.73s\tremaining: 1m\n",
      "43:\tlearn: 0.1375641\ttotal: 2.79s\tremaining: 1m\n",
      "44:\tlearn: 0.1354874\ttotal: 2.85s\tremaining: 1m\n",
      "45:\tlearn: 0.1336365\ttotal: 2.92s\tremaining: 1m\n",
      "46:\tlearn: 0.1317036\ttotal: 2.97s\tremaining: 1m\n",
      "47:\tlearn: 0.1302397\ttotal: 3.02s\tremaining: 60s\n",
      "48:\tlearn: 0.1287321\ttotal: 3.08s\tremaining: 59.8s\n",
      "49:\tlearn: 0.1271278\ttotal: 3.15s\tremaining: 59.9s\n",
      "50:\tlearn: 0.1255556\ttotal: 3.22s\tremaining: 59.9s\n",
      "51:\tlearn: 0.1240391\ttotal: 3.28s\tremaining: 59.8s\n",
      "52:\tlearn: 0.1226381\ttotal: 3.35s\tremaining: 59.9s\n",
      "53:\tlearn: 0.1212031\ttotal: 3.41s\tremaining: 59.7s\n",
      "54:\tlearn: 0.1200022\ttotal: 3.47s\tremaining: 59.6s\n",
      "55:\tlearn: 0.1185611\ttotal: 3.53s\tremaining: 59.4s\n",
      "56:\tlearn: 0.1173232\ttotal: 3.59s\tremaining: 59.4s\n",
      "57:\tlearn: 0.1161505\ttotal: 3.65s\tremaining: 59.3s\n",
      "58:\tlearn: 0.1151259\ttotal: 3.71s\tremaining: 59.2s\n",
      "59:\tlearn: 0.1139527\ttotal: 3.77s\tremaining: 59.1s\n",
      "60:\tlearn: 0.1128717\ttotal: 3.83s\tremaining: 59s\n",
      "61:\tlearn: 0.1117391\ttotal: 3.91s\tremaining: 59.1s\n",
      "62:\tlearn: 0.1106122\ttotal: 3.99s\tremaining: 59.3s\n",
      "63:\tlearn: 0.1096003\ttotal: 4.06s\tremaining: 59.4s\n",
      "64:\tlearn: 0.1084610\ttotal: 4.13s\tremaining: 59.4s\n",
      "65:\tlearn: 0.1075281\ttotal: 4.19s\tremaining: 59.3s\n",
      "66:\tlearn: 0.1066915\ttotal: 4.25s\tremaining: 59.1s\n",
      "67:\tlearn: 0.1056864\ttotal: 4.32s\tremaining: 59.1s\n",
      "68:\tlearn: 0.1048761\ttotal: 4.39s\tremaining: 59.2s\n",
      "69:\tlearn: 0.1039550\ttotal: 4.44s\tremaining: 59s\n",
      "70:\tlearn: 0.1031476\ttotal: 4.5s\tremaining: 58.9s\n",
      "71:\tlearn: 0.1022376\ttotal: 4.55s\tremaining: 58.7s\n",
      "72:\tlearn: 0.1014141\ttotal: 4.61s\tremaining: 58.5s\n",
      "73:\tlearn: 0.1006269\ttotal: 4.67s\tremaining: 58.4s\n",
      "74:\tlearn: 0.0999728\ttotal: 4.75s\tremaining: 58.6s\n",
      "75:\tlearn: 0.0992695\ttotal: 4.81s\tremaining: 58.5s\n",
      "76:\tlearn: 0.0985007\ttotal: 4.88s\tremaining: 58.6s\n",
      "77:\tlearn: 0.0977520\ttotal: 4.95s\tremaining: 58.5s\n",
      "78:\tlearn: 0.0970473\ttotal: 5.01s\tremaining: 58.4s\n",
      "79:\tlearn: 0.0963385\ttotal: 5.08s\tremaining: 58.4s\n",
      "80:\tlearn: 0.0956280\ttotal: 5.13s\tremaining: 58.3s\n",
      "81:\tlearn: 0.0949751\ttotal: 5.2s\tremaining: 58.2s\n",
      "82:\tlearn: 0.0943403\ttotal: 5.25s\tremaining: 58s\n",
      "83:\tlearn: 0.0936214\ttotal: 5.31s\tremaining: 57.9s\n",
      "84:\tlearn: 0.0930330\ttotal: 5.38s\tremaining: 57.9s\n",
      "85:\tlearn: 0.0924675\ttotal: 5.43s\tremaining: 57.7s\n",
      "86:\tlearn: 0.0918305\ttotal: 5.5s\tremaining: 57.7s\n",
      "87:\tlearn: 0.0913439\ttotal: 5.56s\tremaining: 57.6s\n",
      "88:\tlearn: 0.0908515\ttotal: 5.61s\tremaining: 57.4s\n",
      "89:\tlearn: 0.0903599\ttotal: 5.67s\tremaining: 57.3s\n",
      "90:\tlearn: 0.0897875\ttotal: 5.72s\tremaining: 57.2s\n",
      "91:\tlearn: 0.0892526\ttotal: 5.79s\tremaining: 57.1s\n",
      "92:\tlearn: 0.0886796\ttotal: 5.85s\tremaining: 57s\n",
      "93:\tlearn: 0.0882016\ttotal: 5.9s\tremaining: 56.9s\n",
      "94:\tlearn: 0.0876357\ttotal: 5.97s\tremaining: 56.8s\n",
      "95:\tlearn: 0.0871373\ttotal: 6.03s\tremaining: 56.7s\n",
      "96:\tlearn: 0.0865788\ttotal: 6.09s\tremaining: 56.7s\n",
      "97:\tlearn: 0.0861827\ttotal: 6.17s\tremaining: 56.8s\n",
      "98:\tlearn: 0.0855714\ttotal: 6.25s\tremaining: 56.9s\n",
      "99:\tlearn: 0.0851210\ttotal: 6.31s\tremaining: 56.8s\n",
      "100:\tlearn: 0.0846777\ttotal: 6.37s\tremaining: 56.7s\n",
      "101:\tlearn: 0.0842894\ttotal: 6.43s\tremaining: 56.6s\n",
      "102:\tlearn: 0.0838148\ttotal: 6.49s\tremaining: 56.5s\n",
      "103:\tlearn: 0.0833529\ttotal: 6.55s\tremaining: 56.4s\n",
      "104:\tlearn: 0.0828462\ttotal: 6.6s\tremaining: 56.3s\n",
      "105:\tlearn: 0.0823762\ttotal: 6.67s\tremaining: 56.2s\n",
      "106:\tlearn: 0.0819786\ttotal: 6.72s\tremaining: 56.1s\n",
      "107:\tlearn: 0.0816256\ttotal: 6.77s\tremaining: 55.9s\n",
      "108:\tlearn: 0.0811897\ttotal: 6.83s\tremaining: 55.8s\n",
      "109:\tlearn: 0.0807280\ttotal: 6.9s\tremaining: 55.8s\n",
      "110:\tlearn: 0.0803319\ttotal: 6.96s\tremaining: 55.7s\n",
      "111:\tlearn: 0.0799683\ttotal: 7.03s\tremaining: 55.7s\n",
      "112:\tlearn: 0.0796484\ttotal: 7.09s\tremaining: 55.7s\n",
      "113:\tlearn: 0.0792490\ttotal: 7.15s\tremaining: 55.6s\n",
      "114:\tlearn: 0.0788171\ttotal: 7.21s\tremaining: 55.5s\n",
      "115:\tlearn: 0.0784356\ttotal: 7.28s\tremaining: 55.5s\n",
      "116:\tlearn: 0.0780799\ttotal: 7.34s\tremaining: 55.4s\n",
      "117:\tlearn: 0.0778198\ttotal: 7.4s\tremaining: 55.3s\n",
      "118:\tlearn: 0.0774882\ttotal: 7.46s\tremaining: 55.2s\n",
      "119:\tlearn: 0.0770680\ttotal: 7.52s\tremaining: 55.1s\n",
      "120:\tlearn: 0.0767404\ttotal: 7.58s\tremaining: 55s\n",
      "121:\tlearn: 0.0763672\ttotal: 7.63s\tremaining: 54.9s\n",
      "122:\tlearn: 0.0760986\ttotal: 7.69s\tremaining: 54.8s\n",
      "123:\tlearn: 0.0756227\ttotal: 7.75s\tremaining: 54.7s\n",
      "124:\tlearn: 0.0752274\ttotal: 7.81s\tremaining: 54.7s\n",
      "125:\tlearn: 0.0748527\ttotal: 7.87s\tremaining: 54.6s\n",
      "126:\tlearn: 0.0745992\ttotal: 7.94s\tremaining: 54.6s\n",
      "127:\tlearn: 0.0743167\ttotal: 8s\tremaining: 54.5s\n",
      "128:\tlearn: 0.0739569\ttotal: 8.06s\tremaining: 54.4s\n",
      "129:\tlearn: 0.0736227\ttotal: 8.12s\tremaining: 54.4s\n",
      "130:\tlearn: 0.0733890\ttotal: 8.19s\tremaining: 54.3s\n",
      "131:\tlearn: 0.0731559\ttotal: 8.25s\tremaining: 54.2s\n",
      "132:\tlearn: 0.0728058\ttotal: 8.31s\tremaining: 54.2s\n",
      "133:\tlearn: 0.0724982\ttotal: 8.37s\tremaining: 54.1s\n",
      "134:\tlearn: 0.0722502\ttotal: 8.43s\tremaining: 54s\n",
      "135:\tlearn: 0.0719791\ttotal: 8.48s\tremaining: 53.9s\n",
      "136:\tlearn: 0.0716443\ttotal: 8.53s\tremaining: 53.8s\n",
      "137:\tlearn: 0.0713860\ttotal: 8.59s\tremaining: 53.7s\n",
      "138:\tlearn: 0.0711369\ttotal: 8.65s\tremaining: 53.6s\n",
      "139:\tlearn: 0.0707990\ttotal: 8.71s\tremaining: 53.5s\n",
      "140:\tlearn: 0.0705417\ttotal: 8.77s\tremaining: 53.4s\n",
      "141:\tlearn: 0.0701912\ttotal: 8.82s\tremaining: 53.3s\n",
      "142:\tlearn: 0.0698645\ttotal: 8.88s\tremaining: 53.2s\n",
      "143:\tlearn: 0.0696104\ttotal: 8.93s\tremaining: 53.1s\n",
      "144:\tlearn: 0.0693461\ttotal: 8.99s\tremaining: 53s\n",
      "145:\tlearn: 0.0690797\ttotal: 9.04s\tremaining: 52.9s\n",
      "146:\tlearn: 0.0688608\ttotal: 9.1s\tremaining: 52.8s\n",
      "147:\tlearn: 0.0687178\ttotal: 9.15s\tremaining: 52.7s\n",
      "148:\tlearn: 0.0684486\ttotal: 9.21s\tremaining: 52.6s\n",
      "149:\tlearn: 0.0681972\ttotal: 9.27s\tremaining: 52.5s\n",
      "150:\tlearn: 0.0679794\ttotal: 9.33s\tremaining: 52.5s\n",
      "151:\tlearn: 0.0677698\ttotal: 9.39s\tremaining: 52.4s\n",
      "152:\tlearn: 0.0675414\ttotal: 9.46s\tremaining: 52.4s\n",
      "153:\tlearn: 0.0672571\ttotal: 9.53s\tremaining: 52.3s\n",
      "154:\tlearn: 0.0669595\ttotal: 9.58s\tremaining: 52.2s\n",
      "155:\tlearn: 0.0667581\ttotal: 9.63s\tremaining: 52.1s\n",
      "156:\tlearn: 0.0665222\ttotal: 9.7s\tremaining: 52.1s\n",
      "157:\tlearn: 0.0662566\ttotal: 9.76s\tremaining: 52s\n",
      "158:\tlearn: 0.0660746\ttotal: 9.82s\tremaining: 51.9s\n",
      "159:\tlearn: 0.0657989\ttotal: 9.87s\tremaining: 51.8s\n",
      "160:\tlearn: 0.0656122\ttotal: 9.93s\tremaining: 51.8s\n"
     ]
    },
    {
     "name": "stdout",
     "output_type": "stream",
     "text": [
      "161:\tlearn: 0.0654000\ttotal: 9.99s\tremaining: 51.7s\n",
      "162:\tlearn: 0.0651196\ttotal: 10.1s\tremaining: 51.6s\n",
      "163:\tlearn: 0.0649259\ttotal: 10.1s\tremaining: 51.6s\n",
      "164:\tlearn: 0.0647628\ttotal: 10.2s\tremaining: 51.5s\n",
      "165:\tlearn: 0.0645676\ttotal: 10.2s\tremaining: 51.4s\n",
      "166:\tlearn: 0.0644415\ttotal: 10.3s\tremaining: 51.3s\n",
      "167:\tlearn: 0.0642133\ttotal: 10.4s\tremaining: 51.3s\n",
      "168:\tlearn: 0.0640685\ttotal: 10.4s\tremaining: 51.2s\n",
      "169:\tlearn: 0.0638152\ttotal: 10.5s\tremaining: 51.1s\n",
      "170:\tlearn: 0.0636154\ttotal: 10.5s\tremaining: 51s\n",
      "171:\tlearn: 0.0635003\ttotal: 10.6s\tremaining: 51s\n",
      "172:\tlearn: 0.0632665\ttotal: 10.7s\tremaining: 51s\n",
      "173:\tlearn: 0.0631520\ttotal: 10.7s\tremaining: 50.9s\n",
      "174:\tlearn: 0.0630412\ttotal: 10.8s\tremaining: 50.7s\n",
      "175:\tlearn: 0.0629134\ttotal: 10.8s\tremaining: 50.6s\n",
      "176:\tlearn: 0.0627176\ttotal: 10.9s\tremaining: 50.6s\n",
      "177:\tlearn: 0.0625541\ttotal: 10.9s\tremaining: 50.5s\n",
      "178:\tlearn: 0.0623221\ttotal: 11s\tremaining: 50.4s\n",
      "179:\tlearn: 0.0621411\ttotal: 11s\tremaining: 50.3s\n",
      "180:\tlearn: 0.0619853\ttotal: 11.1s\tremaining: 50.2s\n",
      "181:\tlearn: 0.0618503\ttotal: 11.2s\tremaining: 50.1s\n",
      "182:\tlearn: 0.0616440\ttotal: 11.2s\tremaining: 50.1s\n",
      "183:\tlearn: 0.0615130\ttotal: 11.3s\tremaining: 50s\n",
      "184:\tlearn: 0.0613420\ttotal: 11.3s\tremaining: 50s\n",
      "185:\tlearn: 0.0611171\ttotal: 11.4s\tremaining: 49.9s\n",
      "186:\tlearn: 0.0609285\ttotal: 11.5s\tremaining: 49.8s\n",
      "187:\tlearn: 0.0606815\ttotal: 11.5s\tremaining: 49.7s\n",
      "188:\tlearn: 0.0605190\ttotal: 11.6s\tremaining: 49.7s\n",
      "189:\tlearn: 0.0602911\ttotal: 11.6s\tremaining: 49.6s\n",
      "190:\tlearn: 0.0601437\ttotal: 11.7s\tremaining: 49.5s\n",
      "191:\tlearn: 0.0600019\ttotal: 11.7s\tremaining: 49.4s\n",
      "192:\tlearn: 0.0598329\ttotal: 11.8s\tremaining: 49.3s\n",
      "193:\tlearn: 0.0596513\ttotal: 11.8s\tremaining: 49.2s\n",
      "194:\tlearn: 0.0595008\ttotal: 11.9s\tremaining: 49.1s\n",
      "195:\tlearn: 0.0593582\ttotal: 12s\tremaining: 49s\n",
      "196:\tlearn: 0.0592263\ttotal: 12s\tremaining: 49s\n",
      "197:\tlearn: 0.0590471\ttotal: 12.1s\tremaining: 48.9s\n",
      "198:\tlearn: 0.0588738\ttotal: 12.1s\tremaining: 48.9s\n",
      "199:\tlearn: 0.0586980\ttotal: 12.2s\tremaining: 48.8s\n",
      "200:\tlearn: 0.0585629\ttotal: 12.3s\tremaining: 48.7s\n",
      "201:\tlearn: 0.0584606\ttotal: 12.3s\tremaining: 48.6s\n",
      "202:\tlearn: 0.0583295\ttotal: 12.4s\tremaining: 48.5s\n",
      "203:\tlearn: 0.0581577\ttotal: 12.4s\tremaining: 48.5s\n",
      "204:\tlearn: 0.0580224\ttotal: 12.5s\tremaining: 48.4s\n",
      "205:\tlearn: 0.0578835\ttotal: 12.5s\tremaining: 48.3s\n",
      "206:\tlearn: 0.0576873\ttotal: 12.6s\tremaining: 48.2s\n",
      "207:\tlearn: 0.0575989\ttotal: 12.6s\tremaining: 48.1s\n",
      "208:\tlearn: 0.0574608\ttotal: 12.7s\tremaining: 48.1s\n",
      "209:\tlearn: 0.0572687\ttotal: 12.8s\tremaining: 48s\n",
      "210:\tlearn: 0.0571314\ttotal: 12.8s\tremaining: 48s\n",
      "211:\tlearn: 0.0569749\ttotal: 12.9s\tremaining: 47.9s\n",
      "212:\tlearn: 0.0568458\ttotal: 12.9s\tremaining: 47.8s\n",
      "213:\tlearn: 0.0567145\ttotal: 13s\tremaining: 47.7s\n",
      "214:\tlearn: 0.0565487\ttotal: 13.1s\tremaining: 47.7s\n",
      "215:\tlearn: 0.0564414\ttotal: 13.1s\tremaining: 47.6s\n",
      "216:\tlearn: 0.0563221\ttotal: 13.2s\tremaining: 47.5s\n",
      "217:\tlearn: 0.0561431\ttotal: 13.2s\tremaining: 47.4s\n",
      "218:\tlearn: 0.0560042\ttotal: 13.3s\tremaining: 47.4s\n",
      "219:\tlearn: 0.0558735\ttotal: 13.3s\tremaining: 47.3s\n",
      "220:\tlearn: 0.0557142\ttotal: 13.4s\tremaining: 47.3s\n",
      "221:\tlearn: 0.0556102\ttotal: 13.5s\tremaining: 47.2s\n",
      "222:\tlearn: 0.0554700\ttotal: 13.5s\tremaining: 47.1s\n",
      "223:\tlearn: 0.0553770\ttotal: 13.6s\tremaining: 47s\n",
      "224:\tlearn: 0.0552592\ttotal: 13.6s\tremaining: 47s\n",
      "225:\tlearn: 0.0551238\ttotal: 13.7s\tremaining: 46.9s\n",
      "226:\tlearn: 0.0549838\ttotal: 13.8s\tremaining: 46.8s\n",
      "227:\tlearn: 0.0547510\ttotal: 13.8s\tremaining: 46.8s\n",
      "228:\tlearn: 0.0546296\ttotal: 13.9s\tremaining: 46.7s\n",
      "229:\tlearn: 0.0544812\ttotal: 13.9s\tremaining: 46.7s\n",
      "230:\tlearn: 0.0544059\ttotal: 14s\tremaining: 46.6s\n",
      "231:\tlearn: 0.0542524\ttotal: 14.1s\tremaining: 46.5s\n",
      "232:\tlearn: 0.0541617\ttotal: 14.1s\tremaining: 46.5s\n",
      "233:\tlearn: 0.0540537\ttotal: 14.2s\tremaining: 46.4s\n",
      "234:\tlearn: 0.0539482\ttotal: 14.2s\tremaining: 46.3s\n",
      "235:\tlearn: 0.0538300\ttotal: 14.3s\tremaining: 46.2s\n",
      "236:\tlearn: 0.0537059\ttotal: 14.3s\tremaining: 46.2s\n",
      "237:\tlearn: 0.0534999\ttotal: 14.4s\tremaining: 46.1s\n",
      "238:\tlearn: 0.0533897\ttotal: 14.5s\tremaining: 46s\n",
      "239:\tlearn: 0.0532321\ttotal: 14.5s\tremaining: 46s\n",
      "240:\tlearn: 0.0531044\ttotal: 14.6s\tremaining: 45.9s\n",
      "241:\tlearn: 0.0529229\ttotal: 14.6s\tremaining: 45.8s\n",
      "242:\tlearn: 0.0527572\ttotal: 14.7s\tremaining: 45.8s\n",
      "243:\tlearn: 0.0526593\ttotal: 14.8s\tremaining: 45.7s\n",
      "244:\tlearn: 0.0525662\ttotal: 14.8s\tremaining: 45.7s\n",
      "245:\tlearn: 0.0524588\ttotal: 14.9s\tremaining: 45.6s\n",
      "246:\tlearn: 0.0523163\ttotal: 14.9s\tremaining: 45.5s\n",
      "247:\tlearn: 0.0521889\ttotal: 15s\tremaining: 45.4s\n",
      "248:\tlearn: 0.0521113\ttotal: 15s\tremaining: 45.3s\n",
      "249:\tlearn: 0.0520181\ttotal: 15.1s\tremaining: 45.3s\n",
      "250:\tlearn: 0.0519205\ttotal: 15.2s\tremaining: 45.3s\n",
      "251:\tlearn: 0.0517982\ttotal: 15.2s\tremaining: 45.2s\n",
      "252:\tlearn: 0.0516877\ttotal: 15.3s\tremaining: 45.1s\n",
      "253:\tlearn: 0.0515564\ttotal: 15.3s\tremaining: 45s\n",
      "254:\tlearn: 0.0514961\ttotal: 15.4s\tremaining: 45s\n",
      "255:\tlearn: 0.0513645\ttotal: 15.5s\tremaining: 44.9s\n",
      "256:\tlearn: 0.0512727\ttotal: 15.5s\tremaining: 44.8s\n",
      "257:\tlearn: 0.0511421\ttotal: 15.6s\tremaining: 44.8s\n",
      "258:\tlearn: 0.0510643\ttotal: 15.6s\tremaining: 44.7s\n",
      "259:\tlearn: 0.0509684\ttotal: 15.7s\tremaining: 44.6s\n",
      "260:\tlearn: 0.0508109\ttotal: 15.7s\tremaining: 44.6s\n",
      "261:\tlearn: 0.0506993\ttotal: 15.8s\tremaining: 44.5s\n",
      "262:\tlearn: 0.0505387\ttotal: 15.9s\tremaining: 44.5s\n",
      "263:\tlearn: 0.0504299\ttotal: 15.9s\tremaining: 44.4s\n",
      "264:\tlearn: 0.0502540\ttotal: 16s\tremaining: 44.3s\n",
      "265:\tlearn: 0.0501680\ttotal: 16.1s\tremaining: 44.3s\n",
      "266:\tlearn: 0.0500746\ttotal: 16.1s\tremaining: 44.2s\n",
      "267:\tlearn: 0.0499816\ttotal: 16.2s\tremaining: 44.2s\n",
      "268:\tlearn: 0.0498438\ttotal: 16.2s\tremaining: 44.1s\n",
      "269:\tlearn: 0.0497021\ttotal: 16.3s\tremaining: 44.1s\n",
      "270:\tlearn: 0.0495772\ttotal: 16.4s\tremaining: 44s\n",
      "271:\tlearn: 0.0494679\ttotal: 16.4s\tremaining: 43.9s\n",
      "272:\tlearn: 0.0493683\ttotal: 16.5s\tremaining: 43.9s\n",
      "273:\tlearn: 0.0492640\ttotal: 16.5s\tremaining: 43.8s\n",
      "274:\tlearn: 0.0491827\ttotal: 16.6s\tremaining: 43.7s\n",
      "275:\tlearn: 0.0490684\ttotal: 16.6s\tremaining: 43.7s\n",
      "276:\tlearn: 0.0489612\ttotal: 16.7s\tremaining: 43.6s\n",
      "277:\tlearn: 0.0488301\ttotal: 16.8s\tremaining: 43.5s\n",
      "278:\tlearn: 0.0487369\ttotal: 16.8s\tremaining: 43.5s\n",
      "279:\tlearn: 0.0486459\ttotal: 16.9s\tremaining: 43.4s\n",
      "280:\tlearn: 0.0485392\ttotal: 16.9s\tremaining: 43.3s\n",
      "281:\tlearn: 0.0484408\ttotal: 17s\tremaining: 43.2s\n",
      "282:\tlearn: 0.0483449\ttotal: 17.1s\tremaining: 43.2s\n",
      "283:\tlearn: 0.0482778\ttotal: 17.1s\tremaining: 43.2s\n",
      "284:\tlearn: 0.0482141\ttotal: 17.2s\tremaining: 43.1s\n",
      "285:\tlearn: 0.0481087\ttotal: 17.2s\tremaining: 43s\n",
      "286:\tlearn: 0.0480309\ttotal: 17.3s\tremaining: 43s\n",
      "287:\tlearn: 0.0479591\ttotal: 17.4s\tremaining: 42.9s\n",
      "288:\tlearn: 0.0478979\ttotal: 17.4s\tremaining: 42.8s\n",
      "289:\tlearn: 0.0478051\ttotal: 17.5s\tremaining: 42.8s\n",
      "290:\tlearn: 0.0476758\ttotal: 17.5s\tremaining: 42.7s\n",
      "291:\tlearn: 0.0476050\ttotal: 17.6s\tremaining: 42.7s\n",
      "292:\tlearn: 0.0475227\ttotal: 17.6s\tremaining: 42.6s\n",
      "293:\tlearn: 0.0474248\ttotal: 17.7s\tremaining: 42.5s\n",
      "294:\tlearn: 0.0473597\ttotal: 17.8s\tremaining: 42.4s\n",
      "295:\tlearn: 0.0472991\ttotal: 17.8s\tremaining: 42.4s\n",
      "296:\tlearn: 0.0471691\ttotal: 17.9s\tremaining: 42.3s\n",
      "297:\tlearn: 0.0470801\ttotal: 17.9s\tremaining: 42.3s\n",
      "298:\tlearn: 0.0470097\ttotal: 18s\tremaining: 42.2s\n",
      "299:\tlearn: 0.0469220\ttotal: 18.1s\tremaining: 42.2s\n",
      "300:\tlearn: 0.0468349\ttotal: 18.1s\tremaining: 42.1s\n",
      "301:\tlearn: 0.0467455\ttotal: 18.2s\tremaining: 42s\n",
      "302:\tlearn: 0.0466105\ttotal: 18.2s\tremaining: 42s\n",
      "303:\tlearn: 0.0465151\ttotal: 18.3s\tremaining: 41.9s\n",
      "304:\tlearn: 0.0464381\ttotal: 18.4s\tremaining: 41.8s\n",
      "305:\tlearn: 0.0463753\ttotal: 18.4s\tremaining: 41.8s\n",
      "306:\tlearn: 0.0463262\ttotal: 18.5s\tremaining: 41.7s\n",
      "307:\tlearn: 0.0462471\ttotal: 18.5s\tremaining: 41.6s\n",
      "308:\tlearn: 0.0461666\ttotal: 18.6s\tremaining: 41.6s\n",
      "309:\tlearn: 0.0460653\ttotal: 18.6s\tremaining: 41.5s\n",
      "310:\tlearn: 0.0460003\ttotal: 18.7s\tremaining: 41.5s\n",
      "311:\tlearn: 0.0459233\ttotal: 18.8s\tremaining: 41.4s\n",
      "312:\tlearn: 0.0458288\ttotal: 18.8s\tremaining: 41.3s\n",
      "313:\tlearn: 0.0457224\ttotal: 18.9s\tremaining: 41.3s\n",
      "314:\tlearn: 0.0456568\ttotal: 19s\tremaining: 41.2s\n",
      "315:\tlearn: 0.0455641\ttotal: 19s\tremaining: 41.2s\n",
      "316:\tlearn: 0.0454951\ttotal: 19.1s\tremaining: 41.1s\n",
      "317:\tlearn: 0.0454011\ttotal: 19.1s\tremaining: 41s\n",
      "318:\tlearn: 0.0452874\ttotal: 19.2s\tremaining: 41s\n",
      "319:\tlearn: 0.0452097\ttotal: 19.3s\tremaining: 40.9s\n",
      "320:\tlearn: 0.0451304\ttotal: 19.3s\tremaining: 40.9s\n",
      "321:\tlearn: 0.0450540\ttotal: 19.4s\tremaining: 40.8s\n"
     ]
    },
    {
     "name": "stdout",
     "output_type": "stream",
     "text": [
      "322:\tlearn: 0.0449627\ttotal: 19.4s\tremaining: 40.7s\n",
      "323:\tlearn: 0.0448760\ttotal: 19.5s\tremaining: 40.7s\n",
      "324:\tlearn: 0.0447628\ttotal: 19.6s\tremaining: 40.6s\n",
      "325:\tlearn: 0.0446998\ttotal: 19.6s\tremaining: 40.6s\n",
      "326:\tlearn: 0.0446392\ttotal: 19.7s\tremaining: 40.5s\n",
      "327:\tlearn: 0.0445279\ttotal: 19.7s\tremaining: 40.4s\n",
      "328:\tlearn: 0.0444697\ttotal: 19.8s\tremaining: 40.4s\n",
      "329:\tlearn: 0.0443986\ttotal: 19.8s\tremaining: 40.3s\n",
      "330:\tlearn: 0.0443532\ttotal: 19.9s\tremaining: 40.2s\n",
      "331:\tlearn: 0.0442701\ttotal: 20s\tremaining: 40.2s\n",
      "332:\tlearn: 0.0442155\ttotal: 20s\tremaining: 40.1s\n",
      "333:\tlearn: 0.0441649\ttotal: 20.1s\tremaining: 40s\n",
      "334:\tlearn: 0.0440932\ttotal: 20.1s\tremaining: 40s\n",
      "335:\tlearn: 0.0440535\ttotal: 20.2s\tremaining: 39.9s\n",
      "336:\tlearn: 0.0439613\ttotal: 20.3s\tremaining: 39.8s\n",
      "337:\tlearn: 0.0438748\ttotal: 20.3s\tremaining: 39.8s\n",
      "338:\tlearn: 0.0437844\ttotal: 20.4s\tremaining: 39.7s\n",
      "339:\tlearn: 0.0437198\ttotal: 20.4s\tremaining: 39.7s\n",
      "340:\tlearn: 0.0436710\ttotal: 20.5s\tremaining: 39.6s\n",
      "341:\tlearn: 0.0436200\ttotal: 20.5s\tremaining: 39.5s\n",
      "342:\tlearn: 0.0435193\ttotal: 20.6s\tremaining: 39.5s\n",
      "343:\tlearn: 0.0434638\ttotal: 20.7s\tremaining: 39.4s\n",
      "344:\tlearn: 0.0434160\ttotal: 20.7s\tremaining: 39.4s\n",
      "345:\tlearn: 0.0433451\ttotal: 20.8s\tremaining: 39.3s\n",
      "346:\tlearn: 0.0432752\ttotal: 20.8s\tremaining: 39.2s\n",
      "347:\tlearn: 0.0432240\ttotal: 20.9s\tremaining: 39.2s\n",
      "348:\tlearn: 0.0431130\ttotal: 21s\tremaining: 39.1s\n",
      "349:\tlearn: 0.0430466\ttotal: 21s\tremaining: 39s\n",
      "350:\tlearn: 0.0429621\ttotal: 21.1s\tremaining: 38.9s\n",
      "351:\tlearn: 0.0428719\ttotal: 21.1s\tremaining: 38.9s\n",
      "352:\tlearn: 0.0428101\ttotal: 21.2s\tremaining: 38.8s\n",
      "353:\tlearn: 0.0427389\ttotal: 21.2s\tremaining: 38.8s\n",
      "354:\tlearn: 0.0426813\ttotal: 21.3s\tremaining: 38.7s\n",
      "355:\tlearn: 0.0426066\ttotal: 21.4s\tremaining: 38.7s\n",
      "356:\tlearn: 0.0425494\ttotal: 21.4s\tremaining: 38.6s\n",
      "357:\tlearn: 0.0424879\ttotal: 21.5s\tremaining: 38.5s\n",
      "358:\tlearn: 0.0424168\ttotal: 21.6s\tremaining: 38.5s\n",
      "359:\tlearn: 0.0423418\ttotal: 21.6s\tremaining: 38.4s\n",
      "360:\tlearn: 0.0422795\ttotal: 21.7s\tremaining: 38.4s\n",
      "361:\tlearn: 0.0422059\ttotal: 21.7s\tremaining: 38.3s\n",
      "362:\tlearn: 0.0421547\ttotal: 21.8s\tremaining: 38.2s\n",
      "363:\tlearn: 0.0420902\ttotal: 21.9s\tremaining: 38.2s\n",
      "364:\tlearn: 0.0420110\ttotal: 21.9s\tremaining: 38.1s\n",
      "365:\tlearn: 0.0419659\ttotal: 22s\tremaining: 38s\n",
      "366:\tlearn: 0.0418853\ttotal: 22s\tremaining: 38s\n",
      "367:\tlearn: 0.0418268\ttotal: 22.1s\tremaining: 37.9s\n",
      "368:\tlearn: 0.0417573\ttotal: 22.1s\tremaining: 37.8s\n",
      "369:\tlearn: 0.0416921\ttotal: 22.2s\tremaining: 37.8s\n",
      "370:\tlearn: 0.0416356\ttotal: 22.3s\tremaining: 37.7s\n",
      "371:\tlearn: 0.0415773\ttotal: 22.3s\tremaining: 37.7s\n",
      "372:\tlearn: 0.0415128\ttotal: 22.4s\tremaining: 37.6s\n",
      "373:\tlearn: 0.0414145\ttotal: 22.4s\tremaining: 37.5s\n",
      "374:\tlearn: 0.0413394\ttotal: 22.5s\tremaining: 37.5s\n",
      "375:\tlearn: 0.0412890\ttotal: 22.5s\tremaining: 37.4s\n",
      "376:\tlearn: 0.0412515\ttotal: 22.6s\tremaining: 37.3s\n",
      "377:\tlearn: 0.0412095\ttotal: 22.7s\tremaining: 37.3s\n",
      "378:\tlearn: 0.0411527\ttotal: 22.7s\tremaining: 37.2s\n",
      "379:\tlearn: 0.0411007\ttotal: 22.8s\tremaining: 37.1s\n",
      "380:\tlearn: 0.0410365\ttotal: 22.8s\tremaining: 37.1s\n",
      "381:\tlearn: 0.0409872\ttotal: 22.9s\tremaining: 37s\n",
      "382:\tlearn: 0.0409190\ttotal: 22.9s\tremaining: 37s\n",
      "383:\tlearn: 0.0408160\ttotal: 23s\tremaining: 36.9s\n",
      "384:\tlearn: 0.0407577\ttotal: 23.1s\tremaining: 36.8s\n",
      "385:\tlearn: 0.0407213\ttotal: 23.1s\tremaining: 36.8s\n",
      "386:\tlearn: 0.0406853\ttotal: 23.2s\tremaining: 36.7s\n",
      "387:\tlearn: 0.0406184\ttotal: 23.2s\tremaining: 36.6s\n",
      "388:\tlearn: 0.0405692\ttotal: 23.3s\tremaining: 36.6s\n",
      "389:\tlearn: 0.0405390\ttotal: 23.3s\tremaining: 36.5s\n",
      "390:\tlearn: 0.0404916\ttotal: 23.4s\tremaining: 36.4s\n",
      "391:\tlearn: 0.0404308\ttotal: 23.5s\tremaining: 36.4s\n",
      "392:\tlearn: 0.0403527\ttotal: 23.5s\tremaining: 36.3s\n",
      "393:\tlearn: 0.0402755\ttotal: 23.6s\tremaining: 36.3s\n",
      "394:\tlearn: 0.0402130\ttotal: 23.6s\tremaining: 36.2s\n",
      "395:\tlearn: 0.0401700\ttotal: 23.7s\tremaining: 36.2s\n",
      "396:\tlearn: 0.0401172\ttotal: 23.8s\tremaining: 36.1s\n",
      "397:\tlearn: 0.0400414\ttotal: 23.8s\tremaining: 36s\n",
      "398:\tlearn: 0.0399547\ttotal: 23.9s\tremaining: 36s\n",
      "399:\tlearn: 0.0399072\ttotal: 23.9s\tremaining: 35.9s\n",
      "400:\tlearn: 0.0398455\ttotal: 24s\tremaining: 35.8s\n",
      "401:\tlearn: 0.0397973\ttotal: 24s\tremaining: 35.8s\n",
      "402:\tlearn: 0.0397422\ttotal: 24.1s\tremaining: 35.7s\n",
      "403:\tlearn: 0.0396755\ttotal: 24.2s\tremaining: 35.7s\n",
      "404:\tlearn: 0.0396162\ttotal: 24.2s\tremaining: 35.6s\n",
      "405:\tlearn: 0.0395735\ttotal: 24.3s\tremaining: 35.5s\n",
      "406:\tlearn: 0.0395147\ttotal: 24.3s\tremaining: 35.5s\n",
      "407:\tlearn: 0.0394447\ttotal: 24.4s\tremaining: 35.4s\n",
      "408:\tlearn: 0.0393841\ttotal: 24.5s\tremaining: 35.3s\n",
      "409:\tlearn: 0.0393279\ttotal: 24.5s\tremaining: 35.3s\n",
      "410:\tlearn: 0.0392703\ttotal: 24.6s\tremaining: 35.2s\n",
      "411:\tlearn: 0.0391628\ttotal: 24.6s\tremaining: 35.2s\n",
      "412:\tlearn: 0.0391148\ttotal: 24.7s\tremaining: 35.1s\n",
      "413:\tlearn: 0.0390433\ttotal: 24.8s\tremaining: 35s\n",
      "414:\tlearn: 0.0389848\ttotal: 24.8s\tremaining: 35s\n",
      "415:\tlearn: 0.0389470\ttotal: 24.9s\tremaining: 34.9s\n",
      "416:\tlearn: 0.0389109\ttotal: 24.9s\tremaining: 34.9s\n",
      "417:\tlearn: 0.0388644\ttotal: 25s\tremaining: 34.8s\n",
      "418:\tlearn: 0.0388153\ttotal: 25.1s\tremaining: 34.7s\n",
      "419:\tlearn: 0.0387790\ttotal: 25.1s\tremaining: 34.7s\n",
      "420:\tlearn: 0.0387165\ttotal: 25.2s\tremaining: 34.6s\n",
      "421:\tlearn: 0.0386684\ttotal: 25.2s\tremaining: 34.6s\n",
      "422:\tlearn: 0.0385849\ttotal: 25.3s\tremaining: 34.5s\n",
      "423:\tlearn: 0.0385538\ttotal: 25.3s\tremaining: 34.4s\n",
      "424:\tlearn: 0.0384826\ttotal: 25.4s\tremaining: 34.4s\n",
      "425:\tlearn: 0.0384399\ttotal: 25.5s\tremaining: 34.3s\n",
      "426:\tlearn: 0.0383874\ttotal: 25.5s\tremaining: 34.2s\n",
      "427:\tlearn: 0.0383362\ttotal: 25.6s\tremaining: 34.2s\n",
      "428:\tlearn: 0.0382663\ttotal: 25.6s\tremaining: 34.1s\n",
      "429:\tlearn: 0.0382135\ttotal: 25.7s\tremaining: 34.1s\n",
      "430:\tlearn: 0.0381529\ttotal: 25.8s\tremaining: 34s\n",
      "431:\tlearn: 0.0380858\ttotal: 25.8s\tremaining: 34s\n",
      "432:\tlearn: 0.0380192\ttotal: 25.9s\tremaining: 33.9s\n",
      "433:\tlearn: 0.0379516\ttotal: 25.9s\tremaining: 33.8s\n",
      "434:\tlearn: 0.0379139\ttotal: 26s\tremaining: 33.8s\n",
      "435:\tlearn: 0.0378603\ttotal: 26.1s\tremaining: 33.7s\n",
      "436:\tlearn: 0.0378156\ttotal: 26.1s\tremaining: 33.7s\n",
      "437:\tlearn: 0.0377616\ttotal: 26.2s\tremaining: 33.6s\n",
      "438:\tlearn: 0.0377293\ttotal: 26.3s\tremaining: 33.6s\n",
      "439:\tlearn: 0.0376668\ttotal: 26.3s\tremaining: 33.5s\n",
      "440:\tlearn: 0.0376367\ttotal: 26.4s\tremaining: 33.4s\n",
      "441:\tlearn: 0.0376000\ttotal: 26.4s\tremaining: 33.4s\n",
      "442:\tlearn: 0.0375517\ttotal: 26.5s\tremaining: 33.3s\n",
      "443:\tlearn: 0.0375035\ttotal: 26.6s\tremaining: 33.3s\n",
      "444:\tlearn: 0.0374400\ttotal: 26.6s\tremaining: 33.2s\n",
      "445:\tlearn: 0.0373843\ttotal: 26.7s\tremaining: 33.1s\n",
      "446:\tlearn: 0.0373283\ttotal: 26.7s\tremaining: 33.1s\n",
      "447:\tlearn: 0.0372813\ttotal: 26.8s\tremaining: 33s\n",
      "448:\tlearn: 0.0372065\ttotal: 26.8s\tremaining: 32.9s\n",
      "449:\tlearn: 0.0371681\ttotal: 26.9s\tremaining: 32.9s\n",
      "450:\tlearn: 0.0371317\ttotal: 27s\tremaining: 32.8s\n",
      "451:\tlearn: 0.0370741\ttotal: 27s\tremaining: 32.8s\n",
      "452:\tlearn: 0.0370277\ttotal: 27.1s\tremaining: 32.7s\n",
      "453:\tlearn: 0.0369960\ttotal: 27.1s\tremaining: 32.6s\n",
      "454:\tlearn: 0.0369441\ttotal: 27.2s\tremaining: 32.6s\n",
      "455:\tlearn: 0.0368919\ttotal: 27.3s\tremaining: 32.5s\n",
      "456:\tlearn: 0.0368230\ttotal: 27.3s\tremaining: 32.5s\n",
      "457:\tlearn: 0.0367769\ttotal: 27.4s\tremaining: 32.4s\n",
      "458:\tlearn: 0.0367298\ttotal: 27.4s\tremaining: 32.4s\n",
      "459:\tlearn: 0.0366959\ttotal: 27.5s\tremaining: 32.3s\n",
      "460:\tlearn: 0.0366457\ttotal: 27.6s\tremaining: 32.2s\n",
      "461:\tlearn: 0.0365658\ttotal: 27.6s\tremaining: 32.2s\n",
      "462:\tlearn: 0.0365115\ttotal: 27.7s\tremaining: 32.1s\n",
      "463:\tlearn: 0.0364392\ttotal: 27.7s\tremaining: 32s\n",
      "464:\tlearn: 0.0363968\ttotal: 27.8s\tremaining: 32s\n",
      "465:\tlearn: 0.0363422\ttotal: 27.8s\tremaining: 31.9s\n",
      "466:\tlearn: 0.0362886\ttotal: 27.9s\tremaining: 31.9s\n",
      "467:\tlearn: 0.0362525\ttotal: 28s\tremaining: 31.8s\n",
      "468:\tlearn: 0.0362087\ttotal: 28s\tremaining: 31.7s\n",
      "469:\tlearn: 0.0361557\ttotal: 28.1s\tremaining: 31.7s\n",
      "470:\tlearn: 0.0361215\ttotal: 28.1s\tremaining: 31.6s\n",
      "471:\tlearn: 0.0360560\ttotal: 28.2s\tremaining: 31.6s\n",
      "472:\tlearn: 0.0359950\ttotal: 28.3s\tremaining: 31.5s\n",
      "473:\tlearn: 0.0359338\ttotal: 28.3s\tremaining: 31.4s\n",
      "474:\tlearn: 0.0359038\ttotal: 28.4s\tremaining: 31.4s\n",
      "475:\tlearn: 0.0358802\ttotal: 28.4s\tremaining: 31.3s\n",
      "476:\tlearn: 0.0358375\ttotal: 28.5s\tremaining: 31.3s\n",
      "477:\tlearn: 0.0357878\ttotal: 28.6s\tremaining: 31.2s\n",
      "478:\tlearn: 0.0357336\ttotal: 28.6s\tremaining: 31.1s\n",
      "479:\tlearn: 0.0356943\ttotal: 28.7s\tremaining: 31.1s\n",
      "480:\tlearn: 0.0356422\ttotal: 28.7s\tremaining: 31s\n",
      "481:\tlearn: 0.0355930\ttotal: 28.8s\tremaining: 30.9s\n"
     ]
    },
    {
     "name": "stdout",
     "output_type": "stream",
     "text": [
      "482:\tlearn: 0.0355591\ttotal: 28.9s\tremaining: 30.9s\n",
      "483:\tlearn: 0.0355195\ttotal: 28.9s\tremaining: 30.8s\n",
      "484:\tlearn: 0.0354824\ttotal: 29s\tremaining: 30.8s\n",
      "485:\tlearn: 0.0354272\ttotal: 29s\tremaining: 30.7s\n",
      "486:\tlearn: 0.0353950\ttotal: 29.1s\tremaining: 30.7s\n",
      "487:\tlearn: 0.0353344\ttotal: 29.2s\tremaining: 30.6s\n",
      "488:\tlearn: 0.0352942\ttotal: 29.2s\tremaining: 30.6s\n",
      "489:\tlearn: 0.0352492\ttotal: 29.3s\tremaining: 30.5s\n",
      "490:\tlearn: 0.0352221\ttotal: 29.4s\tremaining: 30.4s\n",
      "491:\tlearn: 0.0351874\ttotal: 29.4s\tremaining: 30.4s\n",
      "492:\tlearn: 0.0351563\ttotal: 29.5s\tremaining: 30.3s\n",
      "493:\tlearn: 0.0350872\ttotal: 29.5s\tremaining: 30.2s\n",
      "494:\tlearn: 0.0350584\ttotal: 29.6s\tremaining: 30.2s\n",
      "495:\tlearn: 0.0350300\ttotal: 29.6s\tremaining: 30.1s\n",
      "496:\tlearn: 0.0349797\ttotal: 29.7s\tremaining: 30.1s\n",
      "497:\tlearn: 0.0349532\ttotal: 29.7s\tremaining: 30s\n",
      "498:\tlearn: 0.0349185\ttotal: 29.8s\tremaining: 29.9s\n",
      "499:\tlearn: 0.0348851\ttotal: 29.9s\tremaining: 29.9s\n",
      "500:\tlearn: 0.0348243\ttotal: 29.9s\tremaining: 29.8s\n",
      "501:\tlearn: 0.0347788\ttotal: 30s\tremaining: 29.7s\n",
      "502:\tlearn: 0.0347464\ttotal: 30s\tremaining: 29.7s\n",
      "503:\tlearn: 0.0347105\ttotal: 30.1s\tremaining: 29.6s\n",
      "504:\tlearn: 0.0346587\ttotal: 30.2s\tremaining: 29.6s\n",
      "505:\tlearn: 0.0346132\ttotal: 30.2s\tremaining: 29.5s\n",
      "506:\tlearn: 0.0345796\ttotal: 30.3s\tremaining: 29.4s\n",
      "507:\tlearn: 0.0345312\ttotal: 30.3s\tremaining: 29.4s\n",
      "508:\tlearn: 0.0344945\ttotal: 30.4s\tremaining: 29.3s\n",
      "509:\tlearn: 0.0344567\ttotal: 30.5s\tremaining: 29.3s\n",
      "510:\tlearn: 0.0344032\ttotal: 30.5s\tremaining: 29.2s\n",
      "511:\tlearn: 0.0343702\ttotal: 30.6s\tremaining: 29.1s\n",
      "512:\tlearn: 0.0343247\ttotal: 30.6s\tremaining: 29.1s\n",
      "513:\tlearn: 0.0342966\ttotal: 30.7s\tremaining: 29s\n",
      "514:\tlearn: 0.0342431\ttotal: 30.8s\tremaining: 29s\n",
      "515:\tlearn: 0.0341971\ttotal: 30.8s\tremaining: 28.9s\n",
      "516:\tlearn: 0.0341621\ttotal: 30.9s\tremaining: 28.9s\n",
      "517:\tlearn: 0.0341155\ttotal: 31s\tremaining: 28.8s\n",
      "518:\tlearn: 0.0340888\ttotal: 31s\tremaining: 28.7s\n",
      "519:\tlearn: 0.0340519\ttotal: 31.1s\tremaining: 28.7s\n",
      "520:\tlearn: 0.0340232\ttotal: 31.1s\tremaining: 28.6s\n",
      "521:\tlearn: 0.0339731\ttotal: 31.2s\tremaining: 28.5s\n",
      "522:\tlearn: 0.0339316\ttotal: 31.2s\tremaining: 28.5s\n",
      "523:\tlearn: 0.0339029\ttotal: 31.3s\tremaining: 28.4s\n",
      "524:\tlearn: 0.0338784\ttotal: 31.3s\tremaining: 28.4s\n",
      "525:\tlearn: 0.0338487\ttotal: 31.4s\tremaining: 28.3s\n",
      "526:\tlearn: 0.0338158\ttotal: 31.5s\tremaining: 28.2s\n",
      "527:\tlearn: 0.0337747\ttotal: 31.5s\tremaining: 28.2s\n",
      "528:\tlearn: 0.0337345\ttotal: 31.6s\tremaining: 28.1s\n",
      "529:\tlearn: 0.0337034\ttotal: 31.6s\tremaining: 28.1s\n",
      "530:\tlearn: 0.0336711\ttotal: 31.7s\tremaining: 28s\n",
      "531:\tlearn: 0.0336273\ttotal: 31.7s\tremaining: 27.9s\n",
      "532:\tlearn: 0.0335957\ttotal: 31.8s\tremaining: 27.9s\n",
      "533:\tlearn: 0.0335520\ttotal: 31.9s\tremaining: 27.8s\n",
      "534:\tlearn: 0.0335074\ttotal: 31.9s\tremaining: 27.7s\n",
      "535:\tlearn: 0.0334657\ttotal: 32s\tremaining: 27.7s\n",
      "536:\tlearn: 0.0334369\ttotal: 32s\tremaining: 27.6s\n",
      "537:\tlearn: 0.0333984\ttotal: 32.1s\tremaining: 27.6s\n",
      "538:\tlearn: 0.0333698\ttotal: 32.1s\tremaining: 27.5s\n",
      "539:\tlearn: 0.0333304\ttotal: 32.2s\tremaining: 27.4s\n",
      "540:\tlearn: 0.0332910\ttotal: 32.3s\tremaining: 27.4s\n",
      "541:\tlearn: 0.0332446\ttotal: 32.3s\tremaining: 27.3s\n",
      "542:\tlearn: 0.0332029\ttotal: 32.4s\tremaining: 27.2s\n",
      "543:\tlearn: 0.0331775\ttotal: 32.4s\tremaining: 27.2s\n",
      "544:\tlearn: 0.0331117\ttotal: 32.5s\tremaining: 27.1s\n",
      "545:\tlearn: 0.0330741\ttotal: 32.5s\tremaining: 27.1s\n",
      "546:\tlearn: 0.0330408\ttotal: 32.6s\tremaining: 27s\n",
      "547:\tlearn: 0.0330015\ttotal: 32.6s\tremaining: 26.9s\n",
      "548:\tlearn: 0.0329670\ttotal: 32.7s\tremaining: 26.9s\n",
      "549:\tlearn: 0.0329297\ttotal: 32.8s\tremaining: 26.8s\n",
      "550:\tlearn: 0.0328931\ttotal: 32.8s\tremaining: 26.7s\n",
      "551:\tlearn: 0.0328442\ttotal: 32.9s\tremaining: 26.7s\n",
      "552:\tlearn: 0.0328135\ttotal: 32.9s\tremaining: 26.6s\n",
      "553:\tlearn: 0.0327803\ttotal: 33s\tremaining: 26.6s\n",
      "554:\tlearn: 0.0327418\ttotal: 33.1s\tremaining: 26.5s\n",
      "555:\tlearn: 0.0326946\ttotal: 33.1s\tremaining: 26.5s\n",
      "556:\tlearn: 0.0326446\ttotal: 33.2s\tremaining: 26.4s\n",
      "557:\tlearn: 0.0326009\ttotal: 33.2s\tremaining: 26.3s\n",
      "558:\tlearn: 0.0325712\ttotal: 33.3s\tremaining: 26.3s\n",
      "559:\tlearn: 0.0325403\ttotal: 33.4s\tremaining: 26.2s\n",
      "560:\tlearn: 0.0324974\ttotal: 33.4s\tremaining: 26.2s\n",
      "561:\tlearn: 0.0324474\ttotal: 33.5s\tremaining: 26.1s\n",
      "562:\tlearn: 0.0324156\ttotal: 33.5s\tremaining: 26s\n",
      "563:\tlearn: 0.0323437\ttotal: 33.6s\tremaining: 26s\n",
      "564:\tlearn: 0.0323006\ttotal: 33.7s\tremaining: 25.9s\n",
      "565:\tlearn: 0.0322687\ttotal: 33.7s\tremaining: 25.9s\n",
      "566:\tlearn: 0.0322164\ttotal: 33.8s\tremaining: 25.8s\n",
      "567:\tlearn: 0.0321821\ttotal: 33.8s\tremaining: 25.7s\n",
      "568:\tlearn: 0.0321547\ttotal: 33.9s\tremaining: 25.7s\n",
      "569:\tlearn: 0.0321281\ttotal: 34s\tremaining: 25.6s\n",
      "570:\tlearn: 0.0320859\ttotal: 34s\tremaining: 25.6s\n",
      "571:\tlearn: 0.0320473\ttotal: 34.1s\tremaining: 25.5s\n",
      "572:\tlearn: 0.0320060\ttotal: 34.1s\tremaining: 25.4s\n",
      "573:\tlearn: 0.0319602\ttotal: 34.2s\tremaining: 25.4s\n",
      "574:\tlearn: 0.0319337\ttotal: 34.2s\tremaining: 25.3s\n",
      "575:\tlearn: 0.0319063\ttotal: 34.3s\tremaining: 25.2s\n",
      "576:\tlearn: 0.0318764\ttotal: 34.4s\tremaining: 25.2s\n",
      "577:\tlearn: 0.0318464\ttotal: 34.4s\tremaining: 25.1s\n",
      "578:\tlearn: 0.0318046\ttotal: 34.5s\tremaining: 25.1s\n",
      "579:\tlearn: 0.0317730\ttotal: 34.5s\tremaining: 25s\n",
      "580:\tlearn: 0.0317522\ttotal: 34.6s\tremaining: 24.9s\n",
      "581:\tlearn: 0.0317163\ttotal: 34.6s\tremaining: 24.9s\n",
      "582:\tlearn: 0.0316917\ttotal: 34.7s\tremaining: 24.8s\n",
      "583:\tlearn: 0.0316563\ttotal: 34.8s\tremaining: 24.8s\n",
      "584:\tlearn: 0.0316228\ttotal: 34.8s\tremaining: 24.7s\n",
      "585:\tlearn: 0.0315839\ttotal: 34.9s\tremaining: 24.6s\n",
      "586:\tlearn: 0.0315380\ttotal: 34.9s\tremaining: 24.6s\n",
      "587:\tlearn: 0.0315163\ttotal: 35s\tremaining: 24.5s\n",
      "588:\tlearn: 0.0314793\ttotal: 35s\tremaining: 24.4s\n",
      "589:\tlearn: 0.0314520\ttotal: 35.1s\tremaining: 24.4s\n",
      "590:\tlearn: 0.0314090\ttotal: 35.1s\tremaining: 24.3s\n",
      "591:\tlearn: 0.0313685\ttotal: 35.2s\tremaining: 24.3s\n",
      "592:\tlearn: 0.0313374\ttotal: 35.3s\tremaining: 24.2s\n",
      "593:\tlearn: 0.0313097\ttotal: 35.3s\tremaining: 24.1s\n",
      "594:\tlearn: 0.0312696\ttotal: 35.4s\tremaining: 24.1s\n",
      "595:\tlearn: 0.0312433\ttotal: 35.4s\tremaining: 24s\n",
      "596:\tlearn: 0.0312058\ttotal: 35.5s\tremaining: 24s\n",
      "597:\tlearn: 0.0311686\ttotal: 35.5s\tremaining: 23.9s\n",
      "598:\tlearn: 0.0311322\ttotal: 35.6s\tremaining: 23.8s\n",
      "599:\tlearn: 0.0310861\ttotal: 35.7s\tremaining: 23.8s\n",
      "600:\tlearn: 0.0310510\ttotal: 35.7s\tremaining: 23.7s\n",
      "601:\tlearn: 0.0310239\ttotal: 35.8s\tremaining: 23.6s\n",
      "602:\tlearn: 0.0309874\ttotal: 35.8s\tremaining: 23.6s\n",
      "603:\tlearn: 0.0309437\ttotal: 35.9s\tremaining: 23.5s\n",
      "604:\tlearn: 0.0308991\ttotal: 35.9s\tremaining: 23.5s\n",
      "605:\tlearn: 0.0308635\ttotal: 36s\tremaining: 23.4s\n",
      "606:\tlearn: 0.0308185\ttotal: 36.1s\tremaining: 23.3s\n",
      "607:\tlearn: 0.0307830\ttotal: 36.1s\tremaining: 23.3s\n",
      "608:\tlearn: 0.0307590\ttotal: 36.2s\tremaining: 23.2s\n",
      "609:\tlearn: 0.0307358\ttotal: 36.2s\tremaining: 23.2s\n",
      "610:\tlearn: 0.0307085\ttotal: 36.3s\tremaining: 23.1s\n",
      "611:\tlearn: 0.0306745\ttotal: 36.3s\tremaining: 23s\n",
      "612:\tlearn: 0.0306318\ttotal: 36.4s\tremaining: 23s\n",
      "613:\tlearn: 0.0306023\ttotal: 36.5s\tremaining: 22.9s\n",
      "614:\tlearn: 0.0305782\ttotal: 36.6s\tremaining: 22.9s\n",
      "615:\tlearn: 0.0305500\ttotal: 36.6s\tremaining: 22.8s\n",
      "616:\tlearn: 0.0305053\ttotal: 36.7s\tremaining: 22.8s\n",
      "617:\tlearn: 0.0304533\ttotal: 36.8s\tremaining: 22.7s\n",
      "618:\tlearn: 0.0304231\ttotal: 36.8s\tremaining: 22.7s\n",
      "619:\tlearn: 0.0303839\ttotal: 36.9s\tremaining: 22.6s\n",
      "620:\tlearn: 0.0303619\ttotal: 37s\tremaining: 22.6s\n",
      "621:\tlearn: 0.0303215\ttotal: 37s\tremaining: 22.5s\n",
      "622:\tlearn: 0.0302928\ttotal: 37.1s\tremaining: 22.4s\n",
      "623:\tlearn: 0.0302524\ttotal: 37.1s\tremaining: 22.4s\n",
      "624:\tlearn: 0.0302251\ttotal: 37.2s\tremaining: 22.3s\n",
      "625:\tlearn: 0.0301978\ttotal: 37.2s\tremaining: 22.3s\n",
      "626:\tlearn: 0.0301668\ttotal: 37.3s\tremaining: 22.2s\n",
      "627:\tlearn: 0.0301510\ttotal: 37.4s\tremaining: 22.1s\n",
      "628:\tlearn: 0.0301246\ttotal: 37.4s\tremaining: 22.1s\n",
      "629:\tlearn: 0.0300775\ttotal: 37.5s\tremaining: 22s\n",
      "630:\tlearn: 0.0300424\ttotal: 37.6s\tremaining: 22s\n",
      "631:\tlearn: 0.0300198\ttotal: 37.6s\tremaining: 21.9s\n",
      "632:\tlearn: 0.0299889\ttotal: 37.7s\tremaining: 21.9s\n",
      "633:\tlearn: 0.0299521\ttotal: 37.8s\tremaining: 21.8s\n",
      "634:\tlearn: 0.0299142\ttotal: 37.8s\tremaining: 21.7s\n",
      "635:\tlearn: 0.0298830\ttotal: 37.9s\tremaining: 21.7s\n",
      "636:\tlearn: 0.0298337\ttotal: 38s\tremaining: 21.6s\n",
      "637:\tlearn: 0.0298093\ttotal: 38s\tremaining: 21.6s\n",
      "638:\tlearn: 0.0297768\ttotal: 38.1s\tremaining: 21.5s\n",
      "639:\tlearn: 0.0297486\ttotal: 38.1s\tremaining: 21.4s\n",
      "640:\tlearn: 0.0297177\ttotal: 38.2s\tremaining: 21.4s\n",
      "641:\tlearn: 0.0296938\ttotal: 38.2s\tremaining: 21.3s\n",
      "642:\tlearn: 0.0296639\ttotal: 38.3s\tremaining: 21.3s\n"
     ]
    },
    {
     "name": "stdout",
     "output_type": "stream",
     "text": [
      "643:\tlearn: 0.0296307\ttotal: 38.4s\tremaining: 21.2s\n",
      "644:\tlearn: 0.0296036\ttotal: 38.4s\tremaining: 21.1s\n",
      "645:\tlearn: 0.0295764\ttotal: 38.5s\tremaining: 21.1s\n",
      "646:\tlearn: 0.0295472\ttotal: 38.5s\tremaining: 21s\n",
      "647:\tlearn: 0.0295204\ttotal: 38.6s\tremaining: 21s\n",
      "648:\tlearn: 0.0294959\ttotal: 38.6s\tremaining: 20.9s\n",
      "649:\tlearn: 0.0294660\ttotal: 38.7s\tremaining: 20.8s\n",
      "650:\tlearn: 0.0294312\ttotal: 38.7s\tremaining: 20.8s\n",
      "651:\tlearn: 0.0294028\ttotal: 38.8s\tremaining: 20.7s\n",
      "652:\tlearn: 0.0293626\ttotal: 38.9s\tremaining: 20.7s\n",
      "653:\tlearn: 0.0293383\ttotal: 38.9s\tremaining: 20.6s\n",
      "654:\tlearn: 0.0293098\ttotal: 39s\tremaining: 20.5s\n",
      "655:\tlearn: 0.0292678\ttotal: 39s\tremaining: 20.5s\n",
      "656:\tlearn: 0.0292299\ttotal: 39.1s\tremaining: 20.4s\n",
      "657:\tlearn: 0.0292096\ttotal: 39.2s\tremaining: 20.4s\n",
      "658:\tlearn: 0.0291816\ttotal: 39.2s\tremaining: 20.3s\n",
      "659:\tlearn: 0.0291631\ttotal: 39.3s\tremaining: 20.2s\n",
      "660:\tlearn: 0.0291435\ttotal: 39.3s\tremaining: 20.2s\n",
      "661:\tlearn: 0.0291122\ttotal: 39.4s\tremaining: 20.1s\n",
      "662:\tlearn: 0.0290856\ttotal: 39.4s\tremaining: 20.1s\n",
      "663:\tlearn: 0.0290533\ttotal: 39.5s\tremaining: 20s\n",
      "664:\tlearn: 0.0290191\ttotal: 39.6s\tremaining: 19.9s\n",
      "665:\tlearn: 0.0289971\ttotal: 39.6s\tremaining: 19.9s\n",
      "666:\tlearn: 0.0289612\ttotal: 39.7s\tremaining: 19.8s\n",
      "667:\tlearn: 0.0289338\ttotal: 39.7s\tremaining: 19.7s\n",
      "668:\tlearn: 0.0289075\ttotal: 39.8s\tremaining: 19.7s\n",
      "669:\tlearn: 0.0288828\ttotal: 39.8s\tremaining: 19.6s\n",
      "670:\tlearn: 0.0288537\ttotal: 39.9s\tremaining: 19.6s\n",
      "671:\tlearn: 0.0288300\ttotal: 40s\tremaining: 19.5s\n",
      "672:\tlearn: 0.0287999\ttotal: 40s\tremaining: 19.4s\n",
      "673:\tlearn: 0.0287714\ttotal: 40.1s\tremaining: 19.4s\n",
      "674:\tlearn: 0.0287455\ttotal: 40.1s\tremaining: 19.3s\n",
      "675:\tlearn: 0.0287140\ttotal: 40.2s\tremaining: 19.3s\n",
      "676:\tlearn: 0.0286875\ttotal: 40.3s\tremaining: 19.2s\n",
      "677:\tlearn: 0.0286644\ttotal: 40.3s\tremaining: 19.1s\n",
      "678:\tlearn: 0.0286470\ttotal: 40.4s\tremaining: 19.1s\n",
      "679:\tlearn: 0.0286179\ttotal: 40.4s\tremaining: 19s\n",
      "680:\tlearn: 0.0285956\ttotal: 40.5s\tremaining: 19s\n",
      "681:\tlearn: 0.0285762\ttotal: 40.5s\tremaining: 18.9s\n",
      "682:\tlearn: 0.0285518\ttotal: 40.6s\tremaining: 18.8s\n",
      "683:\tlearn: 0.0285296\ttotal: 40.6s\tremaining: 18.8s\n",
      "684:\tlearn: 0.0285063\ttotal: 40.7s\tremaining: 18.7s\n",
      "685:\tlearn: 0.0284715\ttotal: 40.7s\tremaining: 18.6s\n",
      "686:\tlearn: 0.0284505\ttotal: 40.8s\tremaining: 18.6s\n",
      "687:\tlearn: 0.0284330\ttotal: 40.9s\tremaining: 18.5s\n",
      "688:\tlearn: 0.0284091\ttotal: 40.9s\tremaining: 18.5s\n",
      "689:\tlearn: 0.0283748\ttotal: 41s\tremaining: 18.4s\n",
      "690:\tlearn: 0.0283536\ttotal: 41s\tremaining: 18.3s\n",
      "691:\tlearn: 0.0283167\ttotal: 41.1s\tremaining: 18.3s\n",
      "692:\tlearn: 0.0282999\ttotal: 41.1s\tremaining: 18.2s\n",
      "693:\tlearn: 0.0282750\ttotal: 41.2s\tremaining: 18.2s\n",
      "694:\tlearn: 0.0282537\ttotal: 41.3s\tremaining: 18.1s\n",
      "695:\tlearn: 0.0282296\ttotal: 41.3s\tremaining: 18s\n",
      "696:\tlearn: 0.0281914\ttotal: 41.4s\tremaining: 18s\n",
      "697:\tlearn: 0.0281758\ttotal: 41.4s\tremaining: 17.9s\n",
      "698:\tlearn: 0.0281492\ttotal: 41.5s\tremaining: 17.9s\n",
      "699:\tlearn: 0.0281318\ttotal: 41.5s\tremaining: 17.8s\n",
      "700:\tlearn: 0.0281025\ttotal: 41.6s\tremaining: 17.7s\n",
      "701:\tlearn: 0.0280784\ttotal: 41.7s\tremaining: 17.7s\n",
      "702:\tlearn: 0.0280549\ttotal: 41.7s\tremaining: 17.6s\n",
      "703:\tlearn: 0.0280293\ttotal: 41.8s\tremaining: 17.6s\n",
      "704:\tlearn: 0.0280029\ttotal: 41.8s\tremaining: 17.5s\n",
      "705:\tlearn: 0.0279795\ttotal: 41.9s\tremaining: 17.4s\n",
      "706:\tlearn: 0.0279602\ttotal: 41.9s\tremaining: 17.4s\n",
      "707:\tlearn: 0.0279338\ttotal: 42s\tremaining: 17.3s\n",
      "708:\tlearn: 0.0279143\ttotal: 42.1s\tremaining: 17.3s\n",
      "709:\tlearn: 0.0278810\ttotal: 42.1s\tremaining: 17.2s\n",
      "710:\tlearn: 0.0278540\ttotal: 42.2s\tremaining: 17.1s\n",
      "711:\tlearn: 0.0278183\ttotal: 42.2s\tremaining: 17.1s\n",
      "712:\tlearn: 0.0277999\ttotal: 42.3s\tremaining: 17s\n",
      "713:\tlearn: 0.0277727\ttotal: 42.4s\tremaining: 17s\n",
      "714:\tlearn: 0.0277503\ttotal: 42.4s\tremaining: 16.9s\n",
      "715:\tlearn: 0.0277281\ttotal: 42.5s\tremaining: 16.9s\n",
      "716:\tlearn: 0.0276916\ttotal: 42.6s\tremaining: 16.8s\n",
      "717:\tlearn: 0.0276690\ttotal: 42.6s\tremaining: 16.7s\n",
      "718:\tlearn: 0.0276490\ttotal: 42.7s\tremaining: 16.7s\n",
      "719:\tlearn: 0.0276314\ttotal: 42.7s\tremaining: 16.6s\n",
      "720:\tlearn: 0.0276028\ttotal: 42.8s\tremaining: 16.6s\n",
      "721:\tlearn: 0.0275734\ttotal: 42.9s\tremaining: 16.5s\n",
      "722:\tlearn: 0.0275630\ttotal: 42.9s\tremaining: 16.4s\n",
      "723:\tlearn: 0.0275374\ttotal: 43s\tremaining: 16.4s\n",
      "724:\tlearn: 0.0275113\ttotal: 43s\tremaining: 16.3s\n",
      "725:\tlearn: 0.0274967\ttotal: 43.1s\tremaining: 16.3s\n",
      "726:\tlearn: 0.0274713\ttotal: 43.1s\tremaining: 16.2s\n",
      "727:\tlearn: 0.0274517\ttotal: 43.2s\tremaining: 16.1s\n",
      "728:\tlearn: 0.0274196\ttotal: 43.2s\tremaining: 16.1s\n",
      "729:\tlearn: 0.0274029\ttotal: 43.3s\tremaining: 16s\n",
      "730:\tlearn: 0.0273770\ttotal: 43.4s\tremaining: 16s\n",
      "731:\tlearn: 0.0273484\ttotal: 43.4s\tremaining: 15.9s\n",
      "732:\tlearn: 0.0273329\ttotal: 43.5s\tremaining: 15.8s\n",
      "733:\tlearn: 0.0273125\ttotal: 43.5s\tremaining: 15.8s\n",
      "734:\tlearn: 0.0272951\ttotal: 43.6s\tremaining: 15.7s\n",
      "735:\tlearn: 0.0272682\ttotal: 43.6s\tremaining: 15.7s\n",
      "736:\tlearn: 0.0272466\ttotal: 43.7s\tremaining: 15.6s\n",
      "737:\tlearn: 0.0272259\ttotal: 43.8s\tremaining: 15.5s\n",
      "738:\tlearn: 0.0271973\ttotal: 43.8s\tremaining: 15.5s\n",
      "739:\tlearn: 0.0271682\ttotal: 43.9s\tremaining: 15.4s\n",
      "740:\tlearn: 0.0271458\ttotal: 43.9s\tremaining: 15.4s\n",
      "741:\tlearn: 0.0271229\ttotal: 44s\tremaining: 15.3s\n",
      "742:\tlearn: 0.0270992\ttotal: 44.1s\tremaining: 15.2s\n",
      "743:\tlearn: 0.0270778\ttotal: 44.1s\tremaining: 15.2s\n",
      "744:\tlearn: 0.0270567\ttotal: 44.2s\tremaining: 15.1s\n",
      "745:\tlearn: 0.0270335\ttotal: 44.2s\tremaining: 15.1s\n",
      "746:\tlearn: 0.0270136\ttotal: 44.3s\tremaining: 15s\n",
      "747:\tlearn: 0.0269850\ttotal: 44.3s\tremaining: 14.9s\n",
      "748:\tlearn: 0.0269670\ttotal: 44.4s\tremaining: 14.9s\n",
      "749:\tlearn: 0.0269470\ttotal: 44.5s\tremaining: 14.8s\n",
      "750:\tlearn: 0.0269349\ttotal: 44.5s\tremaining: 14.8s\n",
      "751:\tlearn: 0.0269226\ttotal: 44.6s\tremaining: 14.7s\n",
      "752:\tlearn: 0.0269009\ttotal: 44.7s\tremaining: 14.6s\n",
      "753:\tlearn: 0.0268611\ttotal: 44.7s\tremaining: 14.6s\n",
      "754:\tlearn: 0.0268355\ttotal: 44.8s\tremaining: 14.5s\n",
      "755:\tlearn: 0.0268226\ttotal: 44.8s\tremaining: 14.5s\n",
      "756:\tlearn: 0.0267947\ttotal: 44.9s\tremaining: 14.4s\n",
      "757:\tlearn: 0.0267703\ttotal: 45s\tremaining: 14.4s\n",
      "758:\tlearn: 0.0267436\ttotal: 45s\tremaining: 14.3s\n",
      "759:\tlearn: 0.0267102\ttotal: 45.1s\tremaining: 14.2s\n",
      "760:\tlearn: 0.0266820\ttotal: 45.1s\tremaining: 14.2s\n",
      "761:\tlearn: 0.0266592\ttotal: 45.2s\tremaining: 14.1s\n",
      "762:\tlearn: 0.0266243\ttotal: 45.2s\tremaining: 14.1s\n",
      "763:\tlearn: 0.0266032\ttotal: 45.3s\tremaining: 14s\n",
      "764:\tlearn: 0.0265799\ttotal: 45.4s\tremaining: 13.9s\n",
      "765:\tlearn: 0.0265615\ttotal: 45.4s\tremaining: 13.9s\n",
      "766:\tlearn: 0.0265435\ttotal: 45.5s\tremaining: 13.8s\n",
      "767:\tlearn: 0.0265278\ttotal: 45.5s\tremaining: 13.8s\n",
      "768:\tlearn: 0.0265066\ttotal: 45.6s\tremaining: 13.7s\n",
      "769:\tlearn: 0.0264879\ttotal: 45.6s\tremaining: 13.6s\n",
      "770:\tlearn: 0.0264625\ttotal: 45.7s\tremaining: 13.6s\n",
      "771:\tlearn: 0.0264266\ttotal: 45.8s\tremaining: 13.5s\n",
      "772:\tlearn: 0.0263994\ttotal: 45.8s\tremaining: 13.5s\n",
      "773:\tlearn: 0.0263782\ttotal: 45.9s\tremaining: 13.4s\n",
      "774:\tlearn: 0.0263544\ttotal: 45.9s\tremaining: 13.3s\n",
      "775:\tlearn: 0.0263411\ttotal: 46s\tremaining: 13.3s\n",
      "776:\tlearn: 0.0263030\ttotal: 46.1s\tremaining: 13.2s\n",
      "777:\tlearn: 0.0262824\ttotal: 46.1s\tremaining: 13.2s\n",
      "778:\tlearn: 0.0262574\ttotal: 46.2s\tremaining: 13.1s\n",
      "779:\tlearn: 0.0262190\ttotal: 46.2s\tremaining: 13s\n",
      "780:\tlearn: 0.0261950\ttotal: 46.3s\tremaining: 13s\n",
      "781:\tlearn: 0.0261722\ttotal: 46.4s\tremaining: 12.9s\n",
      "782:\tlearn: 0.0261435\ttotal: 46.4s\tremaining: 12.9s\n",
      "783:\tlearn: 0.0261284\ttotal: 46.5s\tremaining: 12.8s\n",
      "784:\tlearn: 0.0261133\ttotal: 46.6s\tremaining: 12.8s\n",
      "785:\tlearn: 0.0260950\ttotal: 46.6s\tremaining: 12.7s\n",
      "786:\tlearn: 0.0260790\ttotal: 46.7s\tremaining: 12.6s\n",
      "787:\tlearn: 0.0260601\ttotal: 46.7s\tremaining: 12.6s\n",
      "788:\tlearn: 0.0260377\ttotal: 46.8s\tremaining: 12.5s\n",
      "789:\tlearn: 0.0260115\ttotal: 46.8s\tremaining: 12.5s\n",
      "790:\tlearn: 0.0259923\ttotal: 46.9s\tremaining: 12.4s\n",
      "791:\tlearn: 0.0259741\ttotal: 47s\tremaining: 12.3s\n",
      "792:\tlearn: 0.0259550\ttotal: 47s\tremaining: 12.3s\n",
      "793:\tlearn: 0.0259311\ttotal: 47.1s\tremaining: 12.2s\n",
      "794:\tlearn: 0.0259006\ttotal: 47.1s\tremaining: 12.2s\n",
      "795:\tlearn: 0.0258645\ttotal: 47.2s\tremaining: 12.1s\n",
      "796:\tlearn: 0.0258451\ttotal: 47.3s\tremaining: 12s\n",
      "797:\tlearn: 0.0258237\ttotal: 47.3s\tremaining: 12s\n",
      "798:\tlearn: 0.0258003\ttotal: 47.4s\tremaining: 11.9s\n",
      "799:\tlearn: 0.0257765\ttotal: 47.4s\tremaining: 11.9s\n",
      "800:\tlearn: 0.0257581\ttotal: 47.5s\tremaining: 11.8s\n",
      "801:\tlearn: 0.0257357\ttotal: 47.6s\tremaining: 11.7s\n",
      "802:\tlearn: 0.0257156\ttotal: 47.6s\tremaining: 11.7s\n",
      "803:\tlearn: 0.0256911\ttotal: 47.7s\tremaining: 11.6s\n"
     ]
    },
    {
     "name": "stdout",
     "output_type": "stream",
     "text": [
      "804:\tlearn: 0.0256675\ttotal: 47.7s\tremaining: 11.6s\n",
      "805:\tlearn: 0.0256520\ttotal: 47.8s\tremaining: 11.5s\n",
      "806:\tlearn: 0.0256293\ttotal: 47.8s\tremaining: 11.4s\n",
      "807:\tlearn: 0.0256118\ttotal: 47.9s\tremaining: 11.4s\n",
      "808:\tlearn: 0.0255826\ttotal: 48s\tremaining: 11.3s\n",
      "809:\tlearn: 0.0255468\ttotal: 48s\tremaining: 11.3s\n",
      "810:\tlearn: 0.0255287\ttotal: 48.1s\tremaining: 11.2s\n",
      "811:\tlearn: 0.0255120\ttotal: 48.1s\tremaining: 11.1s\n",
      "812:\tlearn: 0.0254947\ttotal: 48.2s\tremaining: 11.1s\n",
      "813:\tlearn: 0.0254765\ttotal: 48.2s\tremaining: 11s\n",
      "814:\tlearn: 0.0254514\ttotal: 48.3s\tremaining: 11s\n",
      "815:\tlearn: 0.0254314\ttotal: 48.4s\tremaining: 10.9s\n",
      "816:\tlearn: 0.0254063\ttotal: 48.4s\tremaining: 10.8s\n",
      "817:\tlearn: 0.0253888\ttotal: 48.5s\tremaining: 10.8s\n",
      "818:\tlearn: 0.0253639\ttotal: 48.5s\tremaining: 10.7s\n",
      "819:\tlearn: 0.0253480\ttotal: 48.6s\tremaining: 10.7s\n",
      "820:\tlearn: 0.0253240\ttotal: 48.7s\tremaining: 10.6s\n",
      "821:\tlearn: 0.0253046\ttotal: 48.7s\tremaining: 10.6s\n",
      "822:\tlearn: 0.0252777\ttotal: 48.8s\tremaining: 10.5s\n",
      "823:\tlearn: 0.0252584\ttotal: 48.8s\tremaining: 10.4s\n",
      "824:\tlearn: 0.0252368\ttotal: 48.9s\tremaining: 10.4s\n",
      "825:\tlearn: 0.0252196\ttotal: 48.9s\tremaining: 10.3s\n",
      "826:\tlearn: 0.0252021\ttotal: 49s\tremaining: 10.3s\n",
      "827:\tlearn: 0.0251846\ttotal: 49.1s\tremaining: 10.2s\n",
      "828:\tlearn: 0.0251604\ttotal: 49.1s\tremaining: 10.1s\n",
      "829:\tlearn: 0.0251414\ttotal: 49.2s\tremaining: 10.1s\n",
      "830:\tlearn: 0.0251208\ttotal: 49.2s\tremaining: 10s\n",
      "831:\tlearn: 0.0251035\ttotal: 49.3s\tremaining: 9.96s\n",
      "832:\tlearn: 0.0250799\ttotal: 49.4s\tremaining: 9.9s\n",
      "833:\tlearn: 0.0250615\ttotal: 49.4s\tremaining: 9.84s\n",
      "834:\tlearn: 0.0250309\ttotal: 49.5s\tremaining: 9.78s\n",
      "835:\tlearn: 0.0250177\ttotal: 49.5s\tremaining: 9.72s\n",
      "836:\tlearn: 0.0249990\ttotal: 49.6s\tremaining: 9.66s\n",
      "837:\tlearn: 0.0249695\ttotal: 49.7s\tremaining: 9.6s\n",
      "838:\tlearn: 0.0249461\ttotal: 49.7s\tremaining: 9.54s\n",
      "839:\tlearn: 0.0249229\ttotal: 49.8s\tremaining: 9.48s\n",
      "840:\tlearn: 0.0249005\ttotal: 49.8s\tremaining: 9.42s\n",
      "841:\tlearn: 0.0248683\ttotal: 49.9s\tremaining: 9.36s\n",
      "842:\tlearn: 0.0248567\ttotal: 50s\tremaining: 9.3s\n",
      "843:\tlearn: 0.0248366\ttotal: 50s\tremaining: 9.24s\n",
      "844:\tlearn: 0.0248158\ttotal: 50.1s\tremaining: 9.19s\n",
      "845:\tlearn: 0.0247933\ttotal: 50.1s\tremaining: 9.13s\n",
      "846:\tlearn: 0.0247753\ttotal: 50.2s\tremaining: 9.07s\n",
      "847:\tlearn: 0.0247553\ttotal: 50.3s\tremaining: 9.01s\n",
      "848:\tlearn: 0.0247422\ttotal: 50.3s\tremaining: 8.95s\n",
      "849:\tlearn: 0.0247263\ttotal: 50.4s\tremaining: 8.89s\n",
      "850:\tlearn: 0.0247105\ttotal: 50.4s\tremaining: 8.83s\n",
      "851:\tlearn: 0.0246880\ttotal: 50.5s\tremaining: 8.77s\n",
      "852:\tlearn: 0.0246740\ttotal: 50.5s\tremaining: 8.71s\n",
      "853:\tlearn: 0.0246618\ttotal: 50.6s\tremaining: 8.65s\n",
      "854:\tlearn: 0.0246325\ttotal: 50.7s\tremaining: 8.59s\n",
      "855:\tlearn: 0.0246126\ttotal: 50.7s\tremaining: 8.53s\n",
      "856:\tlearn: 0.0245982\ttotal: 50.8s\tremaining: 8.47s\n",
      "857:\tlearn: 0.0245855\ttotal: 50.8s\tremaining: 8.41s\n",
      "858:\tlearn: 0.0245664\ttotal: 50.9s\tremaining: 8.35s\n",
      "859:\tlearn: 0.0245349\ttotal: 50.9s\tremaining: 8.29s\n",
      "860:\tlearn: 0.0245222\ttotal: 51s\tremaining: 8.23s\n",
      "861:\tlearn: 0.0245060\ttotal: 51.1s\tremaining: 8.18s\n",
      "862:\tlearn: 0.0244900\ttotal: 51.1s\tremaining: 8.12s\n",
      "863:\tlearn: 0.0244614\ttotal: 51.2s\tremaining: 8.06s\n",
      "864:\tlearn: 0.0244373\ttotal: 51.3s\tremaining: 8s\n",
      "865:\tlearn: 0.0244113\ttotal: 51.3s\tremaining: 7.94s\n",
      "866:\tlearn: 0.0243916\ttotal: 51.4s\tremaining: 7.88s\n",
      "867:\tlearn: 0.0243735\ttotal: 51.4s\tremaining: 7.82s\n",
      "868:\tlearn: 0.0243656\ttotal: 51.5s\tremaining: 7.76s\n",
      "869:\tlearn: 0.0243542\ttotal: 51.5s\tremaining: 7.7s\n",
      "870:\tlearn: 0.0243350\ttotal: 51.6s\tremaining: 7.64s\n",
      "871:\tlearn: 0.0243126\ttotal: 51.6s\tremaining: 7.58s\n",
      "872:\tlearn: 0.0242868\ttotal: 51.7s\tremaining: 7.52s\n",
      "873:\tlearn: 0.0242632\ttotal: 51.8s\tremaining: 7.46s\n",
      "874:\tlearn: 0.0242422\ttotal: 51.8s\tremaining: 7.4s\n",
      "875:\tlearn: 0.0242128\ttotal: 51.9s\tremaining: 7.34s\n",
      "876:\tlearn: 0.0241824\ttotal: 51.9s\tremaining: 7.28s\n",
      "877:\tlearn: 0.0241677\ttotal: 52s\tremaining: 7.22s\n",
      "878:\tlearn: 0.0241354\ttotal: 52.1s\tremaining: 7.17s\n",
      "879:\tlearn: 0.0241170\ttotal: 52.1s\tremaining: 7.11s\n",
      "880:\tlearn: 0.0240959\ttotal: 52.2s\tremaining: 7.05s\n",
      "881:\tlearn: 0.0240775\ttotal: 52.2s\tremaining: 6.99s\n",
      "882:\tlearn: 0.0240575\ttotal: 52.3s\tremaining: 6.93s\n",
      "883:\tlearn: 0.0240480\ttotal: 52.3s\tremaining: 6.87s\n",
      "884:\tlearn: 0.0240296\ttotal: 52.4s\tremaining: 6.81s\n",
      "885:\tlearn: 0.0240030\ttotal: 52.5s\tremaining: 6.75s\n",
      "886:\tlearn: 0.0239866\ttotal: 52.5s\tremaining: 6.69s\n",
      "887:\tlearn: 0.0239712\ttotal: 52.6s\tremaining: 6.63s\n",
      "888:\tlearn: 0.0239531\ttotal: 52.6s\tremaining: 6.57s\n",
      "889:\tlearn: 0.0239339\ttotal: 52.7s\tremaining: 6.51s\n",
      "890:\tlearn: 0.0239154\ttotal: 52.8s\tremaining: 6.46s\n",
      "891:\tlearn: 0.0238974\ttotal: 52.8s\tremaining: 6.4s\n",
      "892:\tlearn: 0.0238752\ttotal: 52.9s\tremaining: 6.34s\n",
      "893:\tlearn: 0.0238539\ttotal: 52.9s\tremaining: 6.28s\n",
      "894:\tlearn: 0.0238348\ttotal: 53s\tremaining: 6.22s\n",
      "895:\tlearn: 0.0238175\ttotal: 53.1s\tremaining: 6.16s\n",
      "896:\tlearn: 0.0237878\ttotal: 53.1s\tremaining: 6.1s\n",
      "897:\tlearn: 0.0237680\ttotal: 53.2s\tremaining: 6.04s\n",
      "898:\tlearn: 0.0237474\ttotal: 53.2s\tremaining: 5.98s\n",
      "899:\tlearn: 0.0237306\ttotal: 53.3s\tremaining: 5.92s\n",
      "900:\tlearn: 0.0237099\ttotal: 53.4s\tremaining: 5.86s\n",
      "901:\tlearn: 0.0236880\ttotal: 53.4s\tremaining: 5.8s\n",
      "902:\tlearn: 0.0236701\ttotal: 53.5s\tremaining: 5.74s\n",
      "903:\tlearn: 0.0236389\ttotal: 53.5s\tremaining: 5.68s\n",
      "904:\tlearn: 0.0236151\ttotal: 53.6s\tremaining: 5.63s\n",
      "905:\tlearn: 0.0235929\ttotal: 53.7s\tremaining: 5.57s\n",
      "906:\tlearn: 0.0235794\ttotal: 53.7s\tremaining: 5.51s\n",
      "907:\tlearn: 0.0235484\ttotal: 53.8s\tremaining: 5.45s\n",
      "908:\tlearn: 0.0235327\ttotal: 53.8s\tremaining: 5.39s\n",
      "909:\tlearn: 0.0235211\ttotal: 53.9s\tremaining: 5.33s\n",
      "910:\tlearn: 0.0235046\ttotal: 53.9s\tremaining: 5.27s\n",
      "911:\tlearn: 0.0234927\ttotal: 54s\tremaining: 5.21s\n",
      "912:\tlearn: 0.0234757\ttotal: 54s\tremaining: 5.15s\n",
      "913:\tlearn: 0.0234682\ttotal: 54.1s\tremaining: 5.09s\n",
      "914:\tlearn: 0.0234556\ttotal: 54.2s\tremaining: 5.03s\n",
      "915:\tlearn: 0.0234367\ttotal: 54.2s\tremaining: 4.97s\n",
      "916:\tlearn: 0.0234201\ttotal: 54.3s\tremaining: 4.91s\n",
      "917:\tlearn: 0.0234036\ttotal: 54.3s\tremaining: 4.85s\n",
      "918:\tlearn: 0.0233881\ttotal: 54.4s\tremaining: 4.79s\n",
      "919:\tlearn: 0.0233682\ttotal: 54.5s\tremaining: 4.74s\n",
      "920:\tlearn: 0.0233458\ttotal: 54.5s\tremaining: 4.67s\n",
      "921:\tlearn: 0.0233298\ttotal: 54.6s\tremaining: 4.62s\n",
      "922:\tlearn: 0.0233132\ttotal: 54.6s\tremaining: 4.56s\n",
      "923:\tlearn: 0.0232895\ttotal: 54.7s\tremaining: 4.5s\n",
      "924:\tlearn: 0.0232753\ttotal: 54.8s\tremaining: 4.44s\n",
      "925:\tlearn: 0.0232500\ttotal: 54.8s\tremaining: 4.38s\n",
      "926:\tlearn: 0.0232383\ttotal: 54.9s\tremaining: 4.32s\n",
      "927:\tlearn: 0.0232214\ttotal: 54.9s\tremaining: 4.26s\n",
      "928:\tlearn: 0.0232004\ttotal: 55s\tremaining: 4.2s\n",
      "929:\tlearn: 0.0231743\ttotal: 55.1s\tremaining: 4.14s\n",
      "930:\tlearn: 0.0231556\ttotal: 55.1s\tremaining: 4.08s\n",
      "931:\tlearn: 0.0231387\ttotal: 55.2s\tremaining: 4.03s\n",
      "932:\tlearn: 0.0231236\ttotal: 55.2s\tremaining: 3.97s\n",
      "933:\tlearn: 0.0231056\ttotal: 55.3s\tremaining: 3.91s\n",
      "934:\tlearn: 0.0230923\ttotal: 55.4s\tremaining: 3.85s\n",
      "935:\tlearn: 0.0230839\ttotal: 55.4s\tremaining: 3.79s\n",
      "936:\tlearn: 0.0230647\ttotal: 55.5s\tremaining: 3.73s\n",
      "937:\tlearn: 0.0230461\ttotal: 55.5s\tremaining: 3.67s\n",
      "938:\tlearn: 0.0230300\ttotal: 55.6s\tremaining: 3.61s\n",
      "939:\tlearn: 0.0230058\ttotal: 55.6s\tremaining: 3.55s\n",
      "940:\tlearn: 0.0229821\ttotal: 55.7s\tremaining: 3.49s\n",
      "941:\tlearn: 0.0229683\ttotal: 55.8s\tremaining: 3.43s\n",
      "942:\tlearn: 0.0229414\ttotal: 55.8s\tremaining: 3.37s\n",
      "943:\tlearn: 0.0229261\ttotal: 55.9s\tremaining: 3.31s\n",
      "944:\tlearn: 0.0229108\ttotal: 55.9s\tremaining: 3.26s\n",
      "945:\tlearn: 0.0228911\ttotal: 56s\tremaining: 3.2s\n",
      "946:\tlearn: 0.0228734\ttotal: 56.1s\tremaining: 3.14s\n",
      "947:\tlearn: 0.0228543\ttotal: 56.1s\tremaining: 3.08s\n",
      "948:\tlearn: 0.0228359\ttotal: 56.2s\tremaining: 3.02s\n",
      "949:\tlearn: 0.0228259\ttotal: 56.2s\tremaining: 2.96s\n",
      "950:\tlearn: 0.0228067\ttotal: 56.3s\tremaining: 2.9s\n",
      "951:\tlearn: 0.0227972\ttotal: 56.4s\tremaining: 2.84s\n",
      "952:\tlearn: 0.0227752\ttotal: 56.4s\tremaining: 2.78s\n",
      "953:\tlearn: 0.0227559\ttotal: 56.5s\tremaining: 2.72s\n",
      "954:\tlearn: 0.0227452\ttotal: 56.5s\tremaining: 2.66s\n",
      "955:\tlearn: 0.0227380\ttotal: 56.6s\tremaining: 2.6s\n",
      "956:\tlearn: 0.0227107\ttotal: 56.7s\tremaining: 2.54s\n",
      "957:\tlearn: 0.0226923\ttotal: 56.7s\tremaining: 2.49s\n",
      "958:\tlearn: 0.0226794\ttotal: 56.8s\tremaining: 2.43s\n",
      "959:\tlearn: 0.0226615\ttotal: 56.8s\tremaining: 2.37s\n",
      "960:\tlearn: 0.0226498\ttotal: 56.9s\tremaining: 2.31s\n",
      "961:\tlearn: 0.0226383\ttotal: 57s\tremaining: 2.25s\n",
      "962:\tlearn: 0.0226105\ttotal: 57s\tremaining: 2.19s\n",
      "963:\tlearn: 0.0225991\ttotal: 57.1s\tremaining: 2.13s\n",
      "964:\tlearn: 0.0225861\ttotal: 57.1s\tremaining: 2.07s\n"
     ]
    },
    {
     "name": "stdout",
     "output_type": "stream",
     "text": [
      "965:\tlearn: 0.0225716\ttotal: 57.2s\tremaining: 2.01s\n",
      "966:\tlearn: 0.0225505\ttotal: 57.3s\tremaining: 1.95s\n",
      "967:\tlearn: 0.0225359\ttotal: 57.3s\tremaining: 1.89s\n",
      "968:\tlearn: 0.0225247\ttotal: 57.4s\tremaining: 1.83s\n",
      "969:\tlearn: 0.0225134\ttotal: 57.4s\tremaining: 1.78s\n",
      "970:\tlearn: 0.0224948\ttotal: 57.5s\tremaining: 1.72s\n",
      "971:\tlearn: 0.0224807\ttotal: 57.6s\tremaining: 1.66s\n",
      "972:\tlearn: 0.0224602\ttotal: 57.6s\tremaining: 1.6s\n",
      "973:\tlearn: 0.0224459\ttotal: 57.7s\tremaining: 1.54s\n",
      "974:\tlearn: 0.0224278\ttotal: 57.8s\tremaining: 1.48s\n",
      "975:\tlearn: 0.0224137\ttotal: 57.8s\tremaining: 1.42s\n",
      "976:\tlearn: 0.0224036\ttotal: 57.9s\tremaining: 1.36s\n",
      "977:\tlearn: 0.0223900\ttotal: 57.9s\tremaining: 1.3s\n",
      "978:\tlearn: 0.0223786\ttotal: 58s\tremaining: 1.24s\n",
      "979:\tlearn: 0.0223664\ttotal: 58.1s\tremaining: 1.18s\n",
      "980:\tlearn: 0.0223497\ttotal: 58.1s\tremaining: 1.13s\n",
      "981:\tlearn: 0.0223346\ttotal: 58.2s\tremaining: 1.07s\n",
      "982:\tlearn: 0.0223184\ttotal: 58.2s\tremaining: 1.01s\n",
      "983:\tlearn: 0.0223017\ttotal: 58.3s\tremaining: 948ms\n",
      "984:\tlearn: 0.0222895\ttotal: 58.3s\tremaining: 889ms\n",
      "985:\tlearn: 0.0222684\ttotal: 58.4s\tremaining: 829ms\n",
      "986:\tlearn: 0.0222493\ttotal: 58.5s\tremaining: 770ms\n",
      "987:\tlearn: 0.0222229\ttotal: 58.5s\tremaining: 711ms\n",
      "988:\tlearn: 0.0222110\ttotal: 58.6s\tremaining: 652ms\n",
      "989:\tlearn: 0.0221979\ttotal: 58.6s\tremaining: 592ms\n",
      "990:\tlearn: 0.0221814\ttotal: 58.7s\tremaining: 533ms\n",
      "991:\tlearn: 0.0221637\ttotal: 58.8s\tremaining: 474ms\n",
      "992:\tlearn: 0.0221447\ttotal: 58.8s\tremaining: 415ms\n",
      "993:\tlearn: 0.0221303\ttotal: 58.9s\tremaining: 355ms\n",
      "994:\tlearn: 0.0221154\ttotal: 58.9s\tremaining: 296ms\n",
      "995:\tlearn: 0.0220981\ttotal: 59s\tremaining: 237ms\n",
      "996:\tlearn: 0.0220746\ttotal: 59.1s\tremaining: 178ms\n",
      "997:\tlearn: 0.0220556\ttotal: 59.1s\tremaining: 118ms\n",
      "998:\tlearn: 0.0220323\ttotal: 59.2s\tremaining: 59.2ms\n",
      "999:\tlearn: 0.0220122\ttotal: 59.2s\tremaining: 0us\n"
     ]
    },
    {
     "data": {
      "text/plain": [
       "<catboost.core.CatBoostClassifier at 0x15d7f148c48>"
      ]
     },
     "execution_count": 16,
     "metadata": {},
     "output_type": "execute_result"
    }
   ],
   "source": [
    "#Using Catboost since it gives us the best scores\n",
    "cbc = CatBoostClassifier()\n",
    "cbc.fit(X_train,y_train)"
   ]
  },
  {
   "cell_type": "code",
   "execution_count": 17,
   "id": "automotive-lounge",
   "metadata": {},
   "outputs": [],
   "source": [
    "import pickle\n",
    "pickle.dump(cbc,open('models/loan_interest_prediction.sav','wb'))"
   ]
  },
  {
   "cell_type": "code",
   "execution_count": 11,
   "id": "Df2jXSZxFK5Q",
   "metadata": {
    "id": "Df2jXSZxFK5Q"
   },
   "outputs": [
    {
     "name": "stdout",
     "output_type": "stream",
     "text": [
      "              precision    recall  f1-score   support\n",
      "\n",
      "           1       0.99      1.00      0.99      6849\n",
      "           2       0.99      0.99      0.99     12560\n",
      "           3       0.99      0.99      0.99      9051\n",
      "\n",
      "    accuracy                           0.99     28460\n",
      "   macro avg       0.99      0.99      0.99     28460\n",
      "weighted avg       0.99      0.99      0.99     28460\n",
      "\n"
     ]
    }
   ],
   "source": [
    "from sklearn.metrics import classification_report,confusion_matrix\n",
    "cpred = cbc.predict(X_test)\n",
    "print(classification_report(y_test,cpred))"
   ]
  },
  {
   "cell_type": "code",
   "execution_count": 29,
   "id": "thrown-values",
   "metadata": {},
   "outputs": [
    {
     "data": {
      "image/png": "[encoded data removed]",
      "text/plain": [
       "<Figure size 1080x432 with 2 Axes>"
      ]
     },
     "metadata": {
      "needs_background": "light"
     },
     "output_type": "display_data"
    }
   ],
   "source": [
    "plt.figure(figsize = (15,6))\n",
    "sns.heatmap(confusion_matrix(y_test,cpred),annot = True,fmt = '.2f',cmap = 'YlGnBu')\n",
    "plt.title('Final model created after clustering using CatBoost')\n",
    "plt.xticks([0.5,1.5,2.5],[1,2,3])\n",
    "plt.yticks([0.5,1.5,2.5],[1,2,3])\n",
    "plt.show()"
   ]
  },
  {
   "cell_type": "markdown",
   "id": "beneficial-mountain",
   "metadata": {},
   "source": [
    "# Notebook Summary\n",
    "\n",
    "###### Converting all categorical columns to numerical\n",
    "\n",
    "since we are performing unsupervised learning here we are using LabelEncoder as the clusters would get created accordingly and effect of magnitude will not be as bad as it is when we are applying traditional classification algorithms.\n",
    "\n",
    "\n",
    "###### Applying standardization \n",
    "\n",
    "Standardization was applied to data points since we are using K-Means which is a distance based or centroid based algorithm.\n",
    "\n",
    "###### Applying PCA to get optimal dimensions that preserve 95% of variance and improve overall accuracy.\n",
    "\n",
    "Using the explained_variance_ratio, we found 10 components to be adequate to preserve 95% of variance present in the dataset. \n",
    "\n",
    "###### Using Within Cluster Variation (WCV) to find appropriate number of clusters for the dataset.\n",
    "\n",
    "WCV gives us optimal cluster values of 2,3 and 4.\n",
    "\n",
    "###### Using dendrogram to confirm whether optimal number of clusters match with WCV\n",
    "\n",
    "Dendrogram on PCA data shows us 3 clusters which is what we are looking for, for an ideal comparison with the original target variable. Dendrogram was run on a sample of 35000 observations present in the dataset since we were running into memory errors. \n",
    "\n",
    "###### Created clusters vs target variable\n",
    "\n",
    "We observe that 48874 values in our original target match with our new target variable. % of data matching = 34% approx. This is very low for us to be able to create a highly accurate model from our original target set. This could be a reason for the low accuracy we are seeing in our data.\n",
    "\n",
    "###### New accuracy obtained after using target as clusters created by us\n",
    "\n",
    "|Model| \tPrecision| \tRecall| \tF1 Score| \tAccuracy|\n",
    "|---|---|---|---|---|\n",
    "| \tCatboostClassifier| \t0.99| \t0.99| \t0.99| \t0.99|\n",
    "| \tExtraTreesClassifier| \t0.97| \t0.97| \t0.97|\t0.97|\n",
    "| \tRandomForestClassifier| \t0.97| \t0.97| \t0.97| \t0.97|\n",
    "| \tGradientBoostingClassifier| \t0.97| \t0.97| \t0.97| \t0.97|\n",
    "| \tXGBClassifier| \t0.97| \t0.97| \t0.97| \t0.97|\n",
    "| \tDecisionTreeClassifier| \t0.94| \t0.94| \t0.94| \t0.94|\n",
    "| \tAdaBoostClassifier| \t0.93| \t0.93| \t0.93| \t0.93|\n",
    "| \tMultinomialNB| \t0.72| \t0.72| \t0.72| \t0.72|\n",
    "\n",
    "**After clustering and creating ML models on the new target, we can clearly see a massive improvement in model performance. It seems like there must have been some more parameters that have determined our original target variable that was not provided to us within our dataset.**"
   ]
  },
  {
   "cell_type": "code",
   "execution_count": 25,
   "id": "undefined-advertising",
   "metadata": {},
   "outputs": [
    {
     "data": {
      "text/plain": [
       "2    62784\n",
       "3    46022\n",
       "1    33493\n",
       "Name: Interest_Rate, dtype: int64"
      ]
     },
     "execution_count": 25,
     "metadata": {},
     "output_type": "execute_result"
    }
   ],
   "source": [
    "df['Interest_Rate'].value_counts()"
   ]
  },
  {
   "cell_type": "code",
   "execution_count": 7,
   "id": "assigned-baghdad",
   "metadata": {},
   "outputs": [
    {
     "data": {
      "text/plain": [
       "0.3434598978207858"
      ]
     },
     "execution_count": 7,
     "metadata": {},
     "output_type": "execute_result"
    }
   ],
   "source": [
    "48874/142299"
   ]
  },
  {
   "cell_type": "code",
   "execution_count": null,
   "id": "mathematical-sheriff",
   "metadata": {},
   "outputs": [],
   "source": []
  }
 ],
 "metadata": {
  "accelerator": "GPU",
  "colab": {
   "name": "USL_Final.ipynb",
   "provenance": []
  },
  "kernelspec": {
   "display_name": "Python 3",
   "language": "python",
   "name": "python3"
  },
  "language_info": {
   "codemirror_mode": {
    "name": "ipython",
    "version": 3
   },
   "file_extension": ".py",
   "mimetype": "text/x-python",
   "name": "python",
   "nbconvert_exporter": "python",
   "pygments_lexer": "ipython3",
   "version": "3.7.10"
  }
 },
 "nbformat": 4,
 "nbformat_minor": 5
}
