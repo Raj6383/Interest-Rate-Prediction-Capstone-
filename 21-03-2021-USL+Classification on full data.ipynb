{
 "cells": [
  {
   "cell_type": "markdown",
   "id": "joined-romantic",
   "metadata": {},
   "source": [
    "# Interest Rate prediction (Classification and Unsupervised Learning)."
   ]
  },
  {
   "cell_type": "markdown",
   "id": "supposed-breach",
   "metadata": {},
   "source": [
    "###### Import libraries"
   ]
  },
  {
   "cell_type": "code",
   "execution_count": 1,
   "id": "listed-translation",
   "metadata": {},
   "outputs": [],
   "source": [
    "import warnings\n",
    "warnings.simplefilter('ignore')\n",
    "import pandas as pd\n",
    "import matplotlib.pyplot as plt\n",
    "import seaborn as sns\n",
    "import numpy as np"
   ]
  },
  {
   "cell_type": "code",
   "execution_count": 7,
   "id": "vocational-advance",
   "metadata": {},
   "outputs": [
    {
     "data": {
      "text/html": [
       "<div>\n",
       "<style scoped>\n",
       "    .dataframe tbody tr th:only-of-type {\n",
       "        vertical-align: middle;\n",
       "    }\n",
       "\n",
       "    .dataframe tbody tr th {\n",
       "        vertical-align: top;\n",
       "    }\n",
       "\n",
       "    .dataframe thead th {\n",
       "        text-align: right;\n",
       "    }\n",
       "</style>\n",
       "<table border=\"1\" class=\"dataframe\">\n",
       "  <thead>\n",
       "    <tr style=\"text-align: right;\">\n",
       "      <th></th>\n",
       "      <th>Length_Employed</th>\n",
       "      <th>Home_Owner</th>\n",
       "      <th>Income_Verified</th>\n",
       "      <th>Purpose_Of_Loan</th>\n",
       "      <th>Debt_To_Income</th>\n",
       "      <th>Inquiries_Last_6Mo</th>\n",
       "      <th>Months_Since_Deliquency</th>\n",
       "      <th>Gender</th>\n",
       "      <th>Mortgage_on_house</th>\n",
       "      <th>Number_Closed_Accounts</th>\n",
       "      <th>Annual_Income_Amt_Req</th>\n",
       "      <th>Interest_Rate</th>\n",
       "    </tr>\n",
       "  </thead>\n",
       "  <tbody>\n",
       "    <tr>\n",
       "      <th>0</th>\n",
       "      <td>10+</td>\n",
       "      <td>Mortgage</td>\n",
       "      <td>verified</td>\n",
       "      <td>liability</td>\n",
       "      <td>13.0</td>\n",
       "      <td>0.0</td>\n",
       "      <td>poor</td>\n",
       "      <td>Male</td>\n",
       "      <td>Yes</td>\n",
       "      <td>27.0</td>\n",
       "      <td>4.690909</td>\n",
       "      <td>2</td>\n",
       "    </tr>\n",
       "    <tr>\n",
       "      <th>1</th>\n",
       "      <td>10+</td>\n",
       "      <td>Rent</td>\n",
       "      <td>not verified</td>\n",
       "      <td>liability</td>\n",
       "      <td>11.0</td>\n",
       "      <td>0.0</td>\n",
       "      <td>good</td>\n",
       "      <td>Male</td>\n",
       "      <td>No</td>\n",
       "      <td>17.0</td>\n",
       "      <td>4.230769</td>\n",
       "      <td>3</td>\n",
       "    </tr>\n",
       "    <tr>\n",
       "      <th>2</th>\n",
       "      <td>0-1</td>\n",
       "      <td>Rent</td>\n",
       "      <td>verified</td>\n",
       "      <td>liability</td>\n",
       "      <td>7.0</td>\n",
       "      <td>2.0</td>\n",
       "      <td>good</td>\n",
       "      <td>Male</td>\n",
       "      <td>No</td>\n",
       "      <td>15.0</td>\n",
       "      <td>12.345679</td>\n",
       "      <td>3</td>\n",
       "    </tr>\n",
       "    <tr>\n",
       "      <th>3</th>\n",
       "      <td>10+</td>\n",
       "      <td>Mortgage</td>\n",
       "      <td>verified</td>\n",
       "      <td>liability</td>\n",
       "      <td>8.0</td>\n",
       "      <td>0.0</td>\n",
       "      <td>good</td>\n",
       "      <td>Male</td>\n",
       "      <td>Yes</td>\n",
       "      <td>2.0</td>\n",
       "      <td>6.083333</td>\n",
       "      <td>2</td>\n",
       "    </tr>\n",
       "    <tr>\n",
       "      <th>4</th>\n",
       "      <td>6-9</td>\n",
       "      <td>Mortgage</td>\n",
       "      <td>verified</td>\n",
       "      <td>asset</td>\n",
       "      <td>0.0</td>\n",
       "      <td>2.0</td>\n",
       "      <td>good</td>\n",
       "      <td>Female</td>\n",
       "      <td>Yes</td>\n",
       "      <td>1.0</td>\n",
       "      <td>4.929000</td>\n",
       "      <td>2</td>\n",
       "    </tr>\n",
       "  </tbody>\n",
       "</table>\n",
       "</div>"
      ],
      "text/plain": [
       "  Length_Employed Home_Owner Income_Verified Purpose_Of_Loan  Debt_To_Income  \\\n",
       "0             10+   Mortgage        verified       liability            13.0   \n",
       "1             10+       Rent    not verified       liability            11.0   \n",
       "2             0-1       Rent        verified       liability             7.0   \n",
       "3             10+   Mortgage        verified       liability             8.0   \n",
       "4             6-9   Mortgage        verified           asset             0.0   \n",
       "\n",
       "   Inquiries_Last_6Mo Months_Since_Deliquency  Gender Mortgage_on_house  \\\n",
       "0                 0.0                    poor    Male               Yes   \n",
       "1                 0.0                    good    Male                No   \n",
       "2                 2.0                    good    Male                No   \n",
       "3                 0.0                    good    Male               Yes   \n",
       "4                 2.0                    good  Female               Yes   \n",
       "\n",
       "   Number_Closed_Accounts  Annual_Income_Amt_Req  Interest_Rate  \n",
       "0                    27.0               4.690909              2  \n",
       "1                    17.0               4.230769              3  \n",
       "2                    15.0              12.345679              3  \n",
       "3                     2.0               6.083333              2  \n",
       "4                     1.0               4.929000              2  "
      ]
     },
     "execution_count": 7,
     "metadata": {},
     "output_type": "execute_result"
    }
   ],
   "source": [
    "data = pd.read_csv('Data/master.csv')\n",
    "train = pd.read_csv('Data/capstone_train.csv')\n",
    "data.head()"
   ]
  },
  {
   "cell_type": "code",
   "execution_count": 16,
   "id": "practical-oasis",
   "metadata": {},
   "outputs": [],
   "source": [
    "#Map to convert from categorical to numerical\n",
    "cat_cols = data.select_dtypes('object').columns\n",
    "cat_cols_map = {}\n",
    "for i in data.select_dtypes('object'):\n",
    "    temp = data[i].dropna().unique()\n",
    "    d = dict(zip(temp,list(range(len(temp)))))\n",
    "    cat_cols_map.setdefault(i,d)"
   ]
  },
  {
   "cell_type": "code",
   "execution_count": 20,
   "id": "preliminary-separate",
   "metadata": {},
   "outputs": [
    {
     "data": {
      "text/html": [
       "<div>\n",
       "<style scoped>\n",
       "    .dataframe tbody tr th:only-of-type {\n",
       "        vertical-align: middle;\n",
       "    }\n",
       "\n",
       "    .dataframe tbody tr th {\n",
       "        vertical-align: top;\n",
       "    }\n",
       "\n",
       "    .dataframe thead th {\n",
       "        text-align: right;\n",
       "    }\n",
       "</style>\n",
       "<table border=\"1\" class=\"dataframe\">\n",
       "  <thead>\n",
       "    <tr style=\"text-align: right;\">\n",
       "      <th></th>\n",
       "      <th>Length_Employed</th>\n",
       "      <th>Home_Owner</th>\n",
       "      <th>Income_Verified</th>\n",
       "      <th>Purpose_Of_Loan</th>\n",
       "      <th>Debt_To_Income</th>\n",
       "      <th>Inquiries_Last_6Mo</th>\n",
       "      <th>Months_Since_Deliquency</th>\n",
       "      <th>Gender</th>\n",
       "      <th>Mortgage_on_house</th>\n",
       "      <th>Number_Closed_Accounts</th>\n",
       "      <th>Annual_Income_Amt_Req</th>\n",
       "      <th>Interest_Rate</th>\n",
       "    </tr>\n",
       "  </thead>\n",
       "  <tbody>\n",
       "    <tr>\n",
       "      <th>0</th>\n",
       "      <td>0</td>\n",
       "      <td>0</td>\n",
       "      <td>0</td>\n",
       "      <td>0</td>\n",
       "      <td>13.0</td>\n",
       "      <td>0.0</td>\n",
       "      <td>0</td>\n",
       "      <td>0</td>\n",
       "      <td>0</td>\n",
       "      <td>27.0</td>\n",
       "      <td>4.690909</td>\n",
       "      <td>2</td>\n",
       "    </tr>\n",
       "    <tr>\n",
       "      <th>1</th>\n",
       "      <td>0</td>\n",
       "      <td>1</td>\n",
       "      <td>1</td>\n",
       "      <td>0</td>\n",
       "      <td>11.0</td>\n",
       "      <td>0.0</td>\n",
       "      <td>1</td>\n",
       "      <td>0</td>\n",
       "      <td>1</td>\n",
       "      <td>17.0</td>\n",
       "      <td>4.230769</td>\n",
       "      <td>3</td>\n",
       "    </tr>\n",
       "    <tr>\n",
       "      <th>2</th>\n",
       "      <td>1</td>\n",
       "      <td>1</td>\n",
       "      <td>0</td>\n",
       "      <td>0</td>\n",
       "      <td>7.0</td>\n",
       "      <td>2.0</td>\n",
       "      <td>1</td>\n",
       "      <td>0</td>\n",
       "      <td>1</td>\n",
       "      <td>15.0</td>\n",
       "      <td>12.345679</td>\n",
       "      <td>3</td>\n",
       "    </tr>\n",
       "    <tr>\n",
       "      <th>3</th>\n",
       "      <td>0</td>\n",
       "      <td>0</td>\n",
       "      <td>0</td>\n",
       "      <td>0</td>\n",
       "      <td>8.0</td>\n",
       "      <td>0.0</td>\n",
       "      <td>1</td>\n",
       "      <td>0</td>\n",
       "      <td>0</td>\n",
       "      <td>2.0</td>\n",
       "      <td>6.083333</td>\n",
       "      <td>2</td>\n",
       "    </tr>\n",
       "    <tr>\n",
       "      <th>4</th>\n",
       "      <td>2</td>\n",
       "      <td>0</td>\n",
       "      <td>0</td>\n",
       "      <td>1</td>\n",
       "      <td>0.0</td>\n",
       "      <td>2.0</td>\n",
       "      <td>1</td>\n",
       "      <td>1</td>\n",
       "      <td>0</td>\n",
       "      <td>1.0</td>\n",
       "      <td>4.929000</td>\n",
       "      <td>2</td>\n",
       "    </tr>\n",
       "  </tbody>\n",
       "</table>\n",
       "</div>"
      ],
      "text/plain": [
       "   Length_Employed  Home_Owner  Income_Verified  Purpose_Of_Loan  \\\n",
       "0                0           0                0                0   \n",
       "1                0           1                1                0   \n",
       "2                1           1                0                0   \n",
       "3                0           0                0                0   \n",
       "4                2           0                0                1   \n",
       "\n",
       "   Debt_To_Income  Inquiries_Last_6Mo  Months_Since_Deliquency  Gender  \\\n",
       "0            13.0                 0.0                        0       0   \n",
       "1            11.0                 0.0                        1       0   \n",
       "2             7.0                 2.0                        1       0   \n",
       "3             8.0                 0.0                        1       0   \n",
       "4             0.0                 2.0                        1       1   \n",
       "\n",
       "   Mortgage_on_house  Number_Closed_Accounts  Annual_Income_Amt_Req  \\\n",
       "0                  0                    27.0               4.690909   \n",
       "1                  1                    17.0               4.230769   \n",
       "2                  1                    15.0              12.345679   \n",
       "3                  0                     2.0               6.083333   \n",
       "4                  0                     1.0               4.929000   \n",
       "\n",
       "   Interest_Rate  \n",
       "0              2  \n",
       "1              3  \n",
       "2              3  \n",
       "3              2  \n",
       "4              2  "
      ]
     },
     "execution_count": 20,
     "metadata": {},
     "output_type": "execute_result"
    }
   ],
   "source": [
    "for i in cat_cols:\n",
    "    data[i] = data[i].map(cat_cols_map[i])\n",
    "data.head()"
   ]
  },
  {
   "cell_type": "code",
   "execution_count": 23,
   "id": "limiting-contrary",
   "metadata": {},
   "outputs": [],
   "source": [
    "data1 = data.drop('Interest_Rate',axis = 1)"
   ]
  },
  {
   "cell_type": "markdown",
   "id": "adult-composition",
   "metadata": {},
   "source": [
    "###### Standardizing the dataset for KMeans"
   ]
  },
  {
   "cell_type": "code",
   "execution_count": 26,
   "id": "molecular-transfer",
   "metadata": {},
   "outputs": [],
   "source": [
    "from sklearn.preprocessing import StandardScaler\n",
    "ss = StandardScaler()\n",
    "test_scaled = pd.DataFrame(ss.fit_transform(data1),columns = data1.columns)"
   ]
  },
  {
   "cell_type": "markdown",
   "id": "hollywood-college",
   "metadata": {},
   "source": [
    "### Applying KMeans clustering"
   ]
  },
  {
   "cell_type": "code",
   "execution_count": 27,
   "id": "played-panic",
   "metadata": {},
   "outputs": [
    {
     "data": {
      "image/png": "[encoded data removed]",
      "text/plain": [
       "<Figure size 1080x432 with 1 Axes>"
      ]
     },
     "metadata": {
      "needs_background": "light"
     },
     "output_type": "display_data"
    }
   ],
   "source": [
    "from sklearn.cluster import KMeans\n",
    "wcv = []\n",
    "for i in range(1,10):\n",
    "    km = KMeans(n_clusters = i)\n",
    "    km.fit(test_scaled)\n",
    "    wcv.append(km.inertia_)\n",
    "plt.figure(figsize = (15,6))\n",
    "plt.plot(range(1,10),wcv)\n",
    "plt.xlabel('K Clusters')\n",
    "plt.ylabel('WCV')\n",
    "plt.show()"
   ]
  },
  {
   "cell_type": "markdown",
   "id": "committed-encounter",
   "metadata": {},
   "source": [
    "### Applying KMeans with PCA"
   ]
  },
  {
   "cell_type": "code",
   "execution_count": 28,
   "id": "prime-brain",
   "metadata": {},
   "outputs": [
    {
     "data": {
      "text/plain": [
       "10"
      ]
     },
     "execution_count": 28,
     "metadata": {},
     "output_type": "execute_result"
    }
   ],
   "source": [
    "from sklearn.decomposition import PCA\n",
    "pca = PCA()\n",
    "pca.fit(test_scaled)\n",
    "cumsum = np.cumsum(pca.explained_variance_ratio_)\n",
    "np.where(cumsum>0.95)[0][1]"
   ]
  },
  {
   "cell_type": "code",
   "execution_count": 29,
   "id": "wanted-leather",
   "metadata": {},
   "outputs": [],
   "source": [
    "pca = PCA(n_components = 0.95)\n",
    "X_pca = pd.DataFrame(pca.fit_transform(test_scaled))"
   ]
  },
  {
   "cell_type": "code",
   "execution_count": 30,
   "id": "solar-miniature",
   "metadata": {},
   "outputs": [
    {
     "data": {
      "text/html": [
       "<div>\n",
       "<style scoped>\n",
       "    .dataframe tbody tr th:only-of-type {\n",
       "        vertical-align: middle;\n",
       "    }\n",
       "\n",
       "    .dataframe tbody tr th {\n",
       "        vertical-align: top;\n",
       "    }\n",
       "\n",
       "    .dataframe thead th {\n",
       "        text-align: right;\n",
       "    }\n",
       "</style>\n",
       "<table border=\"1\" class=\"dataframe\">\n",
       "  <thead>\n",
       "    <tr style=\"text-align: right;\">\n",
       "      <th></th>\n",
       "      <th>0</th>\n",
       "      <th>1</th>\n",
       "      <th>2</th>\n",
       "      <th>3</th>\n",
       "      <th>4</th>\n",
       "      <th>5</th>\n",
       "      <th>6</th>\n",
       "      <th>7</th>\n",
       "      <th>8</th>\n",
       "      <th>9</th>\n",
       "    </tr>\n",
       "  </thead>\n",
       "  <tbody>\n",
       "    <tr>\n",
       "      <th>0</th>\n",
       "      <td>-2.001544</td>\n",
       "      <td>-0.597224</td>\n",
       "      <td>-0.577443</td>\n",
       "      <td>0.186114</td>\n",
       "      <td>-0.576017</td>\n",
       "      <td>1.981498</td>\n",
       "      <td>0.212387</td>\n",
       "      <td>-0.244126</td>\n",
       "      <td>1.836224</td>\n",
       "      <td>-0.292109</td>\n",
       "    </tr>\n",
       "    <tr>\n",
       "      <th>1</th>\n",
       "      <td>0.833982</td>\n",
       "      <td>0.138806</td>\n",
       "      <td>-0.228611</td>\n",
       "      <td>-1.435688</td>\n",
       "      <td>-0.712977</td>\n",
       "      <td>0.998409</td>\n",
       "      <td>0.414535</td>\n",
       "      <td>-1.178441</td>\n",
       "      <td>0.559777</td>\n",
       "      <td>-0.840487</td>\n",
       "    </tr>\n",
       "    <tr>\n",
       "      <th>2</th>\n",
       "      <td>0.699764</td>\n",
       "      <td>0.510974</td>\n",
       "      <td>0.902417</td>\n",
       "      <td>0.816721</td>\n",
       "      <td>-0.535684</td>\n",
       "      <td>0.419960</td>\n",
       "      <td>-0.557187</td>\n",
       "      <td>-1.368868</td>\n",
       "      <td>0.883311</td>\n",
       "      <td>0.944240</td>\n",
       "    </tr>\n",
       "    <tr>\n",
       "      <th>3</th>\n",
       "      <td>-1.184627</td>\n",
       "      <td>0.214226</td>\n",
       "      <td>-1.649982</td>\n",
       "      <td>-0.269009</td>\n",
       "      <td>-0.664384</td>\n",
       "      <td>0.980198</td>\n",
       "      <td>-1.550461</td>\n",
       "      <td>-0.599603</td>\n",
       "      <td>-0.249788</td>\n",
       "      <td>0.688007</td>\n",
       "    </tr>\n",
       "    <tr>\n",
       "      <th>4</th>\n",
       "      <td>-0.855170</td>\n",
       "      <td>1.614415</td>\n",
       "      <td>-1.176962</td>\n",
       "      <td>1.756466</td>\n",
       "      <td>1.694171</td>\n",
       "      <td>-0.370858</td>\n",
       "      <td>-2.014152</td>\n",
       "      <td>-0.751615</td>\n",
       "      <td>-0.236036</td>\n",
       "      <td>-0.311919</td>\n",
       "    </tr>\n",
       "  </tbody>\n",
       "</table>\n",
       "</div>"
      ],
      "text/plain": [
       "          0         1         2         3         4         5         6  \\\n",
       "0 -2.001544 -0.597224 -0.577443  0.186114 -0.576017  1.981498  0.212387   \n",
       "1  0.833982  0.138806 -0.228611 -1.435688 -0.712977  0.998409  0.414535   \n",
       "2  0.699764  0.510974  0.902417  0.816721 -0.535684  0.419960 -0.557187   \n",
       "3 -1.184627  0.214226 -1.649982 -0.269009 -0.664384  0.980198 -1.550461   \n",
       "4 -0.855170  1.614415 -1.176962  1.756466  1.694171 -0.370858 -2.014152   \n",
       "\n",
       "          7         8         9  \n",
       "0 -0.244126  1.836224 -0.292109  \n",
       "1 -1.178441  0.559777 -0.840487  \n",
       "2 -1.368868  0.883311  0.944240  \n",
       "3 -0.599603 -0.249788  0.688007  \n",
       "4 -0.751615 -0.236036 -0.311919  "
      ]
     },
     "execution_count": 30,
     "metadata": {},
     "output_type": "execute_result"
    }
   ],
   "source": [
    "X_pca.head()"
   ]
  },
  {
   "cell_type": "markdown",
   "id": "weird-spider",
   "metadata": {},
   "source": [
    "###### Applying KMeans"
   ]
  },
  {
   "cell_type": "code",
   "execution_count": 45,
   "id": "utility-phone",
   "metadata": {},
   "outputs": [],
   "source": [
    "km = KMeans(n_clusters = 3)\n",
    "km.fit(X_pca)\n",
    "target_kmeans = pd.Series(km.predict(X_pca),name = 'Interest_Rate2')"
   ]
  },
  {
   "cell_type": "code",
   "execution_count": 66,
   "id": "functional-wholesale",
   "metadata": {},
   "outputs": [],
   "source": [
    "data2 = pd.concat((data,target_kmeans),axis = 1)"
   ]
  },
  {
   "cell_type": "code",
   "execution_count": 67,
   "id": "sporting-creek",
   "metadata": {},
   "outputs": [
    {
     "data": {
      "image/png": "[encoded data removed]",
      "text/plain": [
       "<Figure size 1296x360 with 2 Axes>"
      ]
     },
     "metadata": {
      "needs_background": "light"
     },
     "output_type": "display_data"
    }
   ],
   "source": [
    "fig,ax = plt.subplots(1,2,figsize = (18,5))\n",
    "sns.boxplot(data2['Interest_Rate'],np.log(data2['Annual_Income_Amt_Req']),ax = ax[0])\n",
    "sns.boxplot(data2['Interest_Rate2'],np.log(data2['Annual_Income_Amt_Req']),ax = ax[1])\n",
    "plt.show()"
   ]
  },
  {
   "cell_type": "code",
   "execution_count": 68,
   "id": "aware-malawi",
   "metadata": {},
   "outputs": [],
   "source": [
    "#0:2\n",
    "#1:1\n",
    "#2:3\n",
    "data2['Interest_Rate2'] = data2['Interest_Rate2'].map(dict(zip([0,1,2],[2,1,3])))"
   ]
  },
  {
   "cell_type": "code",
   "execution_count": 69,
   "id": "toxic-filing",
   "metadata": {},
   "outputs": [],
   "source": [
    "data2 = data2.drop('Interest_Rate',axis = 1)\n",
    "data2 = data2.rename({'Interest_Rate2':'Interest_Rate'},axis = 1)"
   ]
  },
  {
   "cell_type": "markdown",
   "id": "gothic-scoop",
   "metadata": {},
   "source": [
    "### Train test split"
   ]
  },
  {
   "cell_type": "code",
   "execution_count": 73,
   "id": "worthy-reproduction",
   "metadata": {},
   "outputs": [
    {
     "data": {
      "text/html": [
       "<div>\n",
       "<style scoped>\n",
       "    .dataframe tbody tr th:only-of-type {\n",
       "        vertical-align: middle;\n",
       "    }\n",
       "\n",
       "    .dataframe tbody tr th {\n",
       "        vertical-align: top;\n",
       "    }\n",
       "\n",
       "    .dataframe thead th {\n",
       "        text-align: right;\n",
       "    }\n",
       "</style>\n",
       "<table border=\"1\" class=\"dataframe\">\n",
       "  <thead>\n",
       "    <tr style=\"text-align: right;\">\n",
       "      <th></th>\n",
       "      <th>Length_Employed</th>\n",
       "      <th>Home_Owner</th>\n",
       "      <th>Income_Verified</th>\n",
       "      <th>Purpose_Of_Loan</th>\n",
       "      <th>Debt_To_Income</th>\n",
       "      <th>Inquiries_Last_6Mo</th>\n",
       "      <th>Months_Since_Deliquency</th>\n",
       "      <th>Gender</th>\n",
       "      <th>Mortgage_on_house</th>\n",
       "      <th>Number_Closed_Accounts</th>\n",
       "      <th>Annual_Income_Amt_Req</th>\n",
       "    </tr>\n",
       "  </thead>\n",
       "  <tbody>\n",
       "    <tr>\n",
       "      <th>0</th>\n",
       "      <td>0</td>\n",
       "      <td>0</td>\n",
       "      <td>0</td>\n",
       "      <td>0</td>\n",
       "      <td>13.0</td>\n",
       "      <td>0.0</td>\n",
       "      <td>0</td>\n",
       "      <td>0</td>\n",
       "      <td>0</td>\n",
       "      <td>27.0</td>\n",
       "      <td>4.690909</td>\n",
       "    </tr>\n",
       "    <tr>\n",
       "      <th>1</th>\n",
       "      <td>0</td>\n",
       "      <td>1</td>\n",
       "      <td>1</td>\n",
       "      <td>0</td>\n",
       "      <td>11.0</td>\n",
       "      <td>0.0</td>\n",
       "      <td>1</td>\n",
       "      <td>0</td>\n",
       "      <td>1</td>\n",
       "      <td>17.0</td>\n",
       "      <td>4.230769</td>\n",
       "    </tr>\n",
       "    <tr>\n",
       "      <th>2</th>\n",
       "      <td>1</td>\n",
       "      <td>1</td>\n",
       "      <td>0</td>\n",
       "      <td>0</td>\n",
       "      <td>7.0</td>\n",
       "      <td>2.0</td>\n",
       "      <td>1</td>\n",
       "      <td>0</td>\n",
       "      <td>1</td>\n",
       "      <td>15.0</td>\n",
       "      <td>12.345679</td>\n",
       "    </tr>\n",
       "    <tr>\n",
       "      <th>3</th>\n",
       "      <td>0</td>\n",
       "      <td>0</td>\n",
       "      <td>0</td>\n",
       "      <td>0</td>\n",
       "      <td>8.0</td>\n",
       "      <td>0.0</td>\n",
       "      <td>1</td>\n",
       "      <td>0</td>\n",
       "      <td>0</td>\n",
       "      <td>2.0</td>\n",
       "      <td>6.083333</td>\n",
       "    </tr>\n",
       "    <tr>\n",
       "      <th>4</th>\n",
       "      <td>2</td>\n",
       "      <td>0</td>\n",
       "      <td>0</td>\n",
       "      <td>1</td>\n",
       "      <td>0.0</td>\n",
       "      <td>2.0</td>\n",
       "      <td>1</td>\n",
       "      <td>1</td>\n",
       "      <td>0</td>\n",
       "      <td>1.0</td>\n",
       "      <td>4.929000</td>\n",
       "    </tr>\n",
       "  </tbody>\n",
       "</table>\n",
       "</div>"
      ],
      "text/plain": [
       "   Length_Employed  Home_Owner  Income_Verified  Purpose_Of_Loan  \\\n",
       "0                0           0                0                0   \n",
       "1                0           1                1                0   \n",
       "2                1           1                0                0   \n",
       "3                0           0                0                0   \n",
       "4                2           0                0                1   \n",
       "\n",
       "   Debt_To_Income  Inquiries_Last_6Mo  Months_Since_Deliquency  Gender  \\\n",
       "0            13.0                 0.0                        0       0   \n",
       "1            11.0                 0.0                        1       0   \n",
       "2             7.0                 2.0                        1       0   \n",
       "3             8.0                 0.0                        1       0   \n",
       "4             0.0                 2.0                        1       1   \n",
       "\n",
       "   Mortgage_on_house  Number_Closed_Accounts  Annual_Income_Amt_Req  \n",
       "0                  0                    27.0               4.690909  \n",
       "1                  1                    17.0               4.230769  \n",
       "2                  1                    15.0              12.345679  \n",
       "3                  0                     2.0               6.083333  \n",
       "4                  0                     1.0               4.929000  "
      ]
     },
     "execution_count": 73,
     "metadata": {},
     "output_type": "execute_result"
    }
   ],
   "source": [
    "X = data2.drop('Interest_Rate',axis = 1)\n",
    "y = data2['Interest_Rate']\n",
    "X.head()"
   ]
  },
  {
   "cell_type": "code",
   "execution_count": 74,
   "id": "otherwise-blade",
   "metadata": {},
   "outputs": [],
   "source": [
    "#train test split for normal data\n",
    "from sklearn.model_selection import train_test_split\n",
    "X_train,X_test,y_train,y_test = train_test_split(X,y,test_size = 0.1,random_state = 6)"
   ]
  },
  {
   "cell_type": "markdown",
   "id": "ancient-tradition",
   "metadata": {},
   "source": [
    "###### Standardized X y split"
   ]
  },
  {
   "cell_type": "code",
   "execution_count": 76,
   "id": "associate-utilization",
   "metadata": {},
   "outputs": [
    {
     "data": {
      "text/html": [
       "<div>\n",
       "<style scoped>\n",
       "    .dataframe tbody tr th:only-of-type {\n",
       "        vertical-align: middle;\n",
       "    }\n",
       "\n",
       "    .dataframe tbody tr th {\n",
       "        vertical-align: top;\n",
       "    }\n",
       "\n",
       "    .dataframe thead th {\n",
       "        text-align: right;\n",
       "    }\n",
       "</style>\n",
       "<table border=\"1\" class=\"dataframe\">\n",
       "  <thead>\n",
       "    <tr style=\"text-align: right;\">\n",
       "      <th></th>\n",
       "      <th>Length_Employed</th>\n",
       "      <th>Home_Owner</th>\n",
       "      <th>Income_Verified</th>\n",
       "      <th>Purpose_Of_Loan</th>\n",
       "      <th>Debt_To_Income</th>\n",
       "      <th>Inquiries_Last_6Mo</th>\n",
       "      <th>Months_Since_Deliquency</th>\n",
       "      <th>Gender</th>\n",
       "      <th>Mortgage_on_house</th>\n",
       "      <th>Number_Closed_Accounts</th>\n",
       "      <th>Annual_Income_Amt_Req</th>\n",
       "    </tr>\n",
       "  </thead>\n",
       "  <tbody>\n",
       "    <tr>\n",
       "      <th>0</th>\n",
       "      <td>-1.235956</td>\n",
       "      <td>-1.003731</td>\n",
       "      <td>-0.693451</td>\n",
       "      <td>-0.432584</td>\n",
       "      <td>-0.547321</td>\n",
       "      <td>-0.749698</td>\n",
       "      <td>-1.945139</td>\n",
       "      <td>-0.635610</td>\n",
       "      <td>-1.177843</td>\n",
       "      <td>1.682286</td>\n",
       "      <td>-0.297730</td>\n",
       "    </tr>\n",
       "    <tr>\n",
       "      <th>1</th>\n",
       "      <td>-1.235956</td>\n",
       "      <td>0.584843</td>\n",
       "      <td>1.442063</td>\n",
       "      <td>-0.432584</td>\n",
       "      <td>-0.803406</td>\n",
       "      <td>-0.749698</td>\n",
       "      <td>-0.364357</td>\n",
       "      <td>-0.635610</td>\n",
       "      <td>0.849010</td>\n",
       "      <td>0.463610</td>\n",
       "      <td>-0.373017</td>\n",
       "    </tr>\n",
       "    <tr>\n",
       "      <th>2</th>\n",
       "      <td>-0.417968</td>\n",
       "      <td>0.584843</td>\n",
       "      <td>-0.693451</td>\n",
       "      <td>-0.432584</td>\n",
       "      <td>-1.315577</td>\n",
       "      <td>1.207704</td>\n",
       "      <td>-0.364357</td>\n",
       "      <td>-0.635610</td>\n",
       "      <td>0.849010</td>\n",
       "      <td>0.219875</td>\n",
       "      <td>0.954731</td>\n",
       "    </tr>\n",
       "    <tr>\n",
       "      <th>3</th>\n",
       "      <td>-1.235956</td>\n",
       "      <td>-1.003731</td>\n",
       "      <td>-0.693451</td>\n",
       "      <td>-0.432584</td>\n",
       "      <td>-1.187535</td>\n",
       "      <td>-0.749698</td>\n",
       "      <td>-0.364357</td>\n",
       "      <td>-0.635610</td>\n",
       "      <td>-1.177843</td>\n",
       "      <td>-1.364404</td>\n",
       "      <td>-0.069904</td>\n",
       "    </tr>\n",
       "    <tr>\n",
       "      <th>4</th>\n",
       "      <td>0.400019</td>\n",
       "      <td>-1.003731</td>\n",
       "      <td>-0.693451</td>\n",
       "      <td>1.159573</td>\n",
       "      <td>-2.211877</td>\n",
       "      <td>1.207704</td>\n",
       "      <td>-0.364357</td>\n",
       "      <td>1.573292</td>\n",
       "      <td>-1.177843</td>\n",
       "      <td>-1.486272</td>\n",
       "      <td>-0.258774</td>\n",
       "    </tr>\n",
       "  </tbody>\n",
       "</table>\n",
       "</div>"
      ],
      "text/plain": [
       "   Length_Employed  Home_Owner  Income_Verified  Purpose_Of_Loan  \\\n",
       "0        -1.235956   -1.003731        -0.693451        -0.432584   \n",
       "1        -1.235956    0.584843         1.442063        -0.432584   \n",
       "2        -0.417968    0.584843        -0.693451        -0.432584   \n",
       "3        -1.235956   -1.003731        -0.693451        -0.432584   \n",
       "4         0.400019   -1.003731        -0.693451         1.159573   \n",
       "\n",
       "   Debt_To_Income  Inquiries_Last_6Mo  Months_Since_Deliquency    Gender  \\\n",
       "0       -0.547321           -0.749698                -1.945139 -0.635610   \n",
       "1       -0.803406           -0.749698                -0.364357 -0.635610   \n",
       "2       -1.315577            1.207704                -0.364357 -0.635610   \n",
       "3       -1.187535           -0.749698                -0.364357 -0.635610   \n",
       "4       -2.211877            1.207704                -0.364357  1.573292   \n",
       "\n",
       "   Mortgage_on_house  Number_Closed_Accounts  Annual_Income_Amt_Req  \n",
       "0          -1.177843                1.682286              -0.297730  \n",
       "1           0.849010                0.463610              -0.373017  \n",
       "2           0.849010                0.219875               0.954731  \n",
       "3          -1.177843               -1.364404              -0.069904  \n",
       "4          -1.177843               -1.486272              -0.258774  "
      ]
     },
     "execution_count": 76,
     "metadata": {},
     "output_type": "execute_result"
    }
   ],
   "source": [
    "#Standardized X y split\n",
    "from sklearn.preprocessing import StandardScaler\n",
    "ss = StandardScaler()\n",
    "X_scaled = pd.DataFrame(ss.fit_transform(X),columns = X.columns)\n",
    "X_scaled.head()"
   ]
  },
  {
   "cell_type": "code",
   "execution_count": 77,
   "id": "enormous-headset",
   "metadata": {},
   "outputs": [],
   "source": [
    "#train test split for standardized data\n",
    "from sklearn.model_selection import train_test_split\n",
    "X1_train,X1_test,y1_train,y1_test = train_test_split(X_scaled,y,test_size = 0.1,random_state = 6)"
   ]
  },
  {
   "cell_type": "markdown",
   "id": "formal-consciousness",
   "metadata": {},
   "source": [
    "### Model Building\n",
    "\n",
    "###### Building the following Models:\n",
    "* LogisticRegression\n",
    "* DecisionTreeClassifier\n",
    "* RandomForestClassifier"
   ]
  },
  {
   "cell_type": "code",
   "execution_count": 78,
   "id": "starting-volleyball",
   "metadata": {},
   "outputs": [],
   "source": [
    "from sklearn.linear_model import LogisticRegression\n",
    "lr = LogisticRegression()\n",
    "lr.fit(X1_train,y1_train)\n",
    "ypred = lr.predict(X1_test)"
   ]
  },
  {
   "cell_type": "code",
   "execution_count": 79,
   "id": "nonprofit-elder",
   "metadata": {},
   "outputs": [
    {
     "name": "stdout",
     "output_type": "stream",
     "text": [
      "              precision    recall  f1-score   support\n",
      "\n",
      "           1       1.00      1.00      1.00      2917\n",
      "           2       1.00      1.00      1.00     10134\n",
      "           3       1.00      1.00      1.00     12497\n",
      "\n",
      "    accuracy                           1.00     25548\n",
      "   macro avg       1.00      1.00      1.00     25548\n",
      "weighted avg       1.00      1.00      1.00     25548\n",
      "\n"
     ]
    }
   ],
   "source": [
    "from sklearn.metrics import classification_report\n",
    "print(classification_report(ypred,y1_test))"
   ]
  },
  {
   "cell_type": "markdown",
   "id": "caroline-theology",
   "metadata": {},
   "source": [
    "###### Creating a base  function for all models"
   ]
  },
  {
   "cell_type": "code",
   "execution_count": 80,
   "id": "removable-isolation",
   "metadata": {},
   "outputs": [],
   "source": [
    "def model_function(model,X_train,X_test,y_train,y_test):\n",
    "    #Fitting the model\n",
    "    model = model\n",
    "    model.fit(X_train,y_train)\n",
    "    y_pred = model.predict(X_test)\n",
    "    print('*'*95)\n",
    "    print(\"\\n\"+\"\\033[1m\"+'Model Report for '+str(model)+\"\\033[0;0m\"+\"\\n\")\n",
    "    print('*'*95)\n",
    "\n",
    "    #Performance metrics\n",
    "    from sklearn.metrics import classification_report\n",
    "    print(classification_report(y_test,y_pred))\n",
    "\n",
    "    #Confusion_Matrix\n",
    "    from sklearn.metrics import confusion_matrix\n",
    "    cm = confusion_matrix(y_test,y_pred)\n",
    "    plt.figure(figsize = (15,6))\n",
    "    sns.heatmap(cm,annot = True,fmt = '.2f')\n",
    "    plt.title('Confusion Matrix')\n",
    "    plt.xticks([0.5,1.5,2.5],[1,2,3])\n",
    "    plt.yticks([0.5,1.5,2.5],[1,2,3])\n",
    "    plt.xlabel('Predicted')\n",
    "    plt.ylabel('Actual')\n",
    "    plt.show()\n",
    "\n",
    "def grid_search(estimator,params,X_train,y_train,cv=5,v=0):\n",
    "    from sklearn.model_selection import GridSearchCV\n",
    "    grid = GridSearchCV(estimator,params,scoring = 'roc_auc',n_jobs = -1,cv = cv,verbose = v)\n",
    "    grid.fit(X_train,y_train)\n",
    "    return grid.best_params_"
   ]
  },
  {
   "cell_type": "code",
   "execution_count": 81,
   "id": "egyptian-commission",
   "metadata": {},
   "outputs": [
    {
     "name": "stdout",
     "output_type": "stream",
     "text": [
      "***********************************************************************************************\n",
      "\n",
      "\u001b[1mModel Report for DecisionTreeClassifier()\u001b[0;0m\n",
      "\n",
      "***********************************************************************************************\n",
      "              precision    recall  f1-score   support\n",
      "\n",
      "           1       0.99      0.99      0.99      2911\n",
      "           2       1.00      1.00      1.00     10138\n",
      "           3       1.00      1.00      1.00     12499\n",
      "\n",
      "    accuracy                           1.00     25548\n",
      "   macro avg       0.99      0.99      0.99     25548\n",
      "weighted avg       1.00      1.00      1.00     25548\n",
      "\n"
     ]
    },
    {
     "data": {
      "image/png": "[encoded data removed]",
      "text/plain": [
       "<Figure size 1080x432 with 2 Axes>"
      ]
     },
     "metadata": {
      "needs_background": "light"
     },
     "output_type": "display_data"
    }
   ],
   "source": [
    "from sklearn.tree import DecisionTreeClassifier\n",
    "dtf = DecisionTreeClassifier()\n",
    "model_function(dtf,X_train,X_test,y_train,y_test)"
   ]
  },
  {
   "cell_type": "code",
   "execution_count": 82,
   "id": "computational-amber",
   "metadata": {},
   "outputs": [
    {
     "name": "stdout",
     "output_type": "stream",
     "text": [
      "***********************************************************************************************\n",
      "\n",
      "\u001b[1mModel Report for RandomForestClassifier()\u001b[0;0m\n",
      "\n",
      "***********************************************************************************************\n",
      "              precision    recall  f1-score   support\n",
      "\n",
      "           1       0.99      0.99      0.99      2911\n",
      "           2       1.00      1.00      1.00     10138\n",
      "           3       1.00      1.00      1.00     12499\n",
      "\n",
      "    accuracy                           1.00     25548\n",
      "   macro avg       1.00      1.00      1.00     25548\n",
      "weighted avg       1.00      1.00      1.00     25548\n",
      "\n"
     ]
    },
    {
     "data": {
      "image/png": "[encoded data removed]",
      "text/plain": [
       "<Figure size 1080x432 with 2 Axes>"
      ]
     },
     "metadata": {
      "needs_background": "light"
     },
     "output_type": "display_data"
    }
   ],
   "source": [
    "#Base model\n",
    "from sklearn.ensemble import RandomForestClassifier\n",
    "rfc = RandomForestClassifier()\n",
    "model_function(rfc,X_train,X_test,y_train,y_test)"
   ]
  },
  {
   "cell_type": "code",
   "execution_count": 83,
   "id": "pointed-muscle",
   "metadata": {},
   "outputs": [
    {
     "name": "stdout",
     "output_type": "stream",
     "text": [
      "***********************************************************************************************\n",
      "\n",
      "\u001b[1mModel Report for GradientBoostingClassifier()\u001b[0;0m\n",
      "\n",
      "***********************************************************************************************\n",
      "              precision    recall  f1-score   support\n",
      "\n",
      "           1       0.99      0.98      0.99      2911\n",
      "           2       1.00      1.00      1.00     10138\n",
      "           3       1.00      1.00      1.00     12499\n",
      "\n",
      "    accuracy                           1.00     25548\n",
      "   macro avg       1.00      0.99      0.99     25548\n",
      "weighted avg       1.00      1.00      1.00     25548\n",
      "\n"
     ]
    },
    {
     "data": {
      "image/png": "[encoded data removed]",
      "text/plain": [
       "<Figure size 1080x432 with 2 Axes>"
      ]
     },
     "metadata": {
      "needs_background": "light"
     },
     "output_type": "display_data"
    }
   ],
   "source": [
    "#Base GradientBoostingClassifier\n",
    "from sklearn.ensemble import GradientBoostingClassifier\n",
    "gbc = GradientBoostingClassifier()\n",
    "model_function(gbc,X_train,X_test,y_train,y_test)"
   ]
  },
  {
   "cell_type": "code",
   "execution_count": null,
   "id": "single-technique",
   "metadata": {},
   "outputs": [],
   "source": []
  },
  {
   "cell_type": "code",
   "execution_count": null,
   "id": "international-softball",
   "metadata": {},
   "outputs": [],
   "source": []
  }
 ],
 "metadata": {
  "kernelspec": {
   "display_name": "Python 3",
   "language": "python",
   "name": "python3"
  },
  "language_info": {
   "codemirror_mode": {
    "name": "ipython",
    "version": 3
   },
   "file_extension": ".py",
   "mimetype": "text/x-python",
   "name": "python",
   "nbconvert_exporter": "python",
   "pygments_lexer": "ipython3",
   "version": "3.7.10"
  }
 },
 "nbformat": 4,
 "nbformat_minor": 5
}
